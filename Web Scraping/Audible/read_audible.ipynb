{
 "cells": [
  {
   "cell_type": "code",
   "execution_count": 1,
   "metadata": {},
   "outputs": [],
   "source": [
    "import pandas as pd"
   ]
  },
  {
   "cell_type": "code",
   "execution_count": 5,
   "metadata": {},
   "outputs": [],
   "source": [
    "file = 'audible_results2.csv'\n",
    "df = pd.read_csv(file)"
   ]
  },
  {
   "cell_type": "code",
   "execution_count": 6,
   "metadata": {},
   "outputs": [
    {
     "data": {
      "text/html": [
       "<div>\n",
       "<style scoped>\n",
       "    .dataframe tbody tr th:only-of-type {\n",
       "        vertical-align: middle;\n",
       "    }\n",
       "\n",
       "    .dataframe tbody tr th {\n",
       "        vertical-align: top;\n",
       "    }\n",
       "\n",
       "    .dataframe thead th {\n",
       "        text-align: right;\n",
       "    }\n",
       "</style>\n",
       "<table border=\"1\" class=\"dataframe\">\n",
       "  <thead>\n",
       "    <tr style=\"text-align: right;\">\n",
       "      <th></th>\n",
       "      <th>title</th>\n",
       "      <th>subtitle</th>\n",
       "      <th>narrator</th>\n",
       "      <th>runtime</th>\n",
       "      <th>release</th>\n",
       "      <th>language</th>\n",
       "      <th>ratings</th>\n",
       "      <th>price</th>\n",
       "      <th>link</th>\n",
       "    </tr>\n",
       "  </thead>\n",
       "  <tbody>\n",
       "    <tr>\n",
       "      <th>0</th>\n",
       "      <td>1. Never Finished</td>\n",
       "      <td>Unshackle Your Mind and Win the War Within</td>\n",
       "      <td>Narrated by: David Goggins, Adam Skolnick, Jac...</td>\n",
       "      <td>Length: 11 hrs and 6 mins</td>\n",
       "      <td>Release date: 12-06-22</td>\n",
       "      <td>Language: English</td>\n",
       "      <td>5 out of 5 stars\\n4,734 ratings</td>\n",
       "      <td>$24.95</td>\n",
       "      <td>https://www.audible.com/pd/Never-Finished-Audi...</td>\n",
       "    </tr>\n",
       "    <tr>\n",
       "      <th>1</th>\n",
       "      <td>2. The Light We Carry</td>\n",
       "      <td>Overcoming in Uncertain Times</td>\n",
       "      <td>Narrated by: Michelle Obama</td>\n",
       "      <td>Length: 9 hrs and 59 mins</td>\n",
       "      <td>Release date: 11-15-22</td>\n",
       "      <td>Language: English</td>\n",
       "      <td>5 out of 5 stars\\n2,630 ratings</td>\n",
       "      <td>$35.00</td>\n",
       "      <td>https://www.audible.com/pd/The-Light-We-Carry-...</td>\n",
       "    </tr>\n",
       "    <tr>\n",
       "      <th>2</th>\n",
       "      <td>3. Atomic Habits</td>\n",
       "      <td>An Easy &amp; Proven Way to Build Good Habits &amp; Br...</td>\n",
       "      <td>Narrated by: James Clear</td>\n",
       "      <td>Length: 5 hrs and 35 mins</td>\n",
       "      <td>Release date: 10-16-18</td>\n",
       "      <td>Language: English</td>\n",
       "      <td>5 out of 5 stars\\n115,865 ratings</td>\n",
       "      <td>$16.72</td>\n",
       "      <td>https://www.audible.com/pd/Atomic-Habits-Audio...</td>\n",
       "    </tr>\n",
       "    <tr>\n",
       "      <th>3</th>\n",
       "      <td>4. Fairy Tale</td>\n",
       "      <td>no subtitle</td>\n",
       "      <td>Narrated by: Seth Numrich, Stephen King</td>\n",
       "      <td>Length: 24 hrs and 6 mins</td>\n",
       "      <td>Release date: 09-06-22</td>\n",
       "      <td>Language: English</td>\n",
       "      <td>5 out of 5 stars\\n47,383 ratings</td>\n",
       "      <td>$26.90</td>\n",
       "      <td>https://www.audible.com/pd/Fairy-Tale-Audioboo...</td>\n",
       "    </tr>\n",
       "    <tr>\n",
       "      <th>4</th>\n",
       "      <td>5. I'm Glad My Mom Died</td>\n",
       "      <td>no subtitle</td>\n",
       "      <td>Narrated by: Jennette McCurdy</td>\n",
       "      <td>Length: 6 hrs and 26 mins</td>\n",
       "      <td>Release date: 08-09-22</td>\n",
       "      <td>Language: English</td>\n",
       "      <td>5 out of 5 stars\\n79,390 ratings</td>\n",
       "      <td>$13.99</td>\n",
       "      <td>https://www.audible.com/pd/Im-Glad-My-Mom-Died...</td>\n",
       "    </tr>\n",
       "  </tbody>\n",
       "</table>\n",
       "</div>"
      ],
      "text/plain": [
       "                     title                                           subtitle  \\\n",
       "0        1. Never Finished         Unshackle Your Mind and Win the War Within   \n",
       "1    2. The Light We Carry                      Overcoming in Uncertain Times   \n",
       "2         3. Atomic Habits  An Easy & Proven Way to Build Good Habits & Br...   \n",
       "3            4. Fairy Tale                                        no subtitle   \n",
       "4  5. I'm Glad My Mom Died                                        no subtitle   \n",
       "\n",
       "                                            narrator  \\\n",
       "0  Narrated by: David Goggins, Adam Skolnick, Jac...   \n",
       "1                        Narrated by: Michelle Obama   \n",
       "2                           Narrated by: James Clear   \n",
       "3            Narrated by: Seth Numrich, Stephen King   \n",
       "4                      Narrated by: Jennette McCurdy   \n",
       "\n",
       "                     runtime                 release           language  \\\n",
       "0  Length: 11 hrs and 6 mins  Release date: 12-06-22  Language: English   \n",
       "1  Length: 9 hrs and 59 mins  Release date: 11-15-22  Language: English   \n",
       "2  Length: 5 hrs and 35 mins  Release date: 10-16-18  Language: English   \n",
       "3  Length: 24 hrs and 6 mins  Release date: 09-06-22  Language: English   \n",
       "4  Length: 6 hrs and 26 mins  Release date: 08-09-22  Language: English   \n",
       "\n",
       "                             ratings   price  \\\n",
       "0    5 out of 5 stars\\n4,734 ratings  $24.95   \n",
       "1    5 out of 5 stars\\n2,630 ratings  $35.00   \n",
       "2  5 out of 5 stars\\n115,865 ratings  $16.72   \n",
       "3   5 out of 5 stars\\n47,383 ratings  $26.90   \n",
       "4   5 out of 5 stars\\n79,390 ratings  $13.99   \n",
       "\n",
       "                                                link  \n",
       "0  https://www.audible.com/pd/Never-Finished-Audi...  \n",
       "1  https://www.audible.com/pd/The-Light-We-Carry-...  \n",
       "2  https://www.audible.com/pd/Atomic-Habits-Audio...  \n",
       "3  https://www.audible.com/pd/Fairy-Tale-Audioboo...  \n",
       "4  https://www.audible.com/pd/Im-Glad-My-Mom-Died...  "
      ]
     },
     "execution_count": 6,
     "metadata": {},
     "output_type": "execute_result"
    }
   ],
   "source": [
    "df.head()"
   ]
  },
  {
   "cell_type": "code",
   "execution_count": 7,
   "metadata": {},
   "outputs": [
    {
     "name": "stdout",
     "output_type": "stream",
     "text": [
      "<class 'pandas.core.frame.DataFrame'>\n",
      "RangeIndex: 100 entries, 0 to 99\n",
      "Data columns (total 9 columns):\n",
      " #   Column    Non-Null Count  Dtype \n",
      "---  ------    --------------  ----- \n",
      " 0   title     100 non-null    object\n",
      " 1   subtitle  100 non-null    object\n",
      " 2   narrator  100 non-null    object\n",
      " 3   runtime   100 non-null    object\n",
      " 4   release   100 non-null    object\n",
      " 5   language  100 non-null    object\n",
      " 6   ratings   100 non-null    object\n",
      " 7   price     100 non-null    object\n",
      " 8   link      100 non-null    object\n",
      "dtypes: object(9)\n",
      "memory usage: 7.2+ KB\n"
     ]
    }
   ],
   "source": [
    "df.info()"
   ]
  },
  {
   "cell_type": "code",
   "execution_count": null,
   "metadata": {},
   "outputs": [],
   "source": []
  }
 ],
 "metadata": {
  "kernelspec": {
   "display_name": "web_scraping",
   "language": "python",
   "name": "python3"
  },
  "language_info": {
   "codemirror_mode": {
    "name": "ipython",
    "version": 3
   },
   "file_extension": ".py",
   "mimetype": "text/x-python",
   "name": "python",
   "nbconvert_exporter": "python",
   "pygments_lexer": "ipython3",
   "version": "3.10.8 | packaged by conda-forge | (main, Nov 22 2022, 08:16:33) [MSC v.1929 64 bit (AMD64)]"
  },
  "orig_nbformat": 4,
  "vscode": {
   "interpreter": {
    "hash": "329c192069316fcb6512780efedd4ab9c012be8c5ead6afa2b87627280f087b7"
   }
  }
 },
 "nbformat": 4,
 "nbformat_minor": 2
}
