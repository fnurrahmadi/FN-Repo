{
 "cells": [
  {
   "cell_type": "code",
   "execution_count": 4,
   "metadata": {},
   "outputs": [],
   "source": [
    "import pandas as pd"
   ]
  },
  {
   "cell_type": "code",
   "execution_count": 5,
   "metadata": {},
   "outputs": [
    {
     "data": {
      "text/html": [
       "<div>\n",
       "<style scoped>\n",
       "    .dataframe tbody tr th:only-of-type {\n",
       "        vertical-align: middle;\n",
       "    }\n",
       "\n",
       "    .dataframe tbody tr th {\n",
       "        vertical-align: top;\n",
       "    }\n",
       "\n",
       "    .dataframe thead th {\n",
       "        text-align: right;\n",
       "    }\n",
       "</style>\n",
       "<table border=\"1\" class=\"dataframe\">\n",
       "  <thead>\n",
       "    <tr style=\"text-align: right;\">\n",
       "      <th></th>\n",
       "      <th>movies</th>\n",
       "      <th>links</th>\n",
       "    </tr>\n",
       "  </thead>\n",
       "  <tbody>\n",
       "    <tr>\n",
       "      <th>0</th>\n",
       "      <td>Hibiki: Shôsetsuka ni naru hôhô (2018)</td>\n",
       "      <td>movie/Hibiki_Shsetsuka_ni_naru_hh-7754222</td>\n",
       "    </tr>\n",
       "    <tr>\n",
       "      <th>1</th>\n",
       "      <td>Bone Eater (2007)</td>\n",
       "      <td>movie/Bone_Eater-796306</td>\n",
       "    </tr>\n",
       "    <tr>\n",
       "      <th>2</th>\n",
       "      <td>Renegades (2022)</td>\n",
       "      <td>movie/Renegades-11696276</td>\n",
       "    </tr>\n",
       "    <tr>\n",
       "      <th>3</th>\n",
       "      <td>As Good As Dead (2022)</td>\n",
       "      <td>movie/As_Good_As_Dead-15131266</td>\n",
       "    </tr>\n",
       "    <tr>\n",
       "      <th>4</th>\n",
       "      <td>Christmas Ranch (2016)</td>\n",
       "      <td>movie/Christmas_Ranch-4959876</td>\n",
       "    </tr>\n",
       "  </tbody>\n",
       "</table>\n",
       "</div>"
      ],
      "text/plain": [
       "                                   movies  \\\n",
       "0  Hibiki: Shôsetsuka ni naru hôhô (2018)   \n",
       "1                       Bone Eater (2007)   \n",
       "2                        Renegades (2022)   \n",
       "3                  As Good As Dead (2022)   \n",
       "4                  Christmas Ranch (2016)   \n",
       "\n",
       "                                       links  \n",
       "0  movie/Hibiki_Shsetsuka_ni_naru_hh-7754222  \n",
       "1                    movie/Bone_Eater-796306  \n",
       "2                   movie/Renegades-11696276  \n",
       "3             movie/As_Good_As_Dead-15131266  \n",
       "4              movie/Christmas_Ranch-4959876  "
      ]
     },
     "execution_count": 5,
     "metadata": {},
     "output_type": "execute_result"
    }
   ],
   "source": [
    "file = 'dataset_scripts_movies.csv'\n",
    "df = pd.read_csv(file, sep=';')\n",
    "df.head()"
   ]
  },
  {
   "cell_type": "code",
   "execution_count": 6,
   "metadata": {},
   "outputs": [
    {
     "name": "stdout",
     "output_type": "stream",
     "text": [
      "<class 'pandas.core.frame.DataFrame'>\n",
      "RangeIndex: 51145 entries, 0 to 51144\n",
      "Data columns (total 2 columns):\n",
      " #   Column  Non-Null Count  Dtype \n",
      "---  ------  --------------  ----- \n",
      " 0   movies  51145 non-null  object\n",
      " 1   links   51145 non-null  object\n",
      "dtypes: object(2)\n",
      "memory usage: 799.3+ KB\n"
     ]
    }
   ],
   "source": [
    "df.info()"
   ]
  },
  {
   "cell_type": "code",
   "execution_count": null,
   "metadata": {},
   "outputs": [],
   "source": []
  },
  {
   "cell_type": "code",
   "execution_count": 7,
   "metadata": {},
   "outputs": [],
   "source": [
    "from bs4 import BeautifulSoup\n",
    "import time\n",
    "import requests"
   ]
  },
  {
   "cell_type": "code",
   "execution_count": 8,
   "metadata": {},
   "outputs": [],
   "source": [
    "root = 'https://subslikescript.com'\n",
    "web = f'{root}/movies'"
   ]
  },
  {
   "cell_type": "code",
   "execution_count": 9,
   "metadata": {},
   "outputs": [],
   "source": [
    "result = requests.get(web)\n",
    "content = result.text\n",
    "soup = BeautifulSoup(content, 'lxml')\n",
    "\n",
    "pagination = soup.find('ul', class_='pagination')\n",
    "pages = pagination.find_all('li', class_='page-item')\n",
    "start_page = 1\n",
    "last_page = pages[-2].text"
   ]
  },
  {
   "cell_type": "code",
   "execution_count": 20,
   "metadata": {},
   "outputs": [
    {
     "data": {
      "text/plain": [
       "'movie/Hibiki_Shsetsuka_ni_naru_hh-7754222'"
      ]
     },
     "execution_count": 20,
     "metadata": {},
     "output_type": "execute_result"
    }
   ],
   "source": [
    "df['links'].values[0]"
   ]
  },
  {
   "cell_type": "code",
   "execution_count": 23,
   "metadata": {},
   "outputs": [
    {
     "data": {
      "text/plain": [
       "'movie/Richelieu_la_pourpre_et_le_sang-3156284'"
      ]
     },
     "execution_count": 23,
     "metadata": {},
     "output_type": "execute_result"
    }
   ],
   "source": [
    "df['links'].values[4999]"
   ]
  },
  {
   "cell_type": "code",
   "execution_count": 11,
   "metadata": {},
   "outputs": [],
   "source": [
    "links = []\n",
    "scripts = []"
   ]
  },
  {
   "cell_type": "code",
   "execution_count": 12,
   "metadata": {},
   "outputs": [],
   "source": [
    "total = len(df['links'].values)"
   ]
  },
  {
   "cell_type": "code",
   "execution_count": 46,
   "metadata": {},
   "outputs": [
    {
     "name": "stdout",
     "output_type": "stream",
     "text": [
      "Accessed movie/Blindspotting-7242142\n",
      "Script 51143 out of 51145\n",
      "Accessed movie/Robin_Hood_The_Rebellion-7052244\n",
      "Script 51144 out of 51145\n",
      "Accessed movie/Woman_on_the_Beach-835787\n",
      "Script 51145 out of 51145\n",
      "--- 4.502745866775513 seconds ---\n"
     ]
    }
   ],
   "source": [
    "start_time = time.time()\n",
    "\n",
    "for link in df['links'].values[51142  :51145]:\n",
    "    try:\n",
    "        web = f'{root}/{link}'\n",
    "        result = requests.get(web)\n",
    "        content = result.text\n",
    "        soup = BeautifulSoup(content, 'lxml')\n",
    "        box = soup.find('article', class_='main-article')\n",
    "        # title = box.find('h1').get_text()\n",
    "        script = box.find('div', class_='full-script').get_text(strip=True, separator=' ')\n",
    "        links.append(link)\n",
    "        scripts.append(script)\n",
    "        print(f'Accessed {link}')\n",
    "    except:\n",
    "        print(f'Link {link} failed')\n",
    "    n = len(scripts)\n",
    "    print(f'Script {n} out of {total}')\n",
    "\n",
    "total_time = time.time() - start_time\n",
    "print(\"--- %s seconds ---\" % (total_time))"
   ]
  },
  {
   "cell_type": "code",
   "execution_count": 47,
   "metadata": {},
   "outputs": [
    {
     "name": "stdout",
     "output_type": "stream",
     "text": [
      "Links: 51145\n",
      "Scripts: 51145\n",
      "\n",
      "0 left out of 51145\n"
     ]
    }
   ],
   "source": [
    "print(f'Links: {len(links)}')\n",
    "print(f'Scripts: {len(scripts)}')\n",
    "print()\n",
    "print(f'{total - len(links)} left out of {total}')"
   ]
  },
  {
   "cell_type": "code",
   "execution_count": 48,
   "metadata": {},
   "outputs": [
    {
     "data": {
      "text/html": [
       "<div>\n",
       "<style scoped>\n",
       "    .dataframe tbody tr th:only-of-type {\n",
       "        vertical-align: middle;\n",
       "    }\n",
       "\n",
       "    .dataframe tbody tr th {\n",
       "        vertical-align: top;\n",
       "    }\n",
       "\n",
       "    .dataframe thead th {\n",
       "        text-align: right;\n",
       "    }\n",
       "</style>\n",
       "<table border=\"1\" class=\"dataframe\">\n",
       "  <thead>\n",
       "    <tr style=\"text-align: right;\">\n",
       "      <th></th>\n",
       "      <th>link</th>\n",
       "      <th>script</th>\n",
       "    </tr>\n",
       "  </thead>\n",
       "  <tbody>\n",
       "    <tr>\n",
       "      <th>0</th>\n",
       "      <td>movie/Hibiki_Shsetsuka_ni_naru_hh-7754222</td>\n",
       "      <td>Hitotsubashi, Chiwakeda-ku, Tokyo 3-4-2 Shoron...</td>\n",
       "    </tr>\n",
       "    <tr>\n",
       "      <th>1</th>\n",
       "      <td>movie/Bone_Eater-796306</td>\n",
       "      <td>Chuck, see what it is. Hey, Miller, we got som...</td>\n",
       "    </tr>\n",
       "    <tr>\n",
       "      <th>2</th>\n",
       "      <td>movie/Renegades-11696276</td>\n",
       "      <td>OX-2 is in the air. I repeat, OX-2 is in the a...</td>\n",
       "    </tr>\n",
       "    <tr>\n",
       "      <th>3</th>\n",
       "      <td>movie/As_Good_As_Dead-15131266</td>\n",
       "      <td>[dramatic music] [metal clanking] [Heather pan...</td>\n",
       "    </tr>\n",
       "    <tr>\n",
       "      <th>4</th>\n",
       "      <td>movie/Christmas_Ranch-4959876</td>\n",
       "      <td>[inaudible] [Phil sighs] Don't worry, Mare. I'...</td>\n",
       "    </tr>\n",
       "  </tbody>\n",
       "</table>\n",
       "</div>"
      ],
      "text/plain": [
       "                                        link  \\\n",
       "0  movie/Hibiki_Shsetsuka_ni_naru_hh-7754222   \n",
       "1                    movie/Bone_Eater-796306   \n",
       "2                   movie/Renegades-11696276   \n",
       "3             movie/As_Good_As_Dead-15131266   \n",
       "4              movie/Christmas_Ranch-4959876   \n",
       "\n",
       "                                              script  \n",
       "0  Hitotsubashi, Chiwakeda-ku, Tokyo 3-4-2 Shoron...  \n",
       "1  Chuck, see what it is. Hey, Miller, we got som...  \n",
       "2  OX-2 is in the air. I repeat, OX-2 is in the a...  \n",
       "3  [dramatic music] [metal clanking] [Heather pan...  \n",
       "4  [inaudible] [Phil sighs] Don't worry, Mare. I'...  "
      ]
     },
     "execution_count": 48,
     "metadata": {},
     "output_type": "execute_result"
    }
   ],
   "source": [
    "dict_scripts = {\n",
    "    'link':links,\n",
    "    'script':scripts\n",
    "}\n",
    "\n",
    "df_scripts = pd.DataFrame.from_dict(dict_scripts)\n",
    "df_scripts.head()"
   ]
  },
  {
   "cell_type": "code",
   "execution_count": 49,
   "metadata": {},
   "outputs": [
    {
     "name": "stdout",
     "output_type": "stream",
     "text": [
      "<class 'pandas.core.frame.DataFrame'>\n",
      "RangeIndex: 51145 entries, 0 to 51144\n",
      "Data columns (total 2 columns):\n",
      " #   Column  Non-Null Count  Dtype \n",
      "---  ------  --------------  ----- \n",
      " 0   link    51145 non-null  object\n",
      " 1   script  51145 non-null  object\n",
      "dtypes: object(2)\n",
      "memory usage: 799.3+ KB\n"
     ]
    }
   ],
   "source": [
    "df_scripts.info()"
   ]
  },
  {
   "cell_type": "code",
   "execution_count": 50,
   "metadata": {},
   "outputs": [],
   "source": [
    "df_scripts.to_csv('dataset_scripts.csv', index=False)"
   ]
  },
  {
   "cell_type": "code",
   "execution_count": null,
   "metadata": {},
   "outputs": [],
   "source": []
  }
 ],
 "metadata": {
  "kernelspec": {
   "display_name": "web_scraping",
   "language": "python",
   "name": "python3"
  },
  "language_info": {
   "codemirror_mode": {
    "name": "ipython",
    "version": 3
   },
   "file_extension": ".py",
   "mimetype": "text/x-python",
   "name": "python",
   "nbconvert_exporter": "python",
   "pygments_lexer": "ipython3",
   "version": "3.10.8 | packaged by conda-forge | (main, Nov 22 2022, 08:16:33) [MSC v.1929 64 bit (AMD64)]"
  },
  "orig_nbformat": 4,
  "vscode": {
   "interpreter": {
    "hash": "329c192069316fcb6512780efedd4ab9c012be8c5ead6afa2b87627280f087b7"
   }
  }
 },
 "nbformat": 4,
 "nbformat_minor": 2
}
