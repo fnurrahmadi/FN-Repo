{
 "cells": [
  {
   "cell_type": "code",
   "execution_count": 1,
   "metadata": {},
   "outputs": [],
   "source": [
    "import pandas as pd"
   ]
  },
  {
   "cell_type": "code",
   "execution_count": 3,
   "metadata": {},
   "outputs": [
    {
     "name": "stdout",
     "output_type": "stream",
     "text": [
      "<class 'pandas.core.frame.DataFrame'>\n",
      "RangeIndex: 53679 entries, 0 to 53678\n",
      "Data columns (total 3 columns):\n",
      " #   Column  Non-Null Count  Dtype \n",
      "---  ------  --------------  ----- \n",
      " 0   movies  53679 non-null  object\n",
      " 1   links   53679 non-null  object\n",
      " 2   script  53679 non-null  object\n",
      "dtypes: object(3)\n",
      "memory usage: 1.2+ MB\n"
     ]
    }
   ],
   "source": [
    "df = pd.read_csv('dataset.csv', encoding='utf-8', delimiter=';')\n",
    "df.info()"
   ]
  },
  {
   "cell_type": "code",
   "execution_count": 4,
   "metadata": {},
   "outputs": [
    {
     "data": {
      "text/html": [
       "<div>\n",
       "<style scoped>\n",
       "    .dataframe tbody tr th:only-of-type {\n",
       "        vertical-align: middle;\n",
       "    }\n",
       "\n",
       "    .dataframe tbody tr th {\n",
       "        vertical-align: top;\n",
       "    }\n",
       "\n",
       "    .dataframe thead th {\n",
       "        text-align: right;\n",
       "    }\n",
       "</style>\n",
       "<table border=\"1\" class=\"dataframe\">\n",
       "  <thead>\n",
       "    <tr style=\"text-align: right;\">\n",
       "      <th></th>\n",
       "      <th>movies</th>\n",
       "      <th>links</th>\n",
       "      <th>script</th>\n",
       "    </tr>\n",
       "  </thead>\n",
       "  <tbody>\n",
       "    <tr>\n",
       "      <th>0</th>\n",
       "      <td>Cascade (2023)</td>\n",
       "      <td>movie/Cascade-12180508</td>\n",
       "      <td>api.OpenSubtitles.org is deprecated, please im...</td>\n",
       "    </tr>\n",
       "    <tr>\n",
       "      <th>1</th>\n",
       "      <td>Cet été-là (2022)</td>\n",
       "      <td>movie/Cet_t-l-15783304</td>\n",
       "      <td>api.OpenSubtitles.org is deprecated, please im...</td>\n",
       "    </tr>\n",
       "    <tr>\n",
       "      <th>2</th>\n",
       "      <td>Ritual (2022)</td>\n",
       "      <td>movie/Ritual-14305564</td>\n",
       "      <td>Take care, Tom. Wait. - Kiki, do you have thos...</td>\n",
       "    </tr>\n",
       "    <tr>\n",
       "      <th>3</th>\n",
       "      <td>The Initiated (2023)</td>\n",
       "      <td>movie/The_Initiated-27726262</td>\n",
       "      <td>POLICE Frank Molina. Even the rain won't stop ...</td>\n",
       "    </tr>\n",
       "    <tr>\n",
       "      <th>4</th>\n",
       "      <td>Blame It on Rio (1984)</td>\n",
       "      <td>movie/Blame_It_on_Rio-86973</td>\n",
       "      <td>Might've been the free and easy laughter in th...</td>\n",
       "    </tr>\n",
       "  </tbody>\n",
       "</table>\n",
       "</div>"
      ],
      "text/plain": [
       "                   movies                         links  \\\n",
       "0          Cascade (2023)        movie/Cascade-12180508   \n",
       "1       Cet été-là (2022)        movie/Cet_t-l-15783304   \n",
       "2           Ritual (2022)         movie/Ritual-14305564   \n",
       "3    The Initiated (2023)  movie/The_Initiated-27726262   \n",
       "4  Blame It on Rio (1984)   movie/Blame_It_on_Rio-86973   \n",
       "\n",
       "                                              script  \n",
       "0  api.OpenSubtitles.org is deprecated, please im...  \n",
       "1  api.OpenSubtitles.org is deprecated, please im...  \n",
       "2  Take care, Tom. Wait. - Kiki, do you have thos...  \n",
       "3  POLICE Frank Molina. Even the rain won't stop ...  \n",
       "4  Might've been the free and easy laughter in th...  "
      ]
     },
     "execution_count": 4,
     "metadata": {},
     "output_type": "execute_result"
    }
   ],
   "source": [
    "df.head()"
   ]
  },
  {
   "cell_type": "code",
   "execution_count": null,
   "metadata": {},
   "outputs": [],
   "source": []
  },
  {
   "cell_type": "code",
   "execution_count": null,
   "metadata": {},
   "outputs": [],
   "source": []
  },
  {
   "cell_type": "code",
   "execution_count": null,
   "metadata": {},
   "outputs": [],
   "source": []
  },
  {
   "cell_type": "code",
   "execution_count": null,
   "metadata": {},
   "outputs": [],
   "source": []
  },
  {
   "cell_type": "code",
   "execution_count": null,
   "metadata": {},
   "outputs": [],
   "source": []
  }
 ],
 "metadata": {
  "kernelspec": {
   "display_name": "data_science",
   "language": "python",
   "name": "python3"
  },
  "language_info": {
   "codemirror_mode": {
    "name": "ipython",
    "version": 3
   },
   "file_extension": ".py",
   "mimetype": "text/x-python",
   "name": "python",
   "nbconvert_exporter": "python",
   "pygments_lexer": "ipython3",
   "version": "3.11.0"
  }
 },
 "nbformat": 4,
 "nbformat_minor": 2
}
