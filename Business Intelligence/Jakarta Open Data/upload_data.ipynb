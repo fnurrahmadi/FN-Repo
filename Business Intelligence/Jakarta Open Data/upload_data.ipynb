{
 "cells": [
  {
   "cell_type": "code",
   "execution_count": 1,
   "metadata": {},
   "outputs": [],
   "source": [
    "# Importing Packages\n",
    "\n",
    "import gspread\n",
    "import pandas as pd"
   ]
  },
  {
   "cell_type": "code",
   "execution_count": 2,
   "metadata": {},
   "outputs": [],
   "source": [
    "# Creating the gspread instance using the credentials downloaded\n",
    "\n",
    "credentials = 'key/odj-112233-d65b958d66e9.json'\n",
    "\n",
    "gc = gspread.service_account(credentials)"
   ]
  },
  {
   "cell_type": "code",
   "execution_count": 3,
   "metadata": {},
   "outputs": [
    {
     "data": {
      "text/plain": [
       "<Spreadsheet 'GDS source' id:1gKYmJzFdNq1yoG7_EEWSBJOjiA87mK4Mb2tDL5AeWhk>"
      ]
     },
     "execution_count": 3,
     "metadata": {},
     "output_type": "execute_result"
    }
   ],
   "source": [
    "# Establishing the connection to the Google Sheet file\n",
    "\n",
    "sheet_file = gc.open('GDS source')\n",
    "sheet_file"
   ]
  },
  {
   "cell_type": "code",
   "execution_count": 4,
   "metadata": {},
   "outputs": [
    {
     "data": {
      "text/plain": [
       "[<Worksheet 'data' id:0>]"
      ]
     },
     "execution_count": 4,
     "metadata": {},
     "output_type": "execute_result"
    }
   ],
   "source": [
    "# Listing the names of existing worksheets in the Google Sheet file\n",
    "\n",
    "sheet_file.worksheets()"
   ]
  },
  {
   "cell_type": "code",
   "execution_count": 5,
   "metadata": {},
   "outputs": [
    {
     "data": {
      "text/plain": [
       "<Worksheet 'data' id:0>"
      ]
     },
     "execution_count": 5,
     "metadata": {},
     "output_type": "execute_result"
    }
   ],
   "source": [
    "# Accessing a specific worksheet from the Google Sheet file\n",
    "\n",
    "sheet_name = sheet_file.worksheet('data')\n",
    "sheet_name"
   ]
  },
  {
   "cell_type": "code",
   "execution_count": 6,
   "metadata": {},
   "outputs": [
    {
     "data": {
      "text/html": [
       "<div>\n",
       "<style scoped>\n",
       "    .dataframe tbody tr th:only-of-type {\n",
       "        vertical-align: middle;\n",
       "    }\n",
       "\n",
       "    .dataframe tbody tr th {\n",
       "        vertical-align: top;\n",
       "    }\n",
       "\n",
       "    .dataframe thead th {\n",
       "        text-align: right;\n",
       "    }\n",
       "</style>\n",
       "<table border=\"1\" class=\"dataframe\">\n",
       "  <thead>\n",
       "    <tr style=\"text-align: right;\">\n",
       "      <th></th>\n",
       "      <th>tahun</th>\n",
       "      <th>nama_kabupaten_kota</th>\n",
       "      <th>nama_kecamatan</th>\n",
       "      <th>jumlah_kelurahan</th>\n",
       "      <th>jumlah_rw</th>\n",
       "      <th>jumlah_rt</th>\n",
       "      <th>jumlah_kk</th>\n",
       "    </tr>\n",
       "  </thead>\n",
       "  <tbody>\n",
       "    <tr>\n",
       "      <th>0</th>\n",
       "      <td>2011</td>\n",
       "      <td>Kepulauan Seribu</td>\n",
       "      <td>Kepulauan Seribu Selatan</td>\n",
       "      <td>3</td>\n",
       "      <td>11</td>\n",
       "      <td>47</td>\n",
       "      <td>2709.0</td>\n",
       "    </tr>\n",
       "    <tr>\n",
       "      <th>1</th>\n",
       "      <td>2011</td>\n",
       "      <td>Kepulauan Seribu</td>\n",
       "      <td>Kepulauan Seribu Utara</td>\n",
       "      <td>3</td>\n",
       "      <td>13</td>\n",
       "      <td>54</td>\n",
       "      <td>4177.0</td>\n",
       "    </tr>\n",
       "    <tr>\n",
       "      <th>2</th>\n",
       "      <td>2011</td>\n",
       "      <td>Jakarta Pusat</td>\n",
       "      <td>Gambir</td>\n",
       "      <td>6</td>\n",
       "      <td>46</td>\n",
       "      <td>484</td>\n",
       "      <td>33884.0</td>\n",
       "    </tr>\n",
       "    <tr>\n",
       "      <th>3</th>\n",
       "      <td>2011</td>\n",
       "      <td>Jakarta Pusat</td>\n",
       "      <td>Sawah Besar</td>\n",
       "      <td>5</td>\n",
       "      <td>49</td>\n",
       "      <td>598</td>\n",
       "      <td>43147.0</td>\n",
       "    </tr>\n",
       "    <tr>\n",
       "      <th>4</th>\n",
       "      <td>2011</td>\n",
       "      <td>Jakarta Pusat</td>\n",
       "      <td>Kemayoran</td>\n",
       "      <td>8</td>\n",
       "      <td>77</td>\n",
       "      <td>983</td>\n",
       "      <td>76715.0</td>\n",
       "    </tr>\n",
       "    <tr>\n",
       "      <th>...</th>\n",
       "      <td>...</td>\n",
       "      <td>...</td>\n",
       "      <td>...</td>\n",
       "      <td>...</td>\n",
       "      <td>...</td>\n",
       "      <td>...</td>\n",
       "      <td>...</td>\n",
       "    </tr>\n",
       "    <tr>\n",
       "      <th>391</th>\n",
       "      <td>2019</td>\n",
       "      <td>Jakarta Timur</td>\n",
       "      <td>Cakung</td>\n",
       "      <td>7</td>\n",
       "      <td>90</td>\n",
       "      <td>1017</td>\n",
       "      <td>182047.0</td>\n",
       "    </tr>\n",
       "    <tr>\n",
       "      <th>392</th>\n",
       "      <td>2019</td>\n",
       "      <td>Jakarta Timur</td>\n",
       "      <td>Duren Sawit</td>\n",
       "      <td>7</td>\n",
       "      <td>96</td>\n",
       "      <td>1106</td>\n",
       "      <td>140512.0</td>\n",
       "    </tr>\n",
       "    <tr>\n",
       "      <th>393</th>\n",
       "      <td>2019</td>\n",
       "      <td>Jakarta Timur</td>\n",
       "      <td>Makasar</td>\n",
       "      <td>5</td>\n",
       "      <td>53</td>\n",
       "      <td>571</td>\n",
       "      <td>70689.0</td>\n",
       "    </tr>\n",
       "    <tr>\n",
       "      <th>394</th>\n",
       "      <td>2019</td>\n",
       "      <td>Jakarta Timur</td>\n",
       "      <td>Ciracas</td>\n",
       "      <td>5</td>\n",
       "      <td>49</td>\n",
       "      <td>609</td>\n",
       "      <td>99934.0</td>\n",
       "    </tr>\n",
       "    <tr>\n",
       "      <th>395</th>\n",
       "      <td>2019</td>\n",
       "      <td>Jakarta Timur</td>\n",
       "      <td>Cipayung</td>\n",
       "      <td>8</td>\n",
       "      <td>56</td>\n",
       "      <td>508</td>\n",
       "      <td>87885.0</td>\n",
       "    </tr>\n",
       "  </tbody>\n",
       "</table>\n",
       "<p>396 rows × 7 columns</p>\n",
       "</div>"
      ],
      "text/plain": [
       "     tahun nama_kabupaten_kota            nama_kecamatan  jumlah_kelurahan  \\\n",
       "0     2011    Kepulauan Seribu  Kepulauan Seribu Selatan                 3   \n",
       "1     2011    Kepulauan Seribu    Kepulauan Seribu Utara                 3   \n",
       "2     2011       Jakarta Pusat                    Gambir                 6   \n",
       "3     2011       Jakarta Pusat               Sawah Besar                 5   \n",
       "4     2011       Jakarta Pusat                 Kemayoran                 8   \n",
       "..     ...                 ...                       ...               ...   \n",
       "391   2019       Jakarta Timur                    Cakung                 7   \n",
       "392   2019       Jakarta Timur               Duren Sawit                 7   \n",
       "393   2019       Jakarta Timur                   Makasar                 5   \n",
       "394   2019       Jakarta Timur                   Ciracas                 5   \n",
       "395   2019       Jakarta Timur                  Cipayung                 8   \n",
       "\n",
       "     jumlah_rw  jumlah_rt  jumlah_kk  \n",
       "0           11         47     2709.0  \n",
       "1           13         54     4177.0  \n",
       "2           46        484    33884.0  \n",
       "3           49        598    43147.0  \n",
       "4           77        983    76715.0  \n",
       "..         ...        ...        ...  \n",
       "391         90       1017   182047.0  \n",
       "392         96       1106   140512.0  \n",
       "393         53        571    70689.0  \n",
       "394         49        609    99934.0  \n",
       "395         56        508    87885.0  \n",
       "\n",
       "[396 rows x 7 columns]"
      ]
     },
     "execution_count": 6,
     "metadata": {},
     "output_type": "execute_result"
    }
   ],
   "source": [
    "# Loading the csv dataset into a DataFrame\n",
    "\n",
    "upload_file = 'dataset.csv'\n",
    "df = pd.read_csv(upload_file)\n",
    "\n",
    "df"
   ]
  },
  {
   "cell_type": "code",
   "execution_count": 7,
   "metadata": {},
   "outputs": [
    {
     "data": {
      "text/plain": [
       "{'spreadsheetId': '1gKYmJzFdNq1yoG7_EEWSBJOjiA87mK4Mb2tDL5AeWhk',\n",
       " 'updatedRange': 'data!A1:G397',\n",
       " 'updatedRows': 397,\n",
       " 'updatedColumns': 7,\n",
       " 'updatedCells': 2779}"
      ]
     },
     "execution_count": 7,
     "metadata": {},
     "output_type": "execute_result"
    }
   ],
   "source": [
    "# Updating the worksheet using all the header + rows from the DataFrame\n",
    "\n",
    "sheet_name.update([df.columns.values.tolist()]\n",
    "+ df.values.tolist())"
   ]
  },
  {
   "cell_type": "markdown",
   "metadata": {},
   "source": [
    "Future Works:\n",
    "- What happens when there is too many rows of data in the dataframe?\n",
    "- How can we make the process more efficient?\n",
    "- Can we somehow upload/append only non-duplicate rows to the worksheet?"
   ]
  }
 ],
 "metadata": {
  "kernelspec": {
   "display_name": "Python 3.10.6 ('minimal_ds')",
   "language": "python",
   "name": "python3"
  },
  "language_info": {
   "codemirror_mode": {
    "name": "ipython",
    "version": 3
   },
   "file_extension": ".py",
   "mimetype": "text/x-python",
   "name": "python",
   "nbconvert_exporter": "python",
   "pygments_lexer": "ipython3",
   "version": "3.10.6"
  },
  "orig_nbformat": 4,
  "vscode": {
   "interpreter": {
    "hash": "db8a1517168be5b3370ce8428841280e4380ca9be5430f356c5f84dfb5856439"
   }
  }
 },
 "nbformat": 4,
 "nbformat_minor": 2
}
