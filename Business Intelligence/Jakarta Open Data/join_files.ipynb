{
 "cells": [
  {
   "cell_type": "code",
   "execution_count": 1,
   "metadata": {},
   "outputs": [],
   "source": [
    "# Import Packages\n",
    "\n",
    "import pandas as pd\n",
    "import numpy\n",
    "import matplotlib.pyplot as plt\n",
    "import seaborn as sns\n",
    "import os"
   ]
  },
  {
   "cell_type": "code",
   "execution_count": 2,
   "metadata": {},
   "outputs": [
    {
     "name": "stdout",
     "output_type": "stream",
     "text": [
      "data\\jkt2011.json\n",
      "data\\jkt2012.json\n",
      "data\\jkt2013.json\n",
      "data\\jkt2014.json\n",
      "data\\jkt2015.json\n",
      "data\\jkt2016.json\n",
      "data\\jkt2017.json\n",
      "data\\jkt2018.json\n",
      "data\\jkt2019.json\n"
     ]
    }
   ],
   "source": [
    "# Storing all the file names from the directory\n",
    "\n",
    "directory = 'data'\n",
    "files = []\n",
    "\n",
    "for filename in os.listdir(directory):\n",
    "    f = os.path.join(directory,filename)\n",
    "    if os.path.isfile(f):\n",
    "        files.append(f)\n",
    "        print(f)"
   ]
  },
  {
   "cell_type": "code",
   "execution_count": 3,
   "metadata": {},
   "outputs": [],
   "source": [
    "# Concatenating the json files into one DataFrame\n",
    "\n",
    "df = pd.DataFrame()\n",
    "\n",
    "for f in files:\n",
    "    df = pd.concat([df,pd.read_json(f)])"
   ]
  },
  {
   "cell_type": "code",
   "execution_count": 4,
   "metadata": {},
   "outputs": [
    {
     "data": {
      "text/html": [
       "<div>\n",
       "<style scoped>\n",
       "    .dataframe tbody tr th:only-of-type {\n",
       "        vertical-align: middle;\n",
       "    }\n",
       "\n",
       "    .dataframe tbody tr th {\n",
       "        vertical-align: top;\n",
       "    }\n",
       "\n",
       "    .dataframe thead th {\n",
       "        text-align: right;\n",
       "    }\n",
       "</style>\n",
       "<table border=\"1\" class=\"dataframe\">\n",
       "  <thead>\n",
       "    <tr style=\"text-align: right;\">\n",
       "      <th></th>\n",
       "      <th>tahun</th>\n",
       "      <th>nama_kabupaten_kota</th>\n",
       "      <th>nama_kecamatan</th>\n",
       "      <th>jumlah_kelurahan</th>\n",
       "      <th>jumlah_rw</th>\n",
       "      <th>jumlah_rt</th>\n",
       "      <th>jumlah_kk</th>\n",
       "      <th>jumlah _kk</th>\n",
       "    </tr>\n",
       "  </thead>\n",
       "  <tbody>\n",
       "    <tr>\n",
       "      <th>15</th>\n",
       "      <td>2012</td>\n",
       "      <td>Jakarta Utara</td>\n",
       "      <td>Kelapa Gading</td>\n",
       "      <td>3</td>\n",
       "      <td>68</td>\n",
       "      <td>706</td>\n",
       "      <td>53069.0</td>\n",
       "      <td>NaN</td>\n",
       "    </tr>\n",
       "    <tr>\n",
       "      <th>15</th>\n",
       "      <td>2011</td>\n",
       "      <td>Jakarta Utara</td>\n",
       "      <td>Kelapa Gading</td>\n",
       "      <td>3</td>\n",
       "      <td>67</td>\n",
       "      <td>698</td>\n",
       "      <td>40909.0</td>\n",
       "      <td>NaN</td>\n",
       "    </tr>\n",
       "    <tr>\n",
       "      <th>6</th>\n",
       "      <td>2013</td>\n",
       "      <td>Jakarta Pusat</td>\n",
       "      <td>Cempaka Putih</td>\n",
       "      <td>3</td>\n",
       "      <td>30</td>\n",
       "      <td>375</td>\n",
       "      <td>29067.0</td>\n",
       "      <td>NaN</td>\n",
       "    </tr>\n",
       "    <tr>\n",
       "      <th>7</th>\n",
       "      <td>2016</td>\n",
       "      <td>Jakarta Pusat</td>\n",
       "      <td>Menteng</td>\n",
       "      <td>5</td>\n",
       "      <td>38</td>\n",
       "      <td>425</td>\n",
       "      <td>29838.0</td>\n",
       "      <td>NaN</td>\n",
       "    </tr>\n",
       "    <tr>\n",
       "      <th>30</th>\n",
       "      <td>2012</td>\n",
       "      <td>Jakarta Selatan</td>\n",
       "      <td>Kebayoran Baru</td>\n",
       "      <td>10</td>\n",
       "      <td>66</td>\n",
       "      <td>656</td>\n",
       "      <td>49084.0</td>\n",
       "      <td>NaN</td>\n",
       "    </tr>\n",
       "  </tbody>\n",
       "</table>\n",
       "</div>"
      ],
      "text/plain": [
       "    tahun nama_kabupaten_kota  nama_kecamatan  jumlah_kelurahan  jumlah_rw  \\\n",
       "15   2012       Jakarta Utara   Kelapa Gading                 3         68   \n",
       "15   2011       Jakarta Utara   Kelapa Gading                 3         67   \n",
       "6    2013       Jakarta Pusat  Cempaka Putih                  3         30   \n",
       "7    2016       Jakarta Pusat         Menteng                 5         38   \n",
       "30   2012     Jakarta Selatan  Kebayoran Baru                10         66   \n",
       "\n",
       "    jumlah_rt  jumlah_kk  jumlah _kk  \n",
       "15        706    53069.0         NaN  \n",
       "15        698    40909.0         NaN  \n",
       "6         375    29067.0         NaN  \n",
       "7         425    29838.0         NaN  \n",
       "30        656    49084.0         NaN  "
      ]
     },
     "execution_count": 4,
     "metadata": {},
     "output_type": "execute_result"
    }
   ],
   "source": [
    "# Checking the data by sampling\n",
    "\n",
    "df.sample(5)"
   ]
  },
  {
   "cell_type": "code",
   "execution_count": 5,
   "metadata": {},
   "outputs": [
    {
     "name": "stdout",
     "output_type": "stream",
     "text": [
      "<class 'pandas.core.frame.DataFrame'>\n",
      "Int64Index: 396 entries, 0 to 43\n",
      "Data columns (total 8 columns):\n",
      " #   Column               Non-Null Count  Dtype  \n",
      "---  ------               --------------  -----  \n",
      " 0   tahun                396 non-null    int64  \n",
      " 1   nama_kabupaten_kota  396 non-null    object \n",
      " 2   nama_kecamatan       396 non-null    object \n",
      " 3   jumlah_kelurahan     396 non-null    int64  \n",
      " 4   jumlah_rw            396 non-null    int64  \n",
      " 5   jumlah_rt            396 non-null    int64  \n",
      " 6   jumlah_kk            352 non-null    float64\n",
      " 7   jumlah _kk           44 non-null     float64\n",
      "dtypes: float64(2), int64(4), object(2)\n",
      "memory usage: 27.8+ KB\n"
     ]
    }
   ],
   "source": [
    "# Checking the DataFrame info\n",
    "\n",
    "df.info()"
   ]
  },
  {
   "cell_type": "code",
   "execution_count": 6,
   "metadata": {},
   "outputs": [],
   "source": [
    "# Filling in the null values in the separated columns\n",
    "\n",
    "df['jumlah_kk'].fillna(df['jumlah _kk'], inplace=True)"
   ]
  },
  {
   "cell_type": "code",
   "execution_count": 7,
   "metadata": {},
   "outputs": [],
   "source": [
    "# Dropping the redundant column from the DataFrame\n",
    "\n",
    "df.drop(columns=['jumlah _kk'], inplace=True)"
   ]
  },
  {
   "cell_type": "code",
   "execution_count": 8,
   "metadata": {},
   "outputs": [
    {
     "name": "stdout",
     "output_type": "stream",
     "text": [
      "<class 'pandas.core.frame.DataFrame'>\n",
      "Int64Index: 396 entries, 0 to 43\n",
      "Data columns (total 7 columns):\n",
      " #   Column               Non-Null Count  Dtype  \n",
      "---  ------               --------------  -----  \n",
      " 0   tahun                396 non-null    int64  \n",
      " 1   nama_kabupaten_kota  396 non-null    object \n",
      " 2   nama_kecamatan       396 non-null    object \n",
      " 3   jumlah_kelurahan     396 non-null    int64  \n",
      " 4   jumlah_rw            396 non-null    int64  \n",
      " 5   jumlah_rt            396 non-null    int64  \n",
      " 6   jumlah_kk            396 non-null    float64\n",
      "dtypes: float64(1), int64(4), object(2)\n",
      "memory usage: 24.8+ KB\n"
     ]
    }
   ],
   "source": [
    "# Making sure no other issues can be found\n",
    "\n",
    "df.info()"
   ]
  },
  {
   "cell_type": "code",
   "execution_count": 9,
   "metadata": {},
   "outputs": [
    {
     "data": {
      "text/html": [
       "<div>\n",
       "<style scoped>\n",
       "    .dataframe tbody tr th:only-of-type {\n",
       "        vertical-align: middle;\n",
       "    }\n",
       "\n",
       "    .dataframe tbody tr th {\n",
       "        vertical-align: top;\n",
       "    }\n",
       "\n",
       "    .dataframe thead th {\n",
       "        text-align: right;\n",
       "    }\n",
       "</style>\n",
       "<table border=\"1\" class=\"dataframe\">\n",
       "  <thead>\n",
       "    <tr style=\"text-align: right;\">\n",
       "      <th></th>\n",
       "      <th>tahun</th>\n",
       "      <th>jumlah_kelurahan</th>\n",
       "      <th>jumlah_rw</th>\n",
       "      <th>jumlah_rt</th>\n",
       "      <th>jumlah_kk</th>\n",
       "    </tr>\n",
       "  </thead>\n",
       "  <tbody>\n",
       "    <tr>\n",
       "      <th>count</th>\n",
       "      <td>396.000000</td>\n",
       "      <td>396.000000</td>\n",
       "      <td>396.000000</td>\n",
       "      <td>396.000000</td>\n",
       "      <td>396.000000</td>\n",
       "    </tr>\n",
       "    <tr>\n",
       "      <th>mean</th>\n",
       "      <td>2015.000000</td>\n",
       "      <td>6.068182</td>\n",
       "      <td>62.017677</td>\n",
       "      <td>694.368687</td>\n",
       "      <td>74804.724747</td>\n",
       "    </tr>\n",
       "    <tr>\n",
       "      <th>std</th>\n",
       "      <td>2.585255</td>\n",
       "      <td>1.726311</td>\n",
       "      <td>21.217790</td>\n",
       "      <td>265.151412</td>\n",
       "      <td>36367.978000</td>\n",
       "    </tr>\n",
       "    <tr>\n",
       "      <th>min</th>\n",
       "      <td>2011.000000</td>\n",
       "      <td>3.000000</td>\n",
       "      <td>11.000000</td>\n",
       "      <td>47.000000</td>\n",
       "      <td>2460.000000</td>\n",
       "    </tr>\n",
       "    <tr>\n",
       "      <th>25%</th>\n",
       "      <td>2013.000000</td>\n",
       "      <td>5.000000</td>\n",
       "      <td>48.750000</td>\n",
       "      <td>515.000000</td>\n",
       "      <td>46661.250000</td>\n",
       "    </tr>\n",
       "    <tr>\n",
       "      <th>50%</th>\n",
       "      <td>2015.000000</td>\n",
       "      <td>6.000000</td>\n",
       "      <td>62.000000</td>\n",
       "      <td>673.000000</td>\n",
       "      <td>72165.500000</td>\n",
       "    </tr>\n",
       "    <tr>\n",
       "      <th>75%</th>\n",
       "      <td>2017.000000</td>\n",
       "      <td>7.000000</td>\n",
       "      <td>77.000000</td>\n",
       "      <td>893.250000</td>\n",
       "      <td>96573.250000</td>\n",
       "    </tr>\n",
       "    <tr>\n",
       "      <th>max</th>\n",
       "      <td>2019.000000</td>\n",
       "      <td>11.000000</td>\n",
       "      <td>104.000000</td>\n",
       "      <td>1277.000000</td>\n",
       "      <td>186058.000000</td>\n",
       "    </tr>\n",
       "  </tbody>\n",
       "</table>\n",
       "</div>"
      ],
      "text/plain": [
       "             tahun  jumlah_kelurahan   jumlah_rw    jumlah_rt      jumlah_kk\n",
       "count   396.000000        396.000000  396.000000   396.000000     396.000000\n",
       "mean   2015.000000          6.068182   62.017677   694.368687   74804.724747\n",
       "std       2.585255          1.726311   21.217790   265.151412   36367.978000\n",
       "min    2011.000000          3.000000   11.000000    47.000000    2460.000000\n",
       "25%    2013.000000          5.000000   48.750000   515.000000   46661.250000\n",
       "50%    2015.000000          6.000000   62.000000   673.000000   72165.500000\n",
       "75%    2017.000000          7.000000   77.000000   893.250000   96573.250000\n",
       "max    2019.000000         11.000000  104.000000  1277.000000  186058.000000"
      ]
     },
     "execution_count": 9,
     "metadata": {},
     "output_type": "execute_result"
    }
   ],
   "source": [
    "# Final checking on some descriptive statistics before exporting\n",
    "\n",
    "df.describe()"
   ]
  },
  {
   "cell_type": "code",
   "execution_count": 17,
   "metadata": {},
   "outputs": [],
   "source": [
    "df['nama_kecamatan'] = df['nama_kecamatan'].apply(lambda x: x.strip())"
   ]
  },
  {
   "cell_type": "code",
   "execution_count": 20,
   "metadata": {},
   "outputs": [
    {
     "data": {
      "text/plain": [
       "Kalideres                   1\n",
       "Setiabudi                   2\n",
       "Setia Budi                  7\n",
       "Kali Deres                  8\n",
       "Koja                        9\n",
       "Senen                       9\n",
       "Cempaka Putih               9\n",
       "Menteng                     9\n",
       "Tanah Abang                 9\n",
       "Johar Baru                  9\n",
       "Penjaringan                 9\n",
       "Kebon Jeruk                 9\n",
       "Cilincing                   9\n",
       "Pademangan                  9\n",
       "Kelapa Gading               9\n",
       "Cengkareng                  9\n",
       "Grogol Petamburan           9\n",
       "Taman Sari                  9\n",
       "Tambora                     9\n",
       "Gambir                      9\n",
       "Kemayoran                   9\n",
       "Tanjung Priok               9\n",
       "Sawah Besar                 9\n",
       "Kepulauan Seribu Selatan    9\n",
       "Cipayung                    9\n",
       "Palmerah                    9\n",
       "Tebet                       9\n",
       "Mampang Prapatan            9\n",
       "Pasar Minggu                9\n",
       "Kebayoran Lama              9\n",
       "Cilandak                    9\n",
       "Kebayoran Baru              9\n",
       "Pancoran                    9\n",
       "Jagakarsa                   9\n",
       "Pesanggrahan                9\n",
       "Matraman                    9\n",
       "Pulo Gadung                 9\n",
       "Jatinegara                  9\n",
       "Kramat Jati                 9\n",
       "Pasar Rebo                  9\n",
       "Cakung                      9\n",
       "Duren Sawit                 9\n",
       "Makasar                     9\n",
       "Ciracas                     9\n",
       "Kepulauan Seribu Utara      9\n",
       "Kembangan                   9\n",
       "Name: nama_kecamatan, dtype: int64"
      ]
     },
     "execution_count": 20,
     "metadata": {},
     "output_type": "execute_result"
    }
   ],
   "source": [
    "df['nama_kecamatan'].value_counts(dropna=False).sort_values(ascending=True)"
   ]
  },
  {
   "cell_type": "code",
   "execution_count": 23,
   "metadata": {},
   "outputs": [],
   "source": [
    "df['nama_kecamatan'] = df['nama_kecamatan'].apply(lambda x: 'Kalideres' if x=='Kali Deres' else('Setiabudi' if x=='Setia Budi' else x))"
   ]
  },
  {
   "cell_type": "code",
   "execution_count": 24,
   "metadata": {},
   "outputs": [],
   "source": [
    "# Exporting the file as a csv\n",
    "\n",
    "df.to_csv('dataset.csv', index=False)"
   ]
  }
 ],
 "metadata": {
  "kernelspec": {
   "display_name": "Python 3.10.6 ('minimal_ds')",
   "language": "python",
   "name": "python3"
  },
  "language_info": {
   "codemirror_mode": {
    "name": "ipython",
    "version": 3
   },
   "file_extension": ".py",
   "mimetype": "text/x-python",
   "name": "python",
   "nbconvert_exporter": "python",
   "pygments_lexer": "ipython3",
   "version": "3.10.6"
  },
  "orig_nbformat": 4,
  "vscode": {
   "interpreter": {
    "hash": "db8a1517168be5b3370ce8428841280e4380ca9be5430f356c5f84dfb5856439"
   }
  }
 },
 "nbformat": 4,
 "nbformat_minor": 2
}
