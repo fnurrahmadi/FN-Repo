{
 "cells": [
  {
   "cell_type": "markdown",
   "id": "9a9ada08-c9f0-466f-91a0-265fa539f9f5",
   "metadata": {},
   "source": [
    "# Which version of the website should you use?\n",
    "\n",
    "## 📖 Background\n",
    "You work for an early-stage startup in Germany. Your team has been working on a redesign of the landing page. The team believes a new design will increase the number of people who click through and join your site. \n",
    "\n",
    "They have been testing the changes for a few weeks and now they want to measure the impact of the change and need you to determine if the increase can be due to random chance or if it is statistically significant."
   ]
  },
  {
   "cell_type": "markdown",
   "id": "54e0ae0c-ff96-443e-9ff3-718f1ab846e5",
   "metadata": {},
   "source": [
    "## 💪 Challenge\n",
    "Complete the following tasks:\n",
    "\n",
    "1. Analyze the conversion rates for each of the four groups: the new/old design of the landing page and the new/old pictures.\n",
    "2. Can the increases observed be explained by randomness? (Hint: Think A/B test)\n",
    "3. Which version of the website should they use?"
   ]
  },
  {
   "cell_type": "markdown",
   "id": "060ebb2e-5e52-4883-8ac3-fb5533cf3a53",
   "metadata": {},
   "source": [
    "# 🗺️ Designing the Test\n",
    "\n",
    "In order to find out which version should be used, we first need to analyze our dataset. We already know that our control group are users with the old landing page and the old images; that means that we have 3 different treatment groups, which are users with the old landing page and the new images, the users with the new landing page and the old images, and lastly, the users with the new landing page and the new images. Since there is little information provided on how the data was collected, we will assume that the data is collected at random.\n",
    "\n",
    "We can then calculate the conversion rates from each group to discover which group has the highest conversion rate and perform A/B Test for each treatment groups against the control group and prove if the difference in their conversion rates is statistically significant. The Null Hypothesis is that the control and treatment have the same impact on the response, and the Alternate Hypothesis is otherwise. The results will be visualized and compared for each treatment group and the best performer wins."
   ]
  },
  {
   "cell_type": "markdown",
   "id": "10dcc269-3659-4851-99cd-f1ffb7f818aa",
   "metadata": {
    "tags": []
   },
   "source": [
    "## 📋 The data\n",
    "The team assembled the following file:\n",
    "\n",
    "### Redesign test data\n",
    "- \"treatment\" - \"yes\" if the user saw the new version of the landing page, no otherwise.\n",
    "- \"new_images\" - \"yes\" if the page used a new set of images, no otherwise.\n",
    "- \"converted\" - 1 if the user joined the site, 0 otherwise.\n",
    "\n",
    "The control group is those users with \"no\" in both columns: the old version with the old set of images."
   ]
  },
  {
   "cell_type": "code",
   "execution_count": 1,
   "id": "40251159-3eea-47f8-bfb4-09e38d5ced65",
   "metadata": {},
   "outputs": [
    {
     "data": {
      "text/html": [
       "<div>\n",
       "<style scoped>\n",
       "    .dataframe tbody tr th:only-of-type {\n",
       "        vertical-align: middle;\n",
       "    }\n",
       "\n",
       "    .dataframe tbody tr th {\n",
       "        vertical-align: top;\n",
       "    }\n",
       "\n",
       "    .dataframe thead th {\n",
       "        text-align: right;\n",
       "    }\n",
       "</style>\n",
       "<table border=\"1\" class=\"dataframe\">\n",
       "  <thead>\n",
       "    <tr style=\"text-align: right;\">\n",
       "      <th></th>\n",
       "      <th>treatment</th>\n",
       "      <th>new_images</th>\n",
       "      <th>converted</th>\n",
       "    </tr>\n",
       "  </thead>\n",
       "  <tbody>\n",
       "    <tr>\n",
       "      <th>0</th>\n",
       "      <td>yes</td>\n",
       "      <td>yes</td>\n",
       "      <td>0</td>\n",
       "    </tr>\n",
       "    <tr>\n",
       "      <th>1</th>\n",
       "      <td>yes</td>\n",
       "      <td>yes</td>\n",
       "      <td>0</td>\n",
       "    </tr>\n",
       "    <tr>\n",
       "      <th>2</th>\n",
       "      <td>yes</td>\n",
       "      <td>yes</td>\n",
       "      <td>0</td>\n",
       "    </tr>\n",
       "    <tr>\n",
       "      <th>3</th>\n",
       "      <td>yes</td>\n",
       "      <td>no</td>\n",
       "      <td>0</td>\n",
       "    </tr>\n",
       "    <tr>\n",
       "      <th>4</th>\n",
       "      <td>no</td>\n",
       "      <td>yes</td>\n",
       "      <td>0</td>\n",
       "    </tr>\n",
       "  </tbody>\n",
       "</table>\n",
       "</div>"
      ],
      "text/plain": [
       "  treatment new_images  converted\n",
       "0       yes        yes          0\n",
       "1       yes        yes          0\n",
       "2       yes        yes          0\n",
       "3       yes         no          0\n",
       "4        no        yes          0"
      ]
     },
     "execution_count": 1,
     "metadata": {},
     "output_type": "execute_result"
    }
   ],
   "source": [
    "import pandas as pd\n",
    "import numpy as np\n",
    "df = pd.read_csv('./data/redesign.csv')\n",
    "df.head()"
   ]
  },
  {
   "cell_type": "code",
   "execution_count": 2,
   "id": "61d09a65-7a7f-43de-951b-decb042f5bd0",
   "metadata": {},
   "outputs": [
    {
     "name": "stdout",
     "output_type": "stream",
     "text": [
      "<class 'pandas.core.frame.DataFrame'>\n",
      "RangeIndex: 40484 entries, 0 to 40483\n",
      "Data columns (total 3 columns):\n",
      " #   Column      Non-Null Count  Dtype \n",
      "---  ------      --------------  ----- \n",
      " 0   treatment   40484 non-null  object\n",
      " 1   new_images  40484 non-null  object\n",
      " 2   converted   40484 non-null  int64 \n",
      "dtypes: int64(1), object(2)\n",
      "memory usage: 949.0+ KB\n"
     ]
    }
   ],
   "source": [
    "df.info()"
   ]
  },
  {
   "cell_type": "markdown",
   "id": "04120735-6f2a-4a46-ad26-4a985427d369",
   "metadata": {},
   "source": [
    "### Handling Categories"
   ]
  },
  {
   "cell_type": "code",
   "execution_count": 3,
   "id": "07f7ea9c-4f9b-4746-b1e4-522095fdeed1",
   "metadata": {},
   "outputs": [
    {
     "data": {
      "text/plain": [
       "treatment     category\n",
       "new_images    category\n",
       "converted        int64\n",
       "dtype: object"
      ]
     },
     "execution_count": 3,
     "metadata": {},
     "output_type": "execute_result"
    }
   ],
   "source": [
    "df[['treatment','new_images']] = df[['treatment','new_images']].astype('category')\n",
    "df.dtypes"
   ]
  },
  {
   "cell_type": "markdown",
   "id": "44879b64-fe7d-4092-bbc9-9f3ce9298637",
   "metadata": {},
   "source": [
    "### Handling Missing Values"
   ]
  },
  {
   "cell_type": "code",
   "execution_count": 4,
   "id": "eda23aea-730d-4aa6-93a8-484eb3b5c4a7",
   "metadata": {},
   "outputs": [
    {
     "data": {
      "text/plain": [
       "treatment     0\n",
       "new_images    0\n",
       "converted     0\n",
       "dtype: int64"
      ]
     },
     "execution_count": 4,
     "metadata": {},
     "output_type": "execute_result"
    }
   ],
   "source": [
    "df.isna().sum()"
   ]
  },
  {
   "cell_type": "markdown",
   "id": "0e342547-790a-4f23-92a2-3e079884e336",
   "metadata": {},
   "source": [
    "Since the data does not have user information, only the categories and missing values need to be taken care of. However, it doesn't look like there's any missing values, so what we can do to simplify the use of our dataset is by labelling our variants as such:\n",
    "- Variant A: old landing page and old images (control group)\n",
    "- Variant B: old landing page and new images\n",
    "- Variant C: new landing page and old images\n",
    "- Variant D: new landing page and new images"
   ]
  },
  {
   "cell_type": "code",
   "execution_count": 5,
   "id": "46b09a16-ddc3-414d-81b6-3397e4792372",
   "metadata": {},
   "outputs": [
    {
     "data": {
      "text/html": [
       "<div>\n",
       "<style scoped>\n",
       "    .dataframe tbody tr th:only-of-type {\n",
       "        vertical-align: middle;\n",
       "    }\n",
       "\n",
       "    .dataframe tbody tr th {\n",
       "        vertical-align: top;\n",
       "    }\n",
       "\n",
       "    .dataframe thead th {\n",
       "        text-align: right;\n",
       "    }\n",
       "</style>\n",
       "<table border=\"1\" class=\"dataframe\">\n",
       "  <thead>\n",
       "    <tr style=\"text-align: right;\">\n",
       "      <th></th>\n",
       "      <th>treatment</th>\n",
       "      <th>new_images</th>\n",
       "      <th>converted</th>\n",
       "      <th>variant</th>\n",
       "    </tr>\n",
       "  </thead>\n",
       "  <tbody>\n",
       "    <tr>\n",
       "      <th>0</th>\n",
       "      <td>yes</td>\n",
       "      <td>yes</td>\n",
       "      <td>0</td>\n",
       "      <td>D</td>\n",
       "    </tr>\n",
       "    <tr>\n",
       "      <th>1</th>\n",
       "      <td>yes</td>\n",
       "      <td>yes</td>\n",
       "      <td>0</td>\n",
       "      <td>D</td>\n",
       "    </tr>\n",
       "    <tr>\n",
       "      <th>2</th>\n",
       "      <td>yes</td>\n",
       "      <td>yes</td>\n",
       "      <td>0</td>\n",
       "      <td>D</td>\n",
       "    </tr>\n",
       "    <tr>\n",
       "      <th>3</th>\n",
       "      <td>yes</td>\n",
       "      <td>no</td>\n",
       "      <td>0</td>\n",
       "      <td>C</td>\n",
       "    </tr>\n",
       "    <tr>\n",
       "      <th>4</th>\n",
       "      <td>no</td>\n",
       "      <td>yes</td>\n",
       "      <td>0</td>\n",
       "      <td>B</td>\n",
       "    </tr>\n",
       "  </tbody>\n",
       "</table>\n",
       "</div>"
      ],
      "text/plain": [
       "  treatment new_images  converted variant\n",
       "0       yes        yes          0       D\n",
       "1       yes        yes          0       D\n",
       "2       yes        yes          0       D\n",
       "3       yes         no          0       C\n",
       "4        no        yes          0       B"
      ]
     },
     "execution_count": 5,
     "metadata": {},
     "output_type": "execute_result"
    }
   ],
   "source": [
    "df['variant'] = np.where((df['treatment']=='no')&(df['new_images']=='no'), 'A',\n",
    "                         np.where((df['treatment']=='no')&(df['new_images']=='yes'), 'B',\n",
    "                                  np.where((df['treatment']=='yes')&(df['new_images']=='no'), 'C', 'D')))\n",
    "df.head()"
   ]
  },
  {
   "cell_type": "markdown",
   "id": "f4bba43c-b97a-44bd-87cb-67956525e083",
   "metadata": {},
   "source": [
    "# 📈 Conversion Rates\n",
    "\n",
    "In this section, we will calculate the conversion rates for each group. Our dataset is already simplified and has a dedicated column of whether or not the user converted, so we can jump straight into calculating the conversion rate for each group, which essentially is the sum of users converted and the total number of users in the group."
   ]
  },
  {
   "cell_type": "code",
   "execution_count": 6,
   "id": "f8bab329-1162-4038-98d2-3b705775314f",
   "metadata": {},
   "outputs": [],
   "source": [
    "import matplotlib.pyplot as plt\n",
    "import seaborn as sns\n",
    "\n",
    "sns.set_theme(style='whitegrid', font_scale=1.25, context='notebook', palette='bright')"
   ]
  },
  {
   "cell_type": "code",
   "execution_count": 7,
   "id": "348df1a8-8e89-473b-bb0d-78f0cb21c6c5",
   "metadata": {},
   "outputs": [],
   "source": [
    "def diff(x):\n",
    "    return len(x) - x.sum()\n",
    "def rate(x):\n",
    "    return x.sum() / x.count()"
   ]
  },
  {
   "cell_type": "code",
   "execution_count": 8,
   "id": "39ff931b-5efb-41a6-995b-3f73b5ffef85",
   "metadata": {},
   "outputs": [
    {
     "data": {
      "text/html": [
       "<div>\n",
       "<style scoped>\n",
       "    .dataframe tbody tr th:only-of-type {\n",
       "        vertical-align: middle;\n",
       "    }\n",
       "\n",
       "    .dataframe tbody tr th {\n",
       "        vertical-align: top;\n",
       "    }\n",
       "\n",
       "    .dataframe thead th {\n",
       "        text-align: right;\n",
       "    }\n",
       "</style>\n",
       "<table border=\"1\" class=\"dataframe\">\n",
       "  <thead>\n",
       "    <tr style=\"text-align: right;\">\n",
       "      <th></th>\n",
       "      <th>converted</th>\n",
       "      <th>not converted</th>\n",
       "      <th>count</th>\n",
       "      <th>convert rate</th>\n",
       "    </tr>\n",
       "    <tr>\n",
       "      <th>variant</th>\n",
       "      <th></th>\n",
       "      <th></th>\n",
       "      <th></th>\n",
       "      <th></th>\n",
       "    </tr>\n",
       "  </thead>\n",
       "  <tbody>\n",
       "    <tr>\n",
       "      <th>A</th>\n",
       "      <td>1084</td>\n",
       "      <td>9037</td>\n",
       "      <td>10121</td>\n",
       "      <td>0.107104</td>\n",
       "    </tr>\n",
       "    <tr>\n",
       "      <th>B</th>\n",
       "      <td>1139</td>\n",
       "      <td>8982</td>\n",
       "      <td>10121</td>\n",
       "      <td>0.112538</td>\n",
       "    </tr>\n",
       "    <tr>\n",
       "      <th>C</th>\n",
       "      <td>1215</td>\n",
       "      <td>8906</td>\n",
       "      <td>10121</td>\n",
       "      <td>0.120047</td>\n",
       "    </tr>\n",
       "    <tr>\n",
       "      <th>D</th>\n",
       "      <td>1151</td>\n",
       "      <td>8970</td>\n",
       "      <td>10121</td>\n",
       "      <td>0.113724</td>\n",
       "    </tr>\n",
       "  </tbody>\n",
       "</table>\n",
       "</div>"
      ],
      "text/plain": [
       "         converted  not converted  count  convert rate\n",
       "variant                                               \n",
       "A             1084           9037  10121      0.107104\n",
       "B             1139           8982  10121      0.112538\n",
       "C             1215           8906  10121      0.120047\n",
       "D             1151           8970  10121      0.113724"
      ]
     },
     "execution_count": 8,
     "metadata": {},
     "output_type": "execute_result"
    }
   ],
   "source": [
    "g = df.groupby(['variant']).converted.agg(['sum',diff,'count',rate])\n",
    "g.columns = ['converted','not converted','count','convert rate']\n",
    "g"
   ]
  },
  {
   "cell_type": "code",
   "execution_count": 9,
   "id": "c303f05a-4593-41db-9746-36158749bb7d",
   "metadata": {},
   "outputs": [
    {
     "data": {
      "image/png": "[encoded data removed]",
      "text/plain": [
       "<Figure size 432x288 with 1 Axes>"
      ]
     },
     "metadata": {},
     "output_type": "display_data"
    }
   ],
   "source": [
    "g.plot(kind='bar', y='convert rate',  legend=False, color=['blue','orange','green','red'])\n",
    "plt.title('Conversion Rate of Control vs Treatment Groups')\n",
    "plt.show()"
   ]
  },
  {
   "cell_type": "code",
   "execution_count": 10,
   "id": "81ff2c72-7de7-41ed-8eed-9fb1739c2133",
   "metadata": {},
   "outputs": [],
   "source": [
    "boot = []\n",
    "for i in range(11000):\n",
    "    boot_mean = df.sample(frac=1, replace=True).groupby(['variant'])['converted'].mean()\n",
    "    boot.append(boot_mean)"
   ]
  },
  {
   "cell_type": "code",
   "execution_count": 11,
   "id": "9a950b1a-61b5-4cba-b45c-a584f6236424",
   "metadata": {},
   "outputs": [
    {
     "data": {
      "image/png": "[encoded data removed]",
      "text/plain": [
       "<Figure size 432x288 with 1 Axes>"
      ]
     },
     "metadata": {},
     "output_type": "display_data"
    }
   ],
   "source": [
    "boot = pd.DataFrame(boot)\n",
    "\n",
    "boot.plot(kind='kde', legend=False)\n",
    "plt.title('Bootstrap Samples')\n",
    "plt.legend(bbox_to_anchor=(1,1))\n",
    "plt.show()"
   ]
  },
  {
   "cell_type": "markdown",
   "id": "b4a85b8b-2c13-415c-9b42-93a3063fe340",
   "metadata": {},
   "source": [
    "Based on the grouped data, we know that each group has the same number of users assigned. From the figures above, we clearly see that on particular group performs better than the rest, which is the group of users with the new landing page and old images. However, we also see that the two other treatment groups perform better than the control group. In attempt to ascertain the performance over the control group, we plotted the bootstrap uncertainty of each group above. Note that the control group is the blue line, and we see that the green line (the new landing page and old images) barely overlaps the control group, while the orange and red overlaps with the control group for the most part."
   ]
  },
  {
   "cell_type": "markdown",
   "id": "96c2b412-71dc-4018-a42d-57843af43949",
   "metadata": {},
   "source": [
    "# ⛔ Difference in the Rates"
   ]
  },
  {
   "cell_type": "markdown",
   "id": "8bfa2e1e-d03d-4c98-ab96-1812345af355",
   "metadata": {},
   "source": [
    "To further observe the difference between the control group and the treatment groups, we can subtract the bootstrap samples between the control group and the treatment groups."
   ]
  },
  {
   "cell_type": "code",
   "execution_count": 12,
   "id": "dac9aa0f-ca25-4f82-b57d-9e50a1305751",
   "metadata": {
    "tags": []
   },
   "outputs": [],
   "source": [
    "boot['diff_a_b'] = 100 * ((boot['B'] - boot['A']) / boot['B'])\n",
    "boot['diff_a_c'] = 100 * ((boot['C'] - boot['A']) / boot['C'])\n",
    "boot['diff_a_d'] = 100 * ((boot['D'] - boot['A']) / boot['D'])"
   ]
  },
  {
   "cell_type": "code",
   "execution_count": 13,
   "id": "f47fd618-ff72-4ca4-b03f-03f3e5463557",
   "metadata": {},
   "outputs": [
    {
     "data": {
      "text/html": [
       "<div>\n",
       "<style scoped>\n",
       "    .dataframe tbody tr th:only-of-type {\n",
       "        vertical-align: middle;\n",
       "    }\n",
       "\n",
       "    .dataframe tbody tr th {\n",
       "        vertical-align: top;\n",
       "    }\n",
       "\n",
       "    .dataframe thead th {\n",
       "        text-align: right;\n",
       "    }\n",
       "</style>\n",
       "<table border=\"1\" class=\"dataframe\">\n",
       "  <thead>\n",
       "    <tr style=\"text-align: right;\">\n",
       "      <th>variant</th>\n",
       "      <th>A</th>\n",
       "      <th>B</th>\n",
       "      <th>C</th>\n",
       "      <th>D</th>\n",
       "      <th>diff_a_b</th>\n",
       "      <th>diff_a_c</th>\n",
       "      <th>diff_a_d</th>\n",
       "    </tr>\n",
       "  </thead>\n",
       "  <tbody>\n",
       "    <tr>\n",
       "      <th>converted</th>\n",
       "      <td>0.109788</td>\n",
       "      <td>0.108646</td>\n",
       "      <td>0.120977</td>\n",
       "      <td>0.115621</td>\n",
       "      <td>-1.051659</td>\n",
       "      <td>9.248638</td>\n",
       "      <td>5.044736</td>\n",
       "    </tr>\n",
       "    <tr>\n",
       "      <th>converted</th>\n",
       "      <td>0.108360</td>\n",
       "      <td>0.107371</td>\n",
       "      <td>0.123886</td>\n",
       "      <td>0.115974</td>\n",
       "      <td>-0.921884</td>\n",
       "      <td>12.532211</td>\n",
       "      <td>6.564755</td>\n",
       "    </tr>\n",
       "    <tr>\n",
       "      <th>converted</th>\n",
       "      <td>0.104355</td>\n",
       "      <td>0.108214</td>\n",
       "      <td>0.117856</td>\n",
       "      <td>0.111632</td>\n",
       "      <td>3.566061</td>\n",
       "      <td>11.455801</td>\n",
       "      <td>6.518663</td>\n",
       "    </tr>\n",
       "    <tr>\n",
       "      <th>converted</th>\n",
       "      <td>0.107621</td>\n",
       "      <td>0.114083</td>\n",
       "      <td>0.119525</td>\n",
       "      <td>0.114446</td>\n",
       "      <td>5.663813</td>\n",
       "      <td>9.959067</td>\n",
       "      <td>5.963394</td>\n",
       "    </tr>\n",
       "    <tr>\n",
       "      <th>converted</th>\n",
       "      <td>0.106007</td>\n",
       "      <td>0.109282</td>\n",
       "      <td>0.120470</td>\n",
       "      <td>0.113131</td>\n",
       "      <td>2.997119</td>\n",
       "      <td>12.005806</td>\n",
       "      <td>6.297135</td>\n",
       "    </tr>\n",
       "  </tbody>\n",
       "</table>\n",
       "</div>"
      ],
      "text/plain": [
       "variant           A         B         C         D  diff_a_b   diff_a_c  \\\n",
       "converted  0.109788  0.108646  0.120977  0.115621 -1.051659   9.248638   \n",
       "converted  0.108360  0.107371  0.123886  0.115974 -0.921884  12.532211   \n",
       "converted  0.104355  0.108214  0.117856  0.111632  3.566061  11.455801   \n",
       "converted  0.107621  0.114083  0.119525  0.114446  5.663813   9.959067   \n",
       "converted  0.106007  0.109282  0.120470  0.113131  2.997119  12.005806   \n",
       "\n",
       "variant    diff_a_d  \n",
       "converted  5.044736  \n",
       "converted  6.564755  \n",
       "converted  6.518663  \n",
       "converted  5.963394  \n",
       "converted  6.297135  "
      ]
     },
     "execution_count": 13,
     "metadata": {},
     "output_type": "execute_result"
    }
   ],
   "source": [
    "boot.head()"
   ]
  },
  {
   "cell_type": "code",
   "execution_count": 14,
   "id": "8b32b45b-3e13-40be-9211-5a2c93ce5622",
   "metadata": {},
   "outputs": [
    {
     "name": "stdout",
     "output_type": "stream",
     "text": [
      "% difference in means of A and B : 4.806963079762475\n",
      "% difference in means of A and C : 10.686076809789796\n",
      "% difference in means of A and D : 5.741783940106996\n"
     ]
    }
   ],
   "source": [
    "print('% difference in means of A and B :', boot['diff_a_b'].mean())\n",
    "print('% difference in means of A and C :', boot['diff_a_c'].mean())\n",
    "print('% difference in means of A and D :', boot['diff_a_d'].mean())"
   ]
  },
  {
   "cell_type": "code",
   "execution_count": 15,
   "id": "fdf96b6f-8751-4ac4-808d-e58d00ef1435",
   "metadata": {},
   "outputs": [
    {
     "data": {
      "image/png": "[encoded data removed]",
      "text/plain": [
       "<Figure size 432x288 with 1 Axes>"
      ]
     },
     "metadata": {},
     "output_type": "display_data"
    }
   ],
   "source": [
    "plt.title('Difference of A and B')\n",
    "boot['diff_a_b'].plot(kind='kde')\n",
    "plt.xlabel(\"% difference in means\")\n",
    "plt.xticks(np.arange(-30, 45, 10))\n",
    "plt.show()"
   ]
  },
  {
   "cell_type": "code",
   "execution_count": 16,
   "id": "d17225ed-8cc2-45d1-abe6-84d9fcab164c",
   "metadata": {},
   "outputs": [
    {
     "data": {
      "image/png": "[encoded data removed]",
      "text/plain": [
       "<Figure size 432x288 with 1 Axes>"
      ]
     },
     "metadata": {},
     "output_type": "display_data"
    }
   ],
   "source": [
    "plt.title('Difference of A and C')\n",
    "boot['diff_a_c'].plot(kind='kde')\n",
    "plt.xlabel(\"% difference in means\")\n",
    "plt.xticks(np.arange(-20, 45, 10))\n",
    "plt.show()"
   ]
  },
  {
   "cell_type": "code",
   "execution_count": 17,
   "id": "02826fae-d1a9-4a6d-b22e-3eee262483e7",
   "metadata": {},
   "outputs": [
    {
     "data": {
      "image/png": "[encoded data removed]",
      "text/plain": [
       "<Figure size 432x288 with 1 Axes>"
      ]
     },
     "metadata": {},
     "output_type": "display_data"
    }
   ],
   "source": [
    "plt.title('Difference of A and D')\n",
    "boot['diff_a_d'].plot(kind='kde')\n",
    "plt.xlabel(\"% difference in means\")\n",
    "plt.xticks(np.arange(-30, 45, 10))\n",
    "plt.show()"
   ]
  },
  {
   "cell_type": "markdown",
   "id": "031d6466-92ee-4dc4-8274-d6000f50d8d7",
   "metadata": {},
   "source": [
    "# 🤔 Hypothesis Testing\n",
    "\n",
    "By eyeballing the graphs and the values from the table above, we see that that there is a distinct difference between the conversion rates of control group and the treatment groups. However, to prove if the groups' differences are statistically significant, we will conduct hypothesis tests, where we set the Null and Alternate Hypothesis as such:\n",
    "- Null Hypothesis : the control and treatment group have the same impact on the response\n",
    "- Alternate Hypothesis : the control and treatment group does not have the same impact on the response\n",
    "\n",
    "Furthermore, we set the confidence level to 95% to set the probability of rejecting Type I errors, and after the tests, we evaluate the statistical power of the test to see the probability of rejecting Type II errors."
   ]
  },
  {
   "cell_type": "code",
   "execution_count": 18,
   "id": "48a6d218-7eeb-4c7a-bc02-edbcf29e9bbd",
   "metadata": {},
   "outputs": [],
   "source": [
    "from scipy import stats\n",
    "from statsmodels.stats.proportion import proportions_ztest, proportion_confint"
   ]
  },
  {
   "cell_type": "code",
   "execution_count": 19,
   "id": "3ffcf89e-610f-4eb0-8960-7411b4db2f30",
   "metadata": {},
   "outputs": [],
   "source": [
    "def get_power(n, p1, p2, cl):\n",
    "    alpha = 1 - cl\n",
    "    qu = stats.norm.ppf(1 - alpha/2)    \n",
    "    diff = abs(p2 - p1)   \n",
    "    bp = (p1 + p2) / 2   \n",
    "    v1 = p1 * (1 - p1)  \n",
    "    v2 = p2 * (1 - p2)   \n",
    "    bv = bp * (1 - bp)    \n",
    "    power_part_one = stats.norm.cdf((n**0.5 * diff - qu * (2 * bv)**0.5)/ (v1 + v2)**0.5)   \n",
    "    power_part_two = 1 - stats.norm.cdf((n**0.5 * diff + qu * (2 * bv)**0.5)/ (v1 + v2)**0.5)  \n",
    "    power = power_part_one + power_part_two    \n",
    "    return(power)"
   ]
  },
  {
   "cell_type": "code",
   "execution_count": 20,
   "id": "80053ca7-b8a3-45f5-b78f-c5a6326030b5",
   "metadata": {},
   "outputs": [],
   "source": [
    "def test_pvalue(p):\n",
    "    if p < 0.01:\n",
    "        s = 'Very strong evidence against Null Hypothesis'\n",
    "    elif p < 0.05:\n",
    "        s = 'Strong evidence against Null Hypothesis'\n",
    "    elif p < 0.1:\n",
    "        s = 'Very weak evidence against Null Hypothesis'\n",
    "    else:\n",
    "        s = 'Small to no evidence against Null Hypothesis'\n",
    "    return s"
   ]
  },
  {
   "cell_type": "markdown",
   "id": "758c3a3b-ec8c-4fbb-95a9-ea59b209da33",
   "metadata": {},
   "source": [
    "### Old Landing Page, Old Images"
   ]
  },
  {
   "cell_type": "code",
   "execution_count": 21,
   "id": "72cc5406-d649-4fb4-9c2d-e67dabd88d39",
   "metadata": {},
   "outputs": [],
   "source": [
    "con_conv = g['convert rate']['A']\n",
    "con_size = g['count']['A']\n",
    "con_results = g['converted']['A']"
   ]
  },
  {
   "cell_type": "markdown",
   "id": "3d7e0d99-eed4-48d7-ad1a-6d9a5b943c73",
   "metadata": {},
   "source": [
    "### Old Landing Page, New Images"
   ]
  },
  {
   "cell_type": "code",
   "execution_count": 22,
   "id": "d1e0f1f0-8d13-43e3-af52-8e150d6867d6",
   "metadata": {},
   "outputs": [],
   "source": [
    "test_conv = g['convert rate']['B']\n",
    "test_size = g['count']['B']\n",
    "test_results = g['converted']['B']"
   ]
  },
  {
   "cell_type": "code",
   "execution_count": 23,
   "id": "b339b42b-eabc-451e-a0fb-5683f3aea3ff",
   "metadata": {},
   "outputs": [
    {
     "name": "stdout",
     "output_type": "stream",
     "text": [
      "Z-Statistic              : -1.2364\n",
      "p-value                  : 0.2163\n",
      "Power of test            : 23.53%\n",
      "ci 95% for control group : [0.1011, 0.1131]\n",
      "ci 95% for test group    : [0.1064, 0.1187]\n"
     ]
    },
    {
     "data": {
      "text/plain": [
       "'Small to no evidence against Null Hypothesis'"
      ]
     },
     "execution_count": 23,
     "metadata": {},
     "output_type": "execute_result"
    }
   ],
   "source": [
    "alpha = 0.05\n",
    "successes = [con_results, test_results]\n",
    "nobs = [con_size, test_size]\n",
    "z_stat, p_value = proportions_ztest(successes, nobs=nobs)\n",
    "(lower_con, lower_test), (upper_con, upper_test) = proportion_confint(successes, nobs=nobs, alpha=alpha)\n",
    "power = get_power(test_size, con_conv, test_conv, 1-alpha)\n",
    "print('Z-Statistic'+ (':').rjust(15) + f' {z_stat:.4f}') \n",
    "print('p-value'+ (':').rjust(19) + f' {p_value:.4f}')\n",
    "print('Power of test'+ (':').rjust(13) +f' {100*power:.2f}%')\n",
    "print(f'ci {100*(1-alpha):.0f}% for control group : [{lower_con:.4f}, {upper_con:.4f}]')\n",
    "print(f'ci {100*(1-alpha):.0f}% for test group    : [{lower_test:.4f}, {upper_test:.4f}]')\n",
    "test_pvalue(p_value)"
   ]
  },
  {
   "cell_type": "markdown",
   "id": "3b22bc5d-ea37-472f-ba8c-a6ba4b4f32ec",
   "metadata": {},
   "source": [
    "### New Landing Page, Old Images"
   ]
  },
  {
   "cell_type": "code",
   "execution_count": 24,
   "id": "a3bace11-79c2-4ed5-8c65-b1179023c7b5",
   "metadata": {},
   "outputs": [],
   "source": [
    "test_conv = g['convert rate']['C']\n",
    "test_size = g['count']['C']\n",
    "test_results = g['converted']['C']"
   ]
  },
  {
   "cell_type": "code",
   "execution_count": 25,
   "id": "739db275-a8b8-462d-a91c-9f174e82ef3b",
   "metadata": {},
   "outputs": [
    {
     "name": "stdout",
     "output_type": "stream",
     "text": [
      "Z-Statistic              : -2.9019\n",
      "p-value                  : 0.0037\n",
      "Power of test            : 82.69%\n",
      "ci 95% for control group : [0.1011, 0.1131]\n",
      "ci 95% for test group    : [0.1137, 0.1264]\n"
     ]
    },
    {
     "data": {
      "text/plain": [
       "'Very strong evidence against Null Hypothesis'"
      ]
     },
     "execution_count": 25,
     "metadata": {},
     "output_type": "execute_result"
    }
   ],
   "source": [
    "alpha = 0.05\n",
    "successes = [con_results, test_results]\n",
    "nobs = [con_size, test_size]\n",
    "z_stat, p_value = proportions_ztest(successes, nobs=nobs)\n",
    "(lower_con, lower_test), (upper_con, upper_test) = proportion_confint(successes, nobs=nobs, alpha=alpha)\n",
    "power = get_power(test_size, con_conv, test_conv, 1-alpha)\n",
    "print('Z-Statistic'+ (':').rjust(15) + f' {z_stat:.4f}') \n",
    "print('p-value'+ (':').rjust(19) + f' {p_value:.4f}')\n",
    "print('Power of test'+ (':').rjust(13) +f' {100*power:.2f}%')\n",
    "print(f'ci {100*(1-alpha):.0f}% for control group : [{lower_con:.4f}, {upper_con:.4f}]')\n",
    "print(f'ci {100*(1-alpha):.0f}% for test group    : [{lower_test:.4f}, {upper_test:.4f}]')\n",
    "test_pvalue(p_value)"
   ]
  },
  {
   "cell_type": "markdown",
   "id": "0d78ac20-0290-48d1-85b7-de97e185daa2",
   "metadata": {},
   "source": [
    "### New Landing Page, New Images"
   ]
  },
  {
   "cell_type": "code",
   "execution_count": 26,
   "id": "6934de2d-a36b-4cf1-98f8-4135ebb21480",
   "metadata": {},
   "outputs": [],
   "source": [
    "test_conv = g['convert rate']['D']\n",
    "test_size = g['count']['D']\n",
    "test_results = g['converted']['D']"
   ]
  },
  {
   "cell_type": "code",
   "execution_count": 27,
   "id": "f723b41a-8390-4ccf-ad88-6ec434ed3fb0",
   "metadata": {},
   "outputs": [
    {
     "name": "stdout",
     "output_type": "stream",
     "text": [
      "Z-Statistic              : -1.5026\n",
      "p-value                  : 0.1329\n",
      "Power of test            : 32.40%\n",
      "ci 95% for control group : [0.1011, 0.1131]\n",
      "ci 95% for test group    : [0.1075, 0.1199]\n"
     ]
    },
    {
     "data": {
      "text/plain": [
       "'Small to no evidence against Null Hypothesis'"
      ]
     },
     "execution_count": 27,
     "metadata": {},
     "output_type": "execute_result"
    }
   ],
   "source": [
    "alpha = 0.05\n",
    "successes = [con_results, test_results]\n",
    "nobs = [con_size, test_size]\n",
    "z_stat, p_value = proportions_ztest(successes, nobs=nobs)\n",
    "(lower_con, lower_test), (upper_con, upper_test) = proportion_confint(successes, nobs=nobs, alpha=alpha)\n",
    "power = get_power(test_size, con_conv, test_conv, 1-alpha)\n",
    "print('Z-Statistic'+ (':').rjust(15) + f' {z_stat:.4f}') \n",
    "print('p-value'+ (':').rjust(19) + f' {p_value:.4f}')\n",
    "print('Power of test'+ (':').rjust(13) +f' {100*power:.2f}%')\n",
    "print(f'ci {100*(1-alpha):.0f}% for control group : [{lower_con:.4f}, {upper_con:.4f}]')\n",
    "print(f'ci {100*(1-alpha):.0f}% for test group    : [{lower_test:.4f}, {upper_test:.4f}]')\n",
    "test_pvalue(p_value)"
   ]
  },
  {
   "cell_type": "markdown",
   "id": "fcf00cec-fb5d-4e3d-8eda-3913bbb827bc",
   "metadata": {},
   "source": [
    "| Variant                  | User Count | Converted | Conversion Rate | Confidence Interval | Z-Statistic | P-Value | Power  |\n",
    "|------------------------------|------------|-----------|-----------------|---------------------|-------------|---------|--------|\n",
    "| Old Landing Page, Old Images ('A') | 10121      | 1084      | 0.1071          | [0.1011, 0.1131]    |             |         |        |\n",
    "| Old Landing Page, New Images ('B') | 10121      | 1139      | 0.1125          | [0.1064, 0.1187]    | -1.2364     | 0.2163  | 23.55% |\n",
    "| **New Landing Page, Old Images ('C')** | 10121      | **1215**      | **0.1200**          | **[0.1137, 0.1264]**    | **-2.9019**     | **0.0037**  | **82.69%** |\n",
    "| New Landing Page, New Images ('D') | 10121      | 1151      | 0.1137          | [0.1075, 0.1199]    | -1.5026     | 0.1329  | 32.40% |"
   ]
  },
  {
   "cell_type": "markdown",
   "id": "8208734c-164c-4c63-bfd9-9c835225ffc9",
   "metadata": {},
   "source": [
    "# 🥇 Winner by Unanimous Decision!\n",
    "\n",
    "Based on the test results, we conclude that the best website version is:\n",
    "\n",
    "- **Variant C: New Landing Page with Old Images**\n",
    "\n",
    "It is the only variant with a p-value below our significance level (0.05), strongly rejecting the Null Hypothesis. Moreover, it has a statistical power of 82.69% to reject false negatives. To explain the results, the old landing page was the only issue about the website, and the new landing page on its own was enough to resolve conversion rate, while the old images needed no changes."
   ]
  },
  {
   "cell_type": "markdown",
   "id": "0d540f5d-6fe9-4197-a17e-8efc98d0f491",
   "metadata": {},
   "source": [
    "## 🔮 Future Works\n",
    "\n",
    "- Determine if the users were randomly assigned to each group to verify integrity of test.\n",
    "- Set test sensitivity as to also determine the sample size needed to conduct the tests.\n",
    "- Further analyze why the new landing page performs better and why the new images were not helping."
   ]
  }
 ],
 "metadata": {
  "kernelspec": {
   "display_name": "Python 3 (ipykernel)",
   "language": "python",
   "name": "python3"
  },
  "language_info": {
   "codemirror_mode": {
    "name": "ipython",
    "version": 3
   },
   "file_extension": ".py",
   "mimetype": "text/x-python",
   "name": "python",
   "nbconvert_exporter": "python",
   "pygments_lexer": "ipython3",
   "version": "3.8.10"
  }
 },
 "nbformat": 4,
 "nbformat_minor": 5
}
