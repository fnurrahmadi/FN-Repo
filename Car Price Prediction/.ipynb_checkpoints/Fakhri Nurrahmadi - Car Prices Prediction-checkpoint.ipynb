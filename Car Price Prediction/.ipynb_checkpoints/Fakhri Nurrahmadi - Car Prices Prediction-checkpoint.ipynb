{
 "cells": [
  {
   "cell_type": "markdown",
   "id": "small-resistance",
   "metadata": {
    "id": "bA5ajAmk7XH6"
   },
   "source": [
    "# DataCamp Certification Case Study\n",
    "\n",
    "### Project Brief\n",
    "\n",
    "You have been hired as a data scientist at Discount Motors, a used car dealership in the UK. The dealership is expanding and has hired a large number of junior salespeople. Although promising, these junior employees have difficulties pricing used cars that arrive at the dealership. Sales have declined 18% in recent months, and management would like your help designing a tool to assist these junior employees.\n",
    "\n",
    "To start with, they would like you to work with the Toyota specialist to test your idea(s). They have collected some data from other retailers on the price that a range of Toyota cars were listed at. It is known that cars that are more than £1500 above the estimated price will not sell. The sales team wants to know whether you can make predictions within this range.\n",
    "\n",
    "You will need to present your findings in two formats:\n",
    "- You must submit a written report summarising your analysis to your manager. As a data science manager, your manager has a strong technical background and wants to understand what you have done and why. \n",
    "- You will then need to share your findings with the head of sales in a 10 minute presentation. The head of sales has no data science background but is familiar with basic data related terminology. \n",
    "\n",
    "The data you will use for this analysis can be accessed here: `\"data/toyota.csv\"`"
   ]
  },
  {
   "cell_type": "markdown",
   "id": "05513ddd-a510-4491-9af4-39ec09a37d3f",
   "metadata": {},
   "source": [
    "# Table of Contents"
   ]
  },
  {
   "cell_type": "markdown",
   "id": "8b484ef2-996f-4ecf-9919-fd029ce4233f",
   "metadata": {},
   "source": [
    "1. **[Dataset](#Dataset)**\n",
    "2. **[Analysis Plan](#Analysis)**\n",
    "3. **[Exploratory Data Analysis](#Exploratory)**\n",
    "4. **[Feature Engineering](#Feature)**\n",
    "5. **[Machine Learning Model](#Machine)**"
   ]
  },
  {
   "cell_type": "markdown",
   "id": "a42381e3-9f52-435a-9024-6d7fa2cff5d9",
   "metadata": {
    "tags": []
   },
   "source": [
    "# 1. Dataset <a name=\"Dataset\"></a>"
   ]
  },
  {
   "cell_type": "markdown",
   "id": "46d8e6b0-6e09-4f85-a5a1-108ea8c19da9",
   "metadata": {},
   "source": [
    "The Toyota specialist provided a dataset containing historical sales data of Toyota cars from retailers, which consists of a total of **6738 rows** and **9 columns**. All the variables in this dataset are listed and described as below, where `price` will be our target variable."
   ]
  },
  {
   "cell_type": "markdown",
   "id": "dc76ce41-3096-4372-a919-736b3a6cc0f4",
   "metadata": {
    "tags": []
   },
   "source": [
    "## 1.1 Variables\n",
    "\n",
    "| Variables | Details                                                                                                       |\n",
    "|--------------|---------------------------------------------------------------------------------------------------------------|\n",
    "| model        | Character, the model of the car, 18 possible values                                                           |\n",
    "| year         | Numeric, year of manufacture from 1998 to 2020                                                                |\n",
    "| **price**        | Numeric, listed value of the car in GBP                                                                       |\n",
    "| transmission | Character, one of \"Manual\", \"Automatic\", \"Semi-Auto\" or \"Other\"                                               |\n",
    "| mileage      | Numeric, listed mileage of the car at time of sale                                                             |\n",
    "| fuelType     | Character, one of \"Petrol\", \"Hybrid\", \"Diesel\" or \"Other\"                                                     |\n",
    "| tax          | Numeric, road tax in GBP. Calculated based on CO2 emissions or a fixed price depending on the age of the car. |\n",
    "| mpg          | Numeric, miles per gallon as reported by manufacturer                                                         |\n",
    "| engineSize   | Numeric, listed engine size, one of 16 possible values                                                        |"
   ]
  },
  {
   "cell_type": "code",
   "execution_count": 1,
   "id": "sensitive-excess",
   "metadata": {
    "scrolled": true
   },
   "outputs": [],
   "source": [
    "import pandas as pd\n",
    "import numpy as np\n",
    "import scipy.stats as st"
   ]
  },
  {
   "cell_type": "code",
   "execution_count": 2,
   "id": "d418f707-2775-4f70-9246-aa92afe31aa1",
   "metadata": {},
   "outputs": [
    {
     "data": {
      "text/html": [
       "<div>\n",
       "<style scoped>\n",
       "    .dataframe tbody tr th:only-of-type {\n",
       "        vertical-align: middle;\n",
       "    }\n",
       "\n",
       "    .dataframe tbody tr th {\n",
       "        vertical-align: top;\n",
       "    }\n",
       "\n",
       "    .dataframe thead th {\n",
       "        text-align: right;\n",
       "    }\n",
       "</style>\n",
       "<table border=\"1\" class=\"dataframe\">\n",
       "  <thead>\n",
       "    <tr style=\"text-align: right;\">\n",
       "      <th></th>\n",
       "      <th>model</th>\n",
       "      <th>year</th>\n",
       "      <th>price</th>\n",
       "      <th>transmission</th>\n",
       "      <th>mileage</th>\n",
       "      <th>fuelType</th>\n",
       "      <th>tax</th>\n",
       "      <th>mpg</th>\n",
       "      <th>engineSize</th>\n",
       "    </tr>\n",
       "  </thead>\n",
       "  <tbody>\n",
       "    <tr>\n",
       "      <th>0</th>\n",
       "      <td>GT86</td>\n",
       "      <td>2016</td>\n",
       "      <td>16000</td>\n",
       "      <td>Manual</td>\n",
       "      <td>24089</td>\n",
       "      <td>Petrol</td>\n",
       "      <td>265</td>\n",
       "      <td>36.2</td>\n",
       "      <td>2.0</td>\n",
       "    </tr>\n",
       "    <tr>\n",
       "      <th>1</th>\n",
       "      <td>GT86</td>\n",
       "      <td>2017</td>\n",
       "      <td>15995</td>\n",
       "      <td>Manual</td>\n",
       "      <td>18615</td>\n",
       "      <td>Petrol</td>\n",
       "      <td>145</td>\n",
       "      <td>36.2</td>\n",
       "      <td>2.0</td>\n",
       "    </tr>\n",
       "    <tr>\n",
       "      <th>2</th>\n",
       "      <td>GT86</td>\n",
       "      <td>2015</td>\n",
       "      <td>13998</td>\n",
       "      <td>Manual</td>\n",
       "      <td>27469</td>\n",
       "      <td>Petrol</td>\n",
       "      <td>265</td>\n",
       "      <td>36.2</td>\n",
       "      <td>2.0</td>\n",
       "    </tr>\n",
       "    <tr>\n",
       "      <th>3</th>\n",
       "      <td>GT86</td>\n",
       "      <td>2017</td>\n",
       "      <td>18998</td>\n",
       "      <td>Manual</td>\n",
       "      <td>14736</td>\n",
       "      <td>Petrol</td>\n",
       "      <td>150</td>\n",
       "      <td>36.2</td>\n",
       "      <td>2.0</td>\n",
       "    </tr>\n",
       "    <tr>\n",
       "      <th>4</th>\n",
       "      <td>GT86</td>\n",
       "      <td>2017</td>\n",
       "      <td>17498</td>\n",
       "      <td>Manual</td>\n",
       "      <td>36284</td>\n",
       "      <td>Petrol</td>\n",
       "      <td>145</td>\n",
       "      <td>36.2</td>\n",
       "      <td>2.0</td>\n",
       "    </tr>\n",
       "  </tbody>\n",
       "</table>\n",
       "</div>"
      ],
      "text/plain": [
       "   model  year  price transmission  mileage fuelType  tax   mpg  engineSize\n",
       "0   GT86  2016  16000       Manual    24089   Petrol  265  36.2         2.0\n",
       "1   GT86  2017  15995       Manual    18615   Petrol  145  36.2         2.0\n",
       "2   GT86  2015  13998       Manual    27469   Petrol  265  36.2         2.0\n",
       "3   GT86  2017  18998       Manual    14736   Petrol  150  36.2         2.0\n",
       "4   GT86  2017  17498       Manual    36284   Petrol  145  36.2         2.0"
      ]
     },
     "execution_count": 2,
     "metadata": {},
     "output_type": "execute_result"
    }
   ],
   "source": [
    "df = pd.read_csv('data/toyota.csv')\n",
    "df.head()"
   ]
  },
  {
   "cell_type": "code",
   "execution_count": 3,
   "id": "d4c378ef-3092-4512-83f5-0cf3d4d09d65",
   "metadata": {},
   "outputs": [
    {
     "name": "stdout",
     "output_type": "stream",
     "text": [
      "<class 'pandas.core.frame.DataFrame'>\n",
      "RangeIndex: 6738 entries, 0 to 6737\n",
      "Data columns (total 9 columns):\n",
      " #   Column        Non-Null Count  Dtype  \n",
      "---  ------        --------------  -----  \n",
      " 0   model         6738 non-null   object \n",
      " 1   year          6738 non-null   int64  \n",
      " 2   price         6738 non-null   int64  \n",
      " 3   transmission  6738 non-null   object \n",
      " 4   mileage       6738 non-null   int64  \n",
      " 5   fuelType      6738 non-null   object \n",
      " 6   tax           6738 non-null   int64  \n",
      " 7   mpg           6738 non-null   float64\n",
      " 8   engineSize    6738 non-null   float64\n",
      "dtypes: float64(2), int64(4), object(3)\n",
      "memory usage: 473.9+ KB\n"
     ]
    }
   ],
   "source": [
    "df.info()"
   ]
  },
  {
   "cell_type": "markdown",
   "id": "e193cc62-029a-4a66-839b-03e040074ed9",
   "metadata": {},
   "source": [
    "## 1.2 Handling missing values"
   ]
  },
  {
   "cell_type": "code",
   "execution_count": 4,
   "id": "1c1967a3-2b97-4915-8953-d26c88378c88",
   "metadata": {},
   "outputs": [
    {
     "data": {
      "text/plain": [
       "model           0\n",
       "year            0\n",
       "price           0\n",
       "transmission    0\n",
       "mileage         0\n",
       "fuelType        0\n",
       "tax             0\n",
       "mpg             0\n",
       "engineSize      0\n",
       "dtype: int64"
      ]
     },
     "execution_count": 4,
     "metadata": {},
     "output_type": "execute_result"
    }
   ],
   "source": [
    "df.isna().sum()"
   ]
  },
  {
   "cell_type": "code",
   "execution_count": 5,
   "id": "328e4cf0-47c6-4d5f-9d12-9f01e4d0f083",
   "metadata": {},
   "outputs": [
    {
     "name": "stdout",
     "output_type": "stream",
     "text": [
      "no nan detected in model\n",
      "no nan detected in transmission\n",
      "no nan detected in fuelType\n"
     ]
    }
   ],
   "source": [
    "for col in df.columns:\n",
    "    if df[col].dtype.name == 'object':\n",
    "        if np.nan in df[col].unique():\n",
    "            print('nan detected in', str(col))\n",
    "        else:\n",
    "            print('no nan detected in', str(col))"
   ]
  },
  {
   "cell_type": "markdown",
   "id": "d8ec4750-b4cd-4046-baf8-fb21e90639e9",
   "metadata": {},
   "source": [
    "After checking for missing values in every single column, it seems that the dataset has **no missing values** at all, so no action needs to be taken."
   ]
  },
  {
   "cell_type": "markdown",
   "id": "8f1a7ac0-c41f-47f8-8d52-ee8ffaa8717f",
   "metadata": {},
   "source": [
    "## 1.3 Handling duplicates"
   ]
  },
  {
   "cell_type": "code",
   "execution_count": 6,
   "id": "b8409b19-20bb-4063-864c-1848483af94d",
   "metadata": {},
   "outputs": [
    {
     "data": {
      "text/plain": [
       "39"
      ]
     },
     "execution_count": 6,
     "metadata": {},
     "output_type": "execute_result"
    }
   ],
   "source": [
    "df.duplicated().sum()"
   ]
  },
  {
   "cell_type": "code",
   "execution_count": 7,
   "id": "e96622fb-830b-42d9-9828-679830b157ad",
   "metadata": {},
   "outputs": [
    {
     "data": {
      "text/plain": [
       "0"
      ]
     },
     "execution_count": 7,
     "metadata": {},
     "output_type": "execute_result"
    }
   ],
   "source": [
    "df = df.drop_duplicates()\n",
    "df.duplicated().sum()"
   ]
  },
  {
   "cell_type": "markdown",
   "id": "8cadbf85-2392-4d6c-80c9-e1be8728ba5b",
   "metadata": {},
   "source": [
    "There were **39 duplicate rows** found, which were immediately **dropped** as they would create bias in our insights and model later on."
   ]
  },
  {
   "cell_type": "markdown",
   "id": "6a22436c-1893-4675-9d3b-03ec31e89329",
   "metadata": {},
   "source": [
    "## 1.4 Handling characters"
   ]
  },
  {
   "cell_type": "code",
   "execution_count": 8,
   "id": "c552e8ec-32ac-4ad6-b469-d1706f2ef4ef",
   "metadata": {},
   "outputs": [
    {
     "name": "stdout",
     "output_type": "stream",
     "text": [
      "['GT86' 'Corolla' 'RAV4' 'Yaris' 'Auris' 'Aygo' 'C-HR' 'Prius' 'Avensis'\n",
      " 'Verso' 'Hilux' 'PROACE VERSO' 'Land Cruiser' 'Supra' 'Camry' 'Verso-S'\n",
      " 'IQ' 'Urban Cruiser']\n",
      "['Manual' 'Automatic' 'Semi-Auto' 'Other']\n",
      "['Petrol' 'Other' 'Hybrid' 'Diesel']\n"
     ]
    }
   ],
   "source": [
    "columns_cat = ['model', 'transmission', 'fuelType']\n",
    "for col in columns_cat:\n",
    "    df[col] = df[col].str.strip()\n",
    "    print(df[col].unique())"
   ]
  },
  {
   "cell_type": "markdown",
   "id": "33f40bbf-bf48-486a-9fbd-f0b80ab11afa",
   "metadata": {},
   "source": [
    "Extra spaces in the beginning and at the end of each non numerical value were removed to achieve **cleaner data**. The columns with numerical data types should be left as is, as the numerical data type already restricts any character error in the data."
   ]
  },
  {
   "cell_type": "markdown",
   "id": "41d50926-d152-48d4-8983-1fcf6e37e888",
   "metadata": {},
   "source": [
    "## 1.5 Handling data types"
   ]
  },
  {
   "cell_type": "code",
   "execution_count": 9,
   "id": "f86d277f-9fcb-4bfd-9472-b00bb88c55be",
   "metadata": {},
   "outputs": [
    {
     "name": "stdout",
     "output_type": "stream",
     "text": [
      "Index(['Auris', 'Avensis', 'Aygo', 'C-HR', 'Camry', 'Corolla', 'GT86', 'Hilux',\n",
      "       'IQ', 'Land Cruiser', 'PROACE VERSO', 'Prius', 'RAV4', 'Supra',\n",
      "       'Urban Cruiser', 'Verso', 'Verso-S', 'Yaris'],\n",
      "      dtype='object')\n",
      "Int64Index([1998, 1999, 2000, 2001, 2002, 2003, 2004, 2005, 2006, 2007, 2008,\n",
      "            2009, 2010, 2011, 2012, 2013, 2014, 2015, 2016, 2017, 2018, 2019,\n",
      "            2020],\n",
      "           dtype='int64')\n",
      "Index(['Automatic', 'Manual', 'Other', 'Semi-Auto'], dtype='object')\n",
      "Index(['Diesel', 'Hybrid', 'Other', 'Petrol'], dtype='object')\n"
     ]
    }
   ],
   "source": [
    "columns_cat = ['model', 'transmission', 'fuelType']\n",
    "for col in columns_cat:\n",
    "    df[col] = df[col].astype('category')\n",
    "df['year'] = df['year'].astype('category')\n",
    "\n",
    "columns_cat = [col for col in df.columns if df[col].dtype.name == 'category']\n",
    "for col in columns_cat:\n",
    "    print(df[col].cat.categories)"
   ]
  },
  {
   "cell_type": "code",
   "execution_count": 10,
   "id": "ae907aee-0ba1-40ad-9e5d-72f7cfb1bb0f",
   "metadata": {},
   "outputs": [
    {
     "data": {
      "text/plain": [
       "model           category\n",
       "year            category\n",
       "price              int64\n",
       "transmission    category\n",
       "mileage            int64\n",
       "fuelType        category\n",
       "tax                int64\n",
       "mpg              float64\n",
       "engineSize       float64\n",
       "dtype: object"
      ]
     },
     "execution_count": 10,
     "metadata": {},
     "output_type": "execute_result"
    }
   ],
   "source": [
    "df.dtypes"
   ]
  },
  {
   "cell_type": "markdown",
   "id": "7bc6f553-0055-42b3-8fe1-9c803ac13e8a",
   "metadata": {},
   "source": [
    "The column `year` was converted into the **category data type** along with the other columns that previously had the object data type, namely `model`, `transmission`, and `fuelType`. Compared to the object data type, the category data type is much **smaller in size**, which is more efficient for Pandas to process.\n",
    "\n"
   ]
  },
  {
   "cell_type": "markdown",
   "id": "1dda2717-7792-4575-9eac-e43c65d1994b",
   "metadata": {},
   "source": [
    "# 2. Analysis Plan <a name=\"Analysis\"></a>\n",
    "\n",
    "This project is about predicting the prices of used cars that have already been sold, where the prices exist in the Toyota dataset that we have. This calls for a **supervised machine learning**. Since the target variable, namely `price`, is **numeric**, the model of choice will be **regression**. As for the model, a **multivariate linear regression** will be used to try and explain the data. If the linear regression model is able to achieve a decent result with initial test, then the decision will be to proceed with the linear regression  as the model of choice. Since this is a regression problem, the model evaluation will be based on the different metrics for regression to assess entire performance of the model.\n",
    "\n",
    "Before we are able to predict the prices of the used cars, we need to get a better understanding of the sales trends in our dataset and discover which variables correlate with the price of the cars. With that said, the plan of analysis to execute our approach is as follows:\n",
    "\n",
    "- Exploratory Data Analysis (EDA) to discover trends in sales of the used cars and highlight the variables that affect sales and price\n",
    "- Feature Engineering and Selection based on the results of the EDA performed\n",
    "- Testing the regression model and making improvements based on the model evaluations to achieve better scores and/or prediction efficiency"
   ]
  },
  {
   "cell_type": "markdown",
   "id": "ec3e5f35-2dbe-428b-8887-2241326a6cca",
   "metadata": {},
   "source": [
    "# 3. Exploratory Data Analysis <a name=\"Exploratory\"></a>"
   ]
  },
  {
   "cell_type": "code",
   "execution_count": 11,
   "id": "9ff73a06-e7f1-4013-9a6d-b53c0d32ac7e",
   "metadata": {},
   "outputs": [],
   "source": [
    "import matplotlib.pyplot as plt\n",
    "import seaborn as sns\n",
    "\n",
    "sns.set_theme(style='darkgrid', font_scale=1.25, context='notebook', palette='bright')"
   ]
  },
  {
   "cell_type": "code",
   "execution_count": 267,
   "id": "edff391c-cd5b-4baf-9f6d-f933c3058cfb",
   "metadata": {},
   "outputs": [],
   "source": [
    "def labels(title, x, y):\n",
    "    plt.title(title)\n",
    "    plt.xlabel(x)\n",
    "    plt.ylabel(y)"
   ]
  },
  {
   "cell_type": "markdown",
   "id": "a96577c0-62ed-4785-a575-18bcbebac710",
   "metadata": {
    "tags": []
   },
   "source": [
    "## 3.1 Overall Price Distribution"
   ]
  },
  {
   "cell_type": "code",
   "execution_count": 273,
   "id": "3b5dfc6c-9827-48de-ae27-07816317bb07",
   "metadata": {},
   "outputs": [
    {
     "data": {
      "image/png": "[encoded data removed]",
      "text/plain": [
       "<Figure size 1152x288 with 3 Axes>"
      ]
     },
     "metadata": {},
     "output_type": "display_data"
    }
   ],
   "source": [
    "plt.figure(figsize=(16,4))\n",
    "plt.suptitle('Price Distribution', fontsize=20, y=1.05)\n",
    "\n",
    "plt.subplot(1,3,1)\n",
    "sns.histplot(data=df, x='price', stat='frequency', bins=50, kde=True)\n",
    "labels('Histogram', 'Frequency', 'Price')\n",
    "\n",
    "plt.subplot(1,3,2)\n",
    "sns.boxplot(data=df, x='price', width=0.5)\n",
    "labels('Boxplot', '', 'Price')\n",
    "\n",
    "plt.subplot(1,3,3)\n",
    "sns.ecdfplot(data=df, x='price')\n",
    "labels('ECDF', 'Proportion', 'Price')\n",
    "\n",
    "plt.show()"
   ]
  },
  {
   "cell_type": "code",
   "execution_count": 13,
   "id": "e3dc7c8a-a431-49a0-9df3-9848b8b097ac",
   "metadata": {},
   "outputs": [
    {
     "data": {
      "text/plain": [
       "count     6699.000000\n",
       "mean     12529.799074\n",
       "std       6358.562625\n",
       "min        850.000000\n",
       "25%       8266.500000\n",
       "50%      10798.000000\n",
       "75%      14995.000000\n",
       "max      59995.000000\n",
       "Name: price, dtype: float64"
      ]
     },
     "execution_count": 13,
     "metadata": {},
     "output_type": "execute_result"
    }
   ],
   "source": [
    "df['price'].describe()"
   ]
  },
  {
   "cell_type": "code",
   "execution_count": 14,
   "id": "6bec7fcb-b8bf-46bf-b854-2573e1720849",
   "metadata": {},
   "outputs": [
    {
     "data": {
      "text/plain": [
       "(21723.5, 14995.0, 6728.5)"
      ]
     },
     "execution_count": 14,
     "metadata": {},
     "output_type": "execute_result"
    }
   ],
   "source": [
    "iqr = st.iqr(df['price'])\n",
    "q3 = np.percentile(df['price'], 75)\n",
    "maximum=q3+iqr\n",
    "maximum, q3, iqr"
   ]
  },
  {
   "cell_type": "markdown",
   "id": "ab774613-4182-4811-8de0-f1b63f62fe8e",
   "metadata": {},
   "source": [
    "**Conclusions**\n",
    "- The distribution of used cars sales price is normally distributed, with a mean of £12529 and a median of £10798.\n",
    "- The distribution is right-skewed, explained by having a mode less than the median and a median less than the mean.\n",
    "- Being right-skewed indicates that the outliers are to the right, where the higher prices are.\n",
    "- Cheaper cars are sold more than more expensive cars.\n",
    "- The maximum of the box plot is at £21723, so the prices above that are considered outliers.\n",
    "- Around 75% of the prices are below £15000"
   ]
  },
  {
   "cell_type": "markdown",
   "id": "bb3d78db-7011-4852-94b6-6f42cf300220",
   "metadata": {
    "tags": []
   },
   "source": [
    "## 3.2 Categorical Variables"
   ]
  },
  {
   "cell_type": "markdown",
   "id": "ef8c513f-8be4-4cf9-9563-b83b8fa28a8d",
   "metadata": {},
   "source": [
    "To explain the categorical variables, tables, bar charts, count plots, and histograms will be used. Tables will best explain columns with numerous categories, while columns with less catogeries can be best explained with histograms"
   ]
  },
  {
   "cell_type": "markdown",
   "id": "fd3f2870-7636-463f-a537-59b00f35ac3c",
   "metadata": {},
   "source": [
    "### 3.2.1 Year"
   ]
  },
  {
   "cell_type": "code",
   "execution_count": 15,
   "id": "466f3c08-4044-41c3-9f0d-c518afdcf495",
   "metadata": {},
   "outputs": [
    {
     "data": {
      "text/html": [
       "<div>\n",
       "<style scoped>\n",
       "    .dataframe tbody tr th:only-of-type {\n",
       "        vertical-align: middle;\n",
       "    }\n",
       "\n",
       "    .dataframe tbody tr th {\n",
       "        vertical-align: top;\n",
       "    }\n",
       "\n",
       "    .dataframe thead th {\n",
       "        text-align: right;\n",
       "    }\n",
       "</style>\n",
       "<table border=\"1\" class=\"dataframe\">\n",
       "  <thead>\n",
       "    <tr style=\"text-align: right;\">\n",
       "      <th></th>\n",
       "      <th>model</th>\n",
       "      <th>year</th>\n",
       "      <th>price</th>\n",
       "      <th>transmission</th>\n",
       "      <th>mileage</th>\n",
       "      <th>fuelType</th>\n",
       "      <th>tax</th>\n",
       "      <th>mpg</th>\n",
       "      <th>engineSize</th>\n",
       "    </tr>\n",
       "  </thead>\n",
       "  <tbody>\n",
       "    <tr>\n",
       "      <th>0</th>\n",
       "      <td>GT86</td>\n",
       "      <td>2016</td>\n",
       "      <td>16000</td>\n",
       "      <td>Manual</td>\n",
       "      <td>24089</td>\n",
       "      <td>Petrol</td>\n",
       "      <td>265</td>\n",
       "      <td>36.2</td>\n",
       "      <td>2.0</td>\n",
       "    </tr>\n",
       "    <tr>\n",
       "      <th>1</th>\n",
       "      <td>GT86</td>\n",
       "      <td>2017</td>\n",
       "      <td>15995</td>\n",
       "      <td>Manual</td>\n",
       "      <td>18615</td>\n",
       "      <td>Petrol</td>\n",
       "      <td>145</td>\n",
       "      <td>36.2</td>\n",
       "      <td>2.0</td>\n",
       "    </tr>\n",
       "    <tr>\n",
       "      <th>2</th>\n",
       "      <td>GT86</td>\n",
       "      <td>2015</td>\n",
       "      <td>13998</td>\n",
       "      <td>Manual</td>\n",
       "      <td>27469</td>\n",
       "      <td>Petrol</td>\n",
       "      <td>265</td>\n",
       "      <td>36.2</td>\n",
       "      <td>2.0</td>\n",
       "    </tr>\n",
       "    <tr>\n",
       "      <th>3</th>\n",
       "      <td>GT86</td>\n",
       "      <td>2017</td>\n",
       "      <td>18998</td>\n",
       "      <td>Manual</td>\n",
       "      <td>14736</td>\n",
       "      <td>Petrol</td>\n",
       "      <td>150</td>\n",
       "      <td>36.2</td>\n",
       "      <td>2.0</td>\n",
       "    </tr>\n",
       "    <tr>\n",
       "      <th>4</th>\n",
       "      <td>GT86</td>\n",
       "      <td>2017</td>\n",
       "      <td>17498</td>\n",
       "      <td>Manual</td>\n",
       "      <td>36284</td>\n",
       "      <td>Petrol</td>\n",
       "      <td>145</td>\n",
       "      <td>36.2</td>\n",
       "      <td>2.0</td>\n",
       "    </tr>\n",
       "    <tr>\n",
       "      <th>...</th>\n",
       "      <td>...</td>\n",
       "      <td>...</td>\n",
       "      <td>...</td>\n",
       "      <td>...</td>\n",
       "      <td>...</td>\n",
       "      <td>...</td>\n",
       "      <td>...</td>\n",
       "      <td>...</td>\n",
       "      <td>...</td>\n",
       "    </tr>\n",
       "    <tr>\n",
       "      <th>6733</th>\n",
       "      <td>IQ</td>\n",
       "      <td>2011</td>\n",
       "      <td>5500</td>\n",
       "      <td>Automatic</td>\n",
       "      <td>30000</td>\n",
       "      <td>Petrol</td>\n",
       "      <td>20</td>\n",
       "      <td>58.9</td>\n",
       "      <td>1.0</td>\n",
       "    </tr>\n",
       "    <tr>\n",
       "      <th>6734</th>\n",
       "      <td>Urban Cruiser</td>\n",
       "      <td>2011</td>\n",
       "      <td>4985</td>\n",
       "      <td>Manual</td>\n",
       "      <td>36154</td>\n",
       "      <td>Petrol</td>\n",
       "      <td>125</td>\n",
       "      <td>50.4</td>\n",
       "      <td>1.3</td>\n",
       "    </tr>\n",
       "    <tr>\n",
       "      <th>6735</th>\n",
       "      <td>Urban Cruiser</td>\n",
       "      <td>2012</td>\n",
       "      <td>4995</td>\n",
       "      <td>Manual</td>\n",
       "      <td>46000</td>\n",
       "      <td>Diesel</td>\n",
       "      <td>125</td>\n",
       "      <td>57.6</td>\n",
       "      <td>1.4</td>\n",
       "    </tr>\n",
       "    <tr>\n",
       "      <th>6736</th>\n",
       "      <td>Urban Cruiser</td>\n",
       "      <td>2011</td>\n",
       "      <td>3995</td>\n",
       "      <td>Manual</td>\n",
       "      <td>60700</td>\n",
       "      <td>Petrol</td>\n",
       "      <td>125</td>\n",
       "      <td>50.4</td>\n",
       "      <td>1.3</td>\n",
       "    </tr>\n",
       "    <tr>\n",
       "      <th>6737</th>\n",
       "      <td>Urban Cruiser</td>\n",
       "      <td>2011</td>\n",
       "      <td>4495</td>\n",
       "      <td>Manual</td>\n",
       "      <td>45128</td>\n",
       "      <td>Petrol</td>\n",
       "      <td>125</td>\n",
       "      <td>50.4</td>\n",
       "      <td>1.3</td>\n",
       "    </tr>\n",
       "  </tbody>\n",
       "</table>\n",
       "<p>6698 rows × 9 columns</p>\n",
       "</div>"
      ],
      "text/plain": [
       "              model  year  price transmission  mileage fuelType  tax   mpg  \\\n",
       "0              GT86  2016  16000       Manual    24089   Petrol  265  36.2   \n",
       "1              GT86  2017  15995       Manual    18615   Petrol  145  36.2   \n",
       "2              GT86  2015  13998       Manual    27469   Petrol  265  36.2   \n",
       "3              GT86  2017  18998       Manual    14736   Petrol  150  36.2   \n",
       "4              GT86  2017  17498       Manual    36284   Petrol  145  36.2   \n",
       "...             ...   ...    ...          ...      ...      ...  ...   ...   \n",
       "6733             IQ  2011   5500    Automatic    30000   Petrol   20  58.9   \n",
       "6734  Urban Cruiser  2011   4985       Manual    36154   Petrol  125  50.4   \n",
       "6735  Urban Cruiser  2012   4995       Manual    46000   Diesel  125  57.6   \n",
       "6736  Urban Cruiser  2011   3995       Manual    60700   Petrol  125  50.4   \n",
       "6737  Urban Cruiser  2011   4495       Manual    45128   Petrol  125  50.4   \n",
       "\n",
       "      engineSize  \n",
       "0            2.0  \n",
       "1            2.0  \n",
       "2            2.0  \n",
       "3            2.0  \n",
       "4            2.0  \n",
       "...          ...  \n",
       "6733         1.0  \n",
       "6734         1.3  \n",
       "6735         1.4  \n",
       "6736         1.3  \n",
       "6737         1.3  \n",
       "\n",
       "[6698 rows x 9 columns]"
      ]
     },
     "execution_count": 15,
     "metadata": {},
     "output_type": "execute_result"
    }
   ],
   "source": [
    "df = df.loc[df['year']!=1998]\n",
    "df"
   ]
  },
  {
   "cell_type": "code",
   "execution_count": 16,
   "id": "bcd99a52-224f-46cb-9b5b-86b34c6d8d10",
   "metadata": {},
   "outputs": [
    {
     "data": {
      "text/html": [
       "<div>\n",
       "<style scoped>\n",
       "    .dataframe tbody tr th:only-of-type {\n",
       "        vertical-align: middle;\n",
       "    }\n",
       "\n",
       "    .dataframe tbody tr th {\n",
       "        vertical-align: top;\n",
       "    }\n",
       "\n",
       "    .dataframe thead tr th {\n",
       "        text-align: left;\n",
       "    }\n",
       "\n",
       "    .dataframe thead tr:last-of-type th {\n",
       "        text-align: right;\n",
       "    }\n",
       "</style>\n",
       "<table border=\"1\" class=\"dataframe\">\n",
       "  <thead>\n",
       "    <tr>\n",
       "      <th></th>\n",
       "      <th>year</th>\n",
       "      <th colspan=\"2\" halign=\"left\">price</th>\n",
       "    </tr>\n",
       "    <tr>\n",
       "      <th></th>\n",
       "      <th>count</th>\n",
       "      <th>mean</th>\n",
       "      <th>median</th>\n",
       "    </tr>\n",
       "    <tr>\n",
       "      <th>year</th>\n",
       "      <th></th>\n",
       "      <th></th>\n",
       "      <th></th>\n",
       "    </tr>\n",
       "  </thead>\n",
       "  <tbody>\n",
       "    <tr>\n",
       "      <th>2017</th>\n",
       "      <td>2015</td>\n",
       "      <td>12191.800000</td>\n",
       "      <td>10498.0</td>\n",
       "    </tr>\n",
       "    <tr>\n",
       "      <th>2019</th>\n",
       "      <td>1265</td>\n",
       "      <td>16814.223715</td>\n",
       "      <td>12999.0</td>\n",
       "    </tr>\n",
       "    <tr>\n",
       "      <th>2018</th>\n",
       "      <td>1014</td>\n",
       "      <td>12384.738659</td>\n",
       "      <td>10702.5</td>\n",
       "    </tr>\n",
       "    <tr>\n",
       "      <th>2016</th>\n",
       "      <td>990</td>\n",
       "      <td>11702.282828</td>\n",
       "      <td>10877.5</td>\n",
       "    </tr>\n",
       "    <tr>\n",
       "      <th>2015</th>\n",
       "      <td>522</td>\n",
       "      <td>9886.078544</td>\n",
       "      <td>8998.5</td>\n",
       "    </tr>\n",
       "    <tr>\n",
       "      <th>2014</th>\n",
       "      <td>351</td>\n",
       "      <td>9060.062678</td>\n",
       "      <td>8990.0</td>\n",
       "    </tr>\n",
       "    <tr>\n",
       "      <th>2013</th>\n",
       "      <td>203</td>\n",
       "      <td>8413.438424</td>\n",
       "      <td>8490.0</td>\n",
       "    </tr>\n",
       "    <tr>\n",
       "      <th>2020</th>\n",
       "      <td>127</td>\n",
       "      <td>23033.236220</td>\n",
       "      <td>24990.0</td>\n",
       "    </tr>\n",
       "    <tr>\n",
       "      <th>2012</th>\n",
       "      <td>42</td>\n",
       "      <td>6634.595238</td>\n",
       "      <td>6245.0</td>\n",
       "    </tr>\n",
       "    <tr>\n",
       "      <th>2011</th>\n",
       "      <td>40</td>\n",
       "      <td>5341.425000</td>\n",
       "      <td>5597.5</td>\n",
       "    </tr>\n",
       "    <tr>\n",
       "      <th>2009</th>\n",
       "      <td>29</td>\n",
       "      <td>4160.413793</td>\n",
       "      <td>3750.0</td>\n",
       "    </tr>\n",
       "    <tr>\n",
       "      <th>2007</th>\n",
       "      <td>20</td>\n",
       "      <td>2797.500000</td>\n",
       "      <td>2817.5</td>\n",
       "    </tr>\n",
       "    <tr>\n",
       "      <th>2008</th>\n",
       "      <td>19</td>\n",
       "      <td>3926.210526</td>\n",
       "      <td>3995.0</td>\n",
       "    </tr>\n",
       "    <tr>\n",
       "      <th>2010</th>\n",
       "      <td>18</td>\n",
       "      <td>5397.500000</td>\n",
       "      <td>5242.5</td>\n",
       "    </tr>\n",
       "    <tr>\n",
       "      <th>2005</th>\n",
       "      <td>12</td>\n",
       "      <td>3054.416667</td>\n",
       "      <td>2597.0</td>\n",
       "    </tr>\n",
       "    <tr>\n",
       "      <th>2006</th>\n",
       "      <td>11</td>\n",
       "      <td>3109.454545</td>\n",
       "      <td>2750.0</td>\n",
       "    </tr>\n",
       "    <tr>\n",
       "      <th>2004</th>\n",
       "      <td>7</td>\n",
       "      <td>3893.571429</td>\n",
       "      <td>3495.0</td>\n",
       "    </tr>\n",
       "    <tr>\n",
       "      <th>2003</th>\n",
       "      <td>6</td>\n",
       "      <td>1984.166667</td>\n",
       "      <td>1845.0</td>\n",
       "    </tr>\n",
       "    <tr>\n",
       "      <th>2002</th>\n",
       "      <td>4</td>\n",
       "      <td>1811.000000</td>\n",
       "      <td>1799.5</td>\n",
       "    </tr>\n",
       "    <tr>\n",
       "      <th>1999</th>\n",
       "      <td>1</td>\n",
       "      <td>1995.000000</td>\n",
       "      <td>1995.0</td>\n",
       "    </tr>\n",
       "    <tr>\n",
       "      <th>2001</th>\n",
       "      <td>1</td>\n",
       "      <td>899.000000</td>\n",
       "      <td>899.0</td>\n",
       "    </tr>\n",
       "    <tr>\n",
       "      <th>2000</th>\n",
       "      <td>1</td>\n",
       "      <td>2695.000000</td>\n",
       "      <td>2695.0</td>\n",
       "    </tr>\n",
       "    <tr>\n",
       "      <th>1998</th>\n",
       "      <td>0</td>\n",
       "      <td>NaN</td>\n",
       "      <td>NaN</td>\n",
       "    </tr>\n",
       "  </tbody>\n",
       "</table>\n",
       "</div>"
      ],
      "text/plain": [
       "      year         price         \n",
       "     count          mean   median\n",
       "year                             \n",
       "2017  2015  12191.800000  10498.0\n",
       "2019  1265  16814.223715  12999.0\n",
       "2018  1014  12384.738659  10702.5\n",
       "2016   990  11702.282828  10877.5\n",
       "2015   522   9886.078544   8998.5\n",
       "2014   351   9060.062678   8990.0\n",
       "2013   203   8413.438424   8490.0\n",
       "2020   127  23033.236220  24990.0\n",
       "2012    42   6634.595238   6245.0\n",
       "2011    40   5341.425000   5597.5\n",
       "2009    29   4160.413793   3750.0\n",
       "2007    20   2797.500000   2817.5\n",
       "2008    19   3926.210526   3995.0\n",
       "2010    18   5397.500000   5242.5\n",
       "2005    12   3054.416667   2597.0\n",
       "2006    11   3109.454545   2750.0\n",
       "2004     7   3893.571429   3495.0\n",
       "2003     6   1984.166667   1845.0\n",
       "2002     4   1811.000000   1799.5\n",
       "1999     1   1995.000000   1995.0\n",
       "2001     1    899.000000    899.0\n",
       "2000     1   2695.000000   2695.0\n",
       "1998     0           NaN      NaN"
      ]
     },
     "execution_count": 16,
     "metadata": {},
     "output_type": "execute_result"
    }
   ],
   "source": [
    "year_df = df.groupby('year').agg({'year':'count', 'price':['mean','median']}).sort_values(('year','count'), ascending=False)\n",
    "year_df"
   ]
  },
  {
   "cell_type": "code",
   "execution_count": 17,
   "id": "8f771584-e73e-419f-8581-fbf91e809340",
   "metadata": {},
   "outputs": [
    {
     "data": {
      "text/html": [
       "<div>\n",
       "<style scoped>\n",
       "    .dataframe tbody tr th:only-of-type {\n",
       "        vertical-align: middle;\n",
       "    }\n",
       "\n",
       "    .dataframe tbody tr th {\n",
       "        vertical-align: top;\n",
       "    }\n",
       "\n",
       "    .dataframe thead tr th {\n",
       "        text-align: left;\n",
       "    }\n",
       "\n",
       "    .dataframe thead tr:last-of-type th {\n",
       "        text-align: right;\n",
       "    }\n",
       "</style>\n",
       "<table border=\"1\" class=\"dataframe\">\n",
       "  <thead>\n",
       "    <tr>\n",
       "      <th></th>\n",
       "      <th>year</th>\n",
       "      <th colspan=\"2\" halign=\"left\">price</th>\n",
       "    </tr>\n",
       "    <tr>\n",
       "      <th></th>\n",
       "      <th>count</th>\n",
       "      <th>mean</th>\n",
       "      <th>median</th>\n",
       "    </tr>\n",
       "    <tr>\n",
       "      <th>year</th>\n",
       "      <th></th>\n",
       "      <th></th>\n",
       "      <th></th>\n",
       "    </tr>\n",
       "  </thead>\n",
       "  <tbody>\n",
       "    <tr>\n",
       "      <th>2020</th>\n",
       "      <td>127</td>\n",
       "      <td>23033.236220</td>\n",
       "      <td>24990.0</td>\n",
       "    </tr>\n",
       "    <tr>\n",
       "      <th>2019</th>\n",
       "      <td>1265</td>\n",
       "      <td>16814.223715</td>\n",
       "      <td>12999.0</td>\n",
       "    </tr>\n",
       "    <tr>\n",
       "      <th>2018</th>\n",
       "      <td>1014</td>\n",
       "      <td>12384.738659</td>\n",
       "      <td>10702.5</td>\n",
       "    </tr>\n",
       "    <tr>\n",
       "      <th>2017</th>\n",
       "      <td>2015</td>\n",
       "      <td>12191.800000</td>\n",
       "      <td>10498.0</td>\n",
       "    </tr>\n",
       "    <tr>\n",
       "      <th>2016</th>\n",
       "      <td>990</td>\n",
       "      <td>11702.282828</td>\n",
       "      <td>10877.5</td>\n",
       "    </tr>\n",
       "    <tr>\n",
       "      <th>2015</th>\n",
       "      <td>522</td>\n",
       "      <td>9886.078544</td>\n",
       "      <td>8998.5</td>\n",
       "    </tr>\n",
       "    <tr>\n",
       "      <th>2014</th>\n",
       "      <td>351</td>\n",
       "      <td>9060.062678</td>\n",
       "      <td>8990.0</td>\n",
       "    </tr>\n",
       "    <tr>\n",
       "      <th>2013</th>\n",
       "      <td>203</td>\n",
       "      <td>8413.438424</td>\n",
       "      <td>8490.0</td>\n",
       "    </tr>\n",
       "    <tr>\n",
       "      <th>2012</th>\n",
       "      <td>42</td>\n",
       "      <td>6634.595238</td>\n",
       "      <td>6245.0</td>\n",
       "    </tr>\n",
       "    <tr>\n",
       "      <th>2010</th>\n",
       "      <td>18</td>\n",
       "      <td>5397.500000</td>\n",
       "      <td>5242.5</td>\n",
       "    </tr>\n",
       "    <tr>\n",
       "      <th>2011</th>\n",
       "      <td>40</td>\n",
       "      <td>5341.425000</td>\n",
       "      <td>5597.5</td>\n",
       "    </tr>\n",
       "    <tr>\n",
       "      <th>2009</th>\n",
       "      <td>29</td>\n",
       "      <td>4160.413793</td>\n",
       "      <td>3750.0</td>\n",
       "    </tr>\n",
       "    <tr>\n",
       "      <th>2008</th>\n",
       "      <td>19</td>\n",
       "      <td>3926.210526</td>\n",
       "      <td>3995.0</td>\n",
       "    </tr>\n",
       "    <tr>\n",
       "      <th>2004</th>\n",
       "      <td>7</td>\n",
       "      <td>3893.571429</td>\n",
       "      <td>3495.0</td>\n",
       "    </tr>\n",
       "    <tr>\n",
       "      <th>2006</th>\n",
       "      <td>11</td>\n",
       "      <td>3109.454545</td>\n",
       "      <td>2750.0</td>\n",
       "    </tr>\n",
       "    <tr>\n",
       "      <th>2005</th>\n",
       "      <td>12</td>\n",
       "      <td>3054.416667</td>\n",
       "      <td>2597.0</td>\n",
       "    </tr>\n",
       "    <tr>\n",
       "      <th>2007</th>\n",
       "      <td>20</td>\n",
       "      <td>2797.500000</td>\n",
       "      <td>2817.5</td>\n",
       "    </tr>\n",
       "    <tr>\n",
       "      <th>2000</th>\n",
       "      <td>1</td>\n",
       "      <td>2695.000000</td>\n",
       "      <td>2695.0</td>\n",
       "    </tr>\n",
       "    <tr>\n",
       "      <th>1999</th>\n",
       "      <td>1</td>\n",
       "      <td>1995.000000</td>\n",
       "      <td>1995.0</td>\n",
       "    </tr>\n",
       "    <tr>\n",
       "      <th>2003</th>\n",
       "      <td>6</td>\n",
       "      <td>1984.166667</td>\n",
       "      <td>1845.0</td>\n",
       "    </tr>\n",
       "    <tr>\n",
       "      <th>2002</th>\n",
       "      <td>4</td>\n",
       "      <td>1811.000000</td>\n",
       "      <td>1799.5</td>\n",
       "    </tr>\n",
       "    <tr>\n",
       "      <th>2001</th>\n",
       "      <td>1</td>\n",
       "      <td>899.000000</td>\n",
       "      <td>899.0</td>\n",
       "    </tr>\n",
       "    <tr>\n",
       "      <th>1998</th>\n",
       "      <td>0</td>\n",
       "      <td>NaN</td>\n",
       "      <td>NaN</td>\n",
       "    </tr>\n",
       "  </tbody>\n",
       "</table>\n",
       "</div>"
      ],
      "text/plain": [
       "      year         price         \n",
       "     count          mean   median\n",
       "year                             \n",
       "2020   127  23033.236220  24990.0\n",
       "2019  1265  16814.223715  12999.0\n",
       "2018  1014  12384.738659  10702.5\n",
       "2017  2015  12191.800000  10498.0\n",
       "2016   990  11702.282828  10877.5\n",
       "2015   522   9886.078544   8998.5\n",
       "2014   351   9060.062678   8990.0\n",
       "2013   203   8413.438424   8490.0\n",
       "2012    42   6634.595238   6245.0\n",
       "2010    18   5397.500000   5242.5\n",
       "2011    40   5341.425000   5597.5\n",
       "2009    29   4160.413793   3750.0\n",
       "2008    19   3926.210526   3995.0\n",
       "2004     7   3893.571429   3495.0\n",
       "2006    11   3109.454545   2750.0\n",
       "2005    12   3054.416667   2597.0\n",
       "2007    20   2797.500000   2817.5\n",
       "2000     1   2695.000000   2695.0\n",
       "1999     1   1995.000000   1995.0\n",
       "2003     6   1984.166667   1845.0\n",
       "2002     4   1811.000000   1799.5\n",
       "2001     1    899.000000    899.0\n",
       "1998     0           NaN      NaN"
      ]
     },
     "execution_count": 17,
     "metadata": {},
     "output_type": "execute_result"
    }
   ],
   "source": [
    "year_df.sort_values(('price','mean'), ascending=False)"
   ]
  },
  {
   "cell_type": "code",
   "execution_count": 277,
   "id": "5fee30be-3fca-4e40-b8f1-df236a64419b",
   "metadata": {},
   "outputs": [
    {
     "data": {
      "image/png": "[encoded data removed]",
      "text/plain": [
       "<Figure size 1152x288 with 2 Axes>"
      ]
     },
     "metadata": {},
     "output_type": "display_data"
    }
   ],
   "source": [
    "plt.figure(figsize=(16,4))\n",
    "plt.suptitle('Distributed by Year', fontsize=20, y=1.05)\n",
    "\n",
    "plt.subplot(1,2,1)\n",
    "sns.countplot(data=df, x='year', palette=\"Spectral\")\n",
    "plt.xticks(rotation=90)\n",
    "labels('Count per Year', 'Year', 'Count')\n",
    "\n",
    "plt.subplot(1,2,2)\n",
    "sns.barplot(data=df, x='year', y='price', palette=\"Spectral\")\n",
    "plt.xticks(rotation=90)\n",
    "labels('Average Price per Year', 'Year', 'Price')\n",
    "            \n",
    "plt.show()"
   ]
  },
  {
   "cell_type": "markdown",
   "id": "0ebf5f71-9d62-4a93-a152-6bbac7d56524",
   "metadata": {},
   "source": [
    "**Conclusions**\n",
    "- Newer cars are typically more expensive than older cars, except for one car manufactured in 1998 that was overpriced, which is considered as an outlier and was dropped.\n",
    "- Most of the cars sold were manufactured in 2017, forming left-skewed normal distribution, with 2017 as the mode.\n",
    "- As it is left-skewed, the outliers in this case are older cars, and newer cars are more likely to be sold than older cars."
   ]
  },
  {
   "cell_type": "markdown",
   "id": "8e6d0b79-2114-40ee-9301-69ac8f372e55",
   "metadata": {},
   "source": [
    "### 3.2.2 Model"
   ]
  },
  {
   "cell_type": "code",
   "execution_count": 19,
   "id": "53eab9e3-a4ea-428e-abe6-be62f1c10b71",
   "metadata": {},
   "outputs": [
    {
     "data": {
      "text/html": [
       "<div>\n",
       "<style scoped>\n",
       "    .dataframe tbody tr th:only-of-type {\n",
       "        vertical-align: middle;\n",
       "    }\n",
       "\n",
       "    .dataframe tbody tr th {\n",
       "        vertical-align: top;\n",
       "    }\n",
       "\n",
       "    .dataframe thead tr th {\n",
       "        text-align: left;\n",
       "    }\n",
       "\n",
       "    .dataframe thead tr:last-of-type th {\n",
       "        text-align: right;\n",
       "    }\n",
       "</style>\n",
       "<table border=\"1\" class=\"dataframe\">\n",
       "  <thead>\n",
       "    <tr>\n",
       "      <th></th>\n",
       "      <th>model</th>\n",
       "      <th colspan=\"2\" halign=\"left\">price</th>\n",
       "    </tr>\n",
       "    <tr>\n",
       "      <th></th>\n",
       "      <th>count</th>\n",
       "      <th>mean</th>\n",
       "      <th>median</th>\n",
       "    </tr>\n",
       "    <tr>\n",
       "      <th>model</th>\n",
       "      <th></th>\n",
       "      <th></th>\n",
       "      <th></th>\n",
       "    </tr>\n",
       "  </thead>\n",
       "  <tbody>\n",
       "    <tr>\n",
       "      <th>Yaris</th>\n",
       "      <td>2117</td>\n",
       "      <td>10548.840340</td>\n",
       "      <td>10645.0</td>\n",
       "    </tr>\n",
       "    <tr>\n",
       "      <th>Aygo</th>\n",
       "      <td>1940</td>\n",
       "      <td>7887.239175</td>\n",
       "      <td>7880.0</td>\n",
       "    </tr>\n",
       "    <tr>\n",
       "      <th>Auris</th>\n",
       "      <td>709</td>\n",
       "      <td>12524.730606</td>\n",
       "      <td>12750.0</td>\n",
       "    </tr>\n",
       "    <tr>\n",
       "      <th>C-HR</th>\n",
       "      <td>479</td>\n",
       "      <td>20651.540710</td>\n",
       "      <td>20695.0</td>\n",
       "    </tr>\n",
       "    <tr>\n",
       "      <th>RAV4</th>\n",
       "      <td>467</td>\n",
       "      <td>18200.421842</td>\n",
       "      <td>18695.0</td>\n",
       "    </tr>\n",
       "    <tr>\n",
       "      <th>Corolla</th>\n",
       "      <td>265</td>\n",
       "      <td>20972.675472</td>\n",
       "      <td>21850.0</td>\n",
       "    </tr>\n",
       "    <tr>\n",
       "      <th>Prius</th>\n",
       "      <td>232</td>\n",
       "      <td>18998.844828</td>\n",
       "      <td>18997.0</td>\n",
       "    </tr>\n",
       "    <tr>\n",
       "      <th>Avensis</th>\n",
       "      <td>114</td>\n",
       "      <td>9878.122807</td>\n",
       "      <td>10262.0</td>\n",
       "    </tr>\n",
       "    <tr>\n",
       "      <th>Verso</th>\n",
       "      <td>114</td>\n",
       "      <td>12169.157895</td>\n",
       "      <td>12496.5</td>\n",
       "    </tr>\n",
       "    <tr>\n",
       "      <th>Hilux</th>\n",
       "      <td>85</td>\n",
       "      <td>21581.176471</td>\n",
       "      <td>21495.0</td>\n",
       "    </tr>\n",
       "    <tr>\n",
       "      <th>GT86</th>\n",
       "      <td>73</td>\n",
       "      <td>19908.849315</td>\n",
       "      <td>18621.0</td>\n",
       "    </tr>\n",
       "    <tr>\n",
       "      <th>Land Cruiser</th>\n",
       "      <td>50</td>\n",
       "      <td>36817.100000</td>\n",
       "      <td>39498.0</td>\n",
       "    </tr>\n",
       "    <tr>\n",
       "      <th>PROACE VERSO</th>\n",
       "      <td>15</td>\n",
       "      <td>28680.200000</td>\n",
       "      <td>27990.0</td>\n",
       "    </tr>\n",
       "    <tr>\n",
       "      <th>Supra</th>\n",
       "      <td>12</td>\n",
       "      <td>50741.000000</td>\n",
       "      <td>49990.5</td>\n",
       "    </tr>\n",
       "    <tr>\n",
       "      <th>Camry</th>\n",
       "      <td>11</td>\n",
       "      <td>26910.090909</td>\n",
       "      <td>26491.0</td>\n",
       "    </tr>\n",
       "    <tr>\n",
       "      <th>IQ</th>\n",
       "      <td>8</td>\n",
       "      <td>4247.250000</td>\n",
       "      <td>4422.0</td>\n",
       "    </tr>\n",
       "    <tr>\n",
       "      <th>Urban Cruiser</th>\n",
       "      <td>4</td>\n",
       "      <td>4617.500000</td>\n",
       "      <td>4740.0</td>\n",
       "    </tr>\n",
       "    <tr>\n",
       "      <th>Verso-S</th>\n",
       "      <td>3</td>\n",
       "      <td>5746.666667</td>\n",
       "      <td>5795.0</td>\n",
       "    </tr>\n",
       "  </tbody>\n",
       "</table>\n",
       "</div>"
      ],
      "text/plain": [
       "              model         price         \n",
       "              count          mean   median\n",
       "model                                     \n",
       "Yaris          2117  10548.840340  10645.0\n",
       "Aygo           1940   7887.239175   7880.0\n",
       "Auris           709  12524.730606  12750.0\n",
       "C-HR            479  20651.540710  20695.0\n",
       "RAV4            467  18200.421842  18695.0\n",
       "Corolla         265  20972.675472  21850.0\n",
       "Prius           232  18998.844828  18997.0\n",
       "Avensis         114   9878.122807  10262.0\n",
       "Verso           114  12169.157895  12496.5\n",
       "Hilux            85  21581.176471  21495.0\n",
       "GT86             73  19908.849315  18621.0\n",
       "Land Cruiser     50  36817.100000  39498.0\n",
       "PROACE VERSO     15  28680.200000  27990.0\n",
       "Supra            12  50741.000000  49990.5\n",
       "Camry            11  26910.090909  26491.0\n",
       "IQ                8   4247.250000   4422.0\n",
       "Urban Cruiser     4   4617.500000   4740.0\n",
       "Verso-S           3   5746.666667   5795.0"
      ]
     },
     "execution_count": 19,
     "metadata": {},
     "output_type": "execute_result"
    }
   ],
   "source": [
    "model_df = df.groupby('model').agg({'model':'count', 'price':['mean','median']}).sort_values(('model','count'), ascending=False)\n",
    "model_df"
   ]
  },
  {
   "cell_type": "code",
   "execution_count": 20,
   "id": "ba6c430c-4b4d-48cd-85e9-86e25b618581",
   "metadata": {},
   "outputs": [
    {
     "data": {
      "text/html": [
       "<div>\n",
       "<style scoped>\n",
       "    .dataframe tbody tr th:only-of-type {\n",
       "        vertical-align: middle;\n",
       "    }\n",
       "\n",
       "    .dataframe tbody tr th {\n",
       "        vertical-align: top;\n",
       "    }\n",
       "\n",
       "    .dataframe thead tr th {\n",
       "        text-align: left;\n",
       "    }\n",
       "\n",
       "    .dataframe thead tr:last-of-type th {\n",
       "        text-align: right;\n",
       "    }\n",
       "</style>\n",
       "<table border=\"1\" class=\"dataframe\">\n",
       "  <thead>\n",
       "    <tr>\n",
       "      <th></th>\n",
       "      <th>model</th>\n",
       "      <th colspan=\"2\" halign=\"left\">price</th>\n",
       "    </tr>\n",
       "    <tr>\n",
       "      <th></th>\n",
       "      <th>count</th>\n",
       "      <th>mean</th>\n",
       "      <th>median</th>\n",
       "    </tr>\n",
       "    <tr>\n",
       "      <th>model</th>\n",
       "      <th></th>\n",
       "      <th></th>\n",
       "      <th></th>\n",
       "    </tr>\n",
       "  </thead>\n",
       "  <tbody>\n",
       "    <tr>\n",
       "      <th>Supra</th>\n",
       "      <td>12</td>\n",
       "      <td>50741.000000</td>\n",
       "      <td>49990.5</td>\n",
       "    </tr>\n",
       "    <tr>\n",
       "      <th>Land Cruiser</th>\n",
       "      <td>50</td>\n",
       "      <td>36817.100000</td>\n",
       "      <td>39498.0</td>\n",
       "    </tr>\n",
       "    <tr>\n",
       "      <th>PROACE VERSO</th>\n",
       "      <td>15</td>\n",
       "      <td>28680.200000</td>\n",
       "      <td>27990.0</td>\n",
       "    </tr>\n",
       "    <tr>\n",
       "      <th>Camry</th>\n",
       "      <td>11</td>\n",
       "      <td>26910.090909</td>\n",
       "      <td>26491.0</td>\n",
       "    </tr>\n",
       "    <tr>\n",
       "      <th>Hilux</th>\n",
       "      <td>85</td>\n",
       "      <td>21581.176471</td>\n",
       "      <td>21495.0</td>\n",
       "    </tr>\n",
       "    <tr>\n",
       "      <th>Corolla</th>\n",
       "      <td>265</td>\n",
       "      <td>20972.675472</td>\n",
       "      <td>21850.0</td>\n",
       "    </tr>\n",
       "    <tr>\n",
       "      <th>C-HR</th>\n",
       "      <td>479</td>\n",
       "      <td>20651.540710</td>\n",
       "      <td>20695.0</td>\n",
       "    </tr>\n",
       "    <tr>\n",
       "      <th>GT86</th>\n",
       "      <td>73</td>\n",
       "      <td>19908.849315</td>\n",
       "      <td>18621.0</td>\n",
       "    </tr>\n",
       "    <tr>\n",
       "      <th>Prius</th>\n",
       "      <td>232</td>\n",
       "      <td>18998.844828</td>\n",
       "      <td>18997.0</td>\n",
       "    </tr>\n",
       "    <tr>\n",
       "      <th>RAV4</th>\n",
       "      <td>467</td>\n",
       "      <td>18200.421842</td>\n",
       "      <td>18695.0</td>\n",
       "    </tr>\n",
       "    <tr>\n",
       "      <th>Auris</th>\n",
       "      <td>709</td>\n",
       "      <td>12524.730606</td>\n",
       "      <td>12750.0</td>\n",
       "    </tr>\n",
       "    <tr>\n",
       "      <th>Verso</th>\n",
       "      <td>114</td>\n",
       "      <td>12169.157895</td>\n",
       "      <td>12496.5</td>\n",
       "    </tr>\n",
       "    <tr>\n",
       "      <th>Yaris</th>\n",
       "      <td>2117</td>\n",
       "      <td>10548.840340</td>\n",
       "      <td>10645.0</td>\n",
       "    </tr>\n",
       "    <tr>\n",
       "      <th>Avensis</th>\n",
       "      <td>114</td>\n",
       "      <td>9878.122807</td>\n",
       "      <td>10262.0</td>\n",
       "    </tr>\n",
       "    <tr>\n",
       "      <th>Aygo</th>\n",
       "      <td>1940</td>\n",
       "      <td>7887.239175</td>\n",
       "      <td>7880.0</td>\n",
       "    </tr>\n",
       "    <tr>\n",
       "      <th>Verso-S</th>\n",
       "      <td>3</td>\n",
       "      <td>5746.666667</td>\n",
       "      <td>5795.0</td>\n",
       "    </tr>\n",
       "    <tr>\n",
       "      <th>Urban Cruiser</th>\n",
       "      <td>4</td>\n",
       "      <td>4617.500000</td>\n",
       "      <td>4740.0</td>\n",
       "    </tr>\n",
       "    <tr>\n",
       "      <th>IQ</th>\n",
       "      <td>8</td>\n",
       "      <td>4247.250000</td>\n",
       "      <td>4422.0</td>\n",
       "    </tr>\n",
       "  </tbody>\n",
       "</table>\n",
       "</div>"
      ],
      "text/plain": [
       "              model         price         \n",
       "              count          mean   median\n",
       "model                                     \n",
       "Supra            12  50741.000000  49990.5\n",
       "Land Cruiser     50  36817.100000  39498.0\n",
       "PROACE VERSO     15  28680.200000  27990.0\n",
       "Camry            11  26910.090909  26491.0\n",
       "Hilux            85  21581.176471  21495.0\n",
       "Corolla         265  20972.675472  21850.0\n",
       "C-HR            479  20651.540710  20695.0\n",
       "GT86             73  19908.849315  18621.0\n",
       "Prius           232  18998.844828  18997.0\n",
       "RAV4            467  18200.421842  18695.0\n",
       "Auris           709  12524.730606  12750.0\n",
       "Verso           114  12169.157895  12496.5\n",
       "Yaris          2117  10548.840340  10645.0\n",
       "Avensis         114   9878.122807  10262.0\n",
       "Aygo           1940   7887.239175   7880.0\n",
       "Verso-S           3   5746.666667   5795.0\n",
       "Urban Cruiser     4   4617.500000   4740.0\n",
       "IQ                8   4247.250000   4422.0"
      ]
     },
     "execution_count": 20,
     "metadata": {},
     "output_type": "execute_result"
    }
   ],
   "source": [
    "model_df.sort_values(('price','mean'), ascending=False)"
   ]
  },
  {
   "cell_type": "code",
   "execution_count": 276,
   "id": "79c947ea-46cd-44bb-b754-3183ea0ecdd8",
   "metadata": {},
   "outputs": [
    {
     "data": {
      "image/png": "[encoded data removed]",
      "text/plain": [
       "<Figure size 1152x288 with 2 Axes>"
      ]
     },
     "metadata": {},
     "output_type": "display_data"
    }
   ],
   "source": [
    "plt.figure(figsize=(16,4))\n",
    "plt.suptitle('Distributed by Model', fontsize=20, y=1.05)\n",
    "\n",
    "plt.subplot(1,2,1)\n",
    "sns.countplot(data=df, x='model', order=df['model'].value_counts().index, palette=\"Spectral\")\n",
    "plt.xticks(rotation=90)\n",
    "labels('Count per Model', 'Model', 'Count')\n",
    "\n",
    "plt.subplot(1,2,2)\n",
    "sns.barplot(data=df, x='model', y='price', order=df['model'].value_counts().index, palette=\"Spectral\")\n",
    "plt.xticks(rotation=90)\n",
    "labels('Average Price per Model', 'Model', 'Price')\n",
    "            \n",
    "plt.show()"
   ]
  },
  {
   "cell_type": "markdown",
   "id": "2bcc10fe-d637-4123-a5df-039df855a267",
   "metadata": {},
   "source": [
    "**Conclusions**\n",
    "- Yaris and Aygo are the best selling cars, with Auris, C-HR, and RAV4 trailing behind quite far in that particular order.\n",
    "- Supra is the most expensive car sold, however, it is not doing well in terms of the quantity of sales.\n",
    "- There are less sales for expensive cars. However, even though IQ, Urban Cruiser, and Verso-S are cheap, they are not doing well in terms of sales."
   ]
  },
  {
   "cell_type": "markdown",
   "id": "0cc0a999-25e6-4803-8452-f86885cafd71",
   "metadata": {},
   "source": [
    "### 3.2.3 Transmission"
   ]
  },
  {
   "cell_type": "code",
   "execution_count": 22,
   "id": "a46dc7a4-e1a7-47e4-b1ad-c58f1cf845c8",
   "metadata": {},
   "outputs": [
    {
     "data": {
      "text/html": [
       "<div>\n",
       "<style scoped>\n",
       "    .dataframe tbody tr th:only-of-type {\n",
       "        vertical-align: middle;\n",
       "    }\n",
       "\n",
       "    .dataframe tbody tr th {\n",
       "        vertical-align: top;\n",
       "    }\n",
       "\n",
       "    .dataframe thead tr th {\n",
       "        text-align: left;\n",
       "    }\n",
       "\n",
       "    .dataframe thead tr:last-of-type th {\n",
       "        text-align: right;\n",
       "    }\n",
       "</style>\n",
       "<table border=\"1\" class=\"dataframe\">\n",
       "  <thead>\n",
       "    <tr>\n",
       "      <th></th>\n",
       "      <th>transmission</th>\n",
       "      <th colspan=\"2\" halign=\"left\">price</th>\n",
       "    </tr>\n",
       "    <tr>\n",
       "      <th></th>\n",
       "      <th>count</th>\n",
       "      <th>mean</th>\n",
       "      <th>median</th>\n",
       "    </tr>\n",
       "    <tr>\n",
       "      <th>transmission</th>\n",
       "      <th></th>\n",
       "      <th></th>\n",
       "      <th></th>\n",
       "    </tr>\n",
       "  </thead>\n",
       "  <tbody>\n",
       "    <tr>\n",
       "      <th>Manual</th>\n",
       "      <td>3792</td>\n",
       "      <td>9538.254219</td>\n",
       "      <td>8995</td>\n",
       "    </tr>\n",
       "    <tr>\n",
       "      <th>Automatic</th>\n",
       "      <td>2651</td>\n",
       "      <td>16588.761222</td>\n",
       "      <td>14999</td>\n",
       "    </tr>\n",
       "    <tr>\n",
       "      <th>Semi-Auto</th>\n",
       "      <td>254</td>\n",
       "      <td>14797.137795</td>\n",
       "      <td>9995</td>\n",
       "    </tr>\n",
       "    <tr>\n",
       "      <th>Other</th>\n",
       "      <td>1</td>\n",
       "      <td>12795.000000</td>\n",
       "      <td>12795</td>\n",
       "    </tr>\n",
       "  </tbody>\n",
       "</table>\n",
       "</div>"
      ],
      "text/plain": [
       "             transmission         price       \n",
       "                    count          mean median\n",
       "transmission                                  \n",
       "Manual               3792   9538.254219   8995\n",
       "Automatic            2651  16588.761222  14999\n",
       "Semi-Auto             254  14797.137795   9995\n",
       "Other                   1  12795.000000  12795"
      ]
     },
     "execution_count": 22,
     "metadata": {},
     "output_type": "execute_result"
    }
   ],
   "source": [
    "transmission_df = df.groupby('transmission').agg({'transmission':'count', 'price':['mean','median']}).sort_values(('transmission','count'), ascending=False)\n",
    "transmission_df"
   ]
  },
  {
   "cell_type": "code",
   "execution_count": 23,
   "id": "5fd3afc9-9fe8-4af9-a137-f805487dc0a9",
   "metadata": {},
   "outputs": [
    {
     "data": {
      "text/html": [
       "<div>\n",
       "<style scoped>\n",
       "    .dataframe tbody tr th:only-of-type {\n",
       "        vertical-align: middle;\n",
       "    }\n",
       "\n",
       "    .dataframe tbody tr th {\n",
       "        vertical-align: top;\n",
       "    }\n",
       "\n",
       "    .dataframe thead tr th {\n",
       "        text-align: left;\n",
       "    }\n",
       "\n",
       "    .dataframe thead tr:last-of-type th {\n",
       "        text-align: right;\n",
       "    }\n",
       "</style>\n",
       "<table border=\"1\" class=\"dataframe\">\n",
       "  <thead>\n",
       "    <tr>\n",
       "      <th></th>\n",
       "      <th>transmission</th>\n",
       "      <th colspan=\"2\" halign=\"left\">price</th>\n",
       "    </tr>\n",
       "    <tr>\n",
       "      <th></th>\n",
       "      <th>count</th>\n",
       "      <th>mean</th>\n",
       "      <th>median</th>\n",
       "    </tr>\n",
       "    <tr>\n",
       "      <th>transmission</th>\n",
       "      <th></th>\n",
       "      <th></th>\n",
       "      <th></th>\n",
       "    </tr>\n",
       "  </thead>\n",
       "  <tbody>\n",
       "    <tr>\n",
       "      <th>Automatic</th>\n",
       "      <td>2651</td>\n",
       "      <td>16588.761222</td>\n",
       "      <td>14999</td>\n",
       "    </tr>\n",
       "    <tr>\n",
       "      <th>Semi-Auto</th>\n",
       "      <td>254</td>\n",
       "      <td>14797.137795</td>\n",
       "      <td>9995</td>\n",
       "    </tr>\n",
       "    <tr>\n",
       "      <th>Other</th>\n",
       "      <td>1</td>\n",
       "      <td>12795.000000</td>\n",
       "      <td>12795</td>\n",
       "    </tr>\n",
       "    <tr>\n",
       "      <th>Manual</th>\n",
       "      <td>3792</td>\n",
       "      <td>9538.254219</td>\n",
       "      <td>8995</td>\n",
       "    </tr>\n",
       "  </tbody>\n",
       "</table>\n",
       "</div>"
      ],
      "text/plain": [
       "             transmission         price       \n",
       "                    count          mean median\n",
       "transmission                                  \n",
       "Automatic            2651  16588.761222  14999\n",
       "Semi-Auto             254  14797.137795   9995\n",
       "Other                   1  12795.000000  12795\n",
       "Manual               3792   9538.254219   8995"
      ]
     },
     "execution_count": 23,
     "metadata": {},
     "output_type": "execute_result"
    }
   ],
   "source": [
    "transmission_df.sort_values(('price','mean'), ascending=False)"
   ]
  },
  {
   "cell_type": "code",
   "execution_count": 24,
   "id": "d4fd4500-d69c-4695-9a3b-615b3c75af38",
   "metadata": {},
   "outputs": [
    {
     "data": {
      "text/plain": [
       "Manual       3792\n",
       "Automatic    2651\n",
       "Semi-Auto     254\n",
       "Other           1\n",
       "Name: transmission, dtype: int64"
      ]
     },
     "execution_count": 24,
     "metadata": {},
     "output_type": "execute_result"
    }
   ],
   "source": [
    "df['transmission'].value_counts()"
   ]
  },
  {
   "cell_type": "code",
   "execution_count": 278,
   "id": "7d40fc49-d098-4e6c-952d-c18159459366",
   "metadata": {},
   "outputs": [
    {
     "data": {
      "image/png": "[encoded data removed]",
      "text/plain": [
       "<Figure size 1152x288 with 2 Axes>"
      ]
     },
     "metadata": {},
     "output_type": "display_data"
    }
   ],
   "source": [
    "plt.figure(figsize=(16,4))\n",
    "plt.suptitle('Grouped by Transmission', fontsize=20, y=1.05)\n",
    "plt.subplot(1,2,1)\n",
    "sns.countplot(data=df, x='transmission', order=df['transmission'].value_counts().index)\n",
    "labels('Count per Transmission', 'Transmission', 'Count')\n",
    "plt.subplot(1,2,2)\n",
    "sns.barplot(data=df, x='transmission', y='price', order=df['transmission'].value_counts().index)\n",
    "labels('Average Price per Transmission', 'Transmission', 'Price')\n",
    "plt.show()"
   ]
  },
  {
   "cell_type": "code",
   "execution_count": 284,
   "id": "e072ac78-d4ae-4bbf-9199-bb84feefad5c",
   "metadata": {},
   "outputs": [
    {
     "data": {
      "image/png": "[encoded data removed]",
      "text/plain": [
       "<Figure size 1152x576 with 1 Axes>"
      ]
     },
     "metadata": {},
     "output_type": "display_data"
    }
   ],
   "source": [
    "plt.figure(figsize=(16,8))\n",
    "plt.suptitle('Price Distribution based on Transmission', fontsize=20, y=0.98)\n",
    "sns.histplot(data=df, x='price', hue='transmission', hue_order=[x for x in transmission_df.index], element='step')\n",
    "labels('', 'Price', 'Count')\n",
    "plt.show()"
   ]
  },
  {
   "cell_type": "markdown",
   "id": "100b61b0-ddea-4c54-a5fe-8514ad81e8e2",
   "metadata": {},
   "source": [
    "**Conclusions**\n",
    "- Manual cars have the most sales, with automatic cars trailing behind.\n",
    "- In terms of price, automatic cars are the most expensive, with semi-auto trailing behind, and then other cars and manual in that order.\n",
    "- The manual cars prices form a right-skewed normal distribution, meaning that cheaper manual cars are more likely to be sold than more expensive ones."
   ]
  },
  {
   "cell_type": "markdown",
   "id": "7dde399a-4f22-415a-9ecd-fb70d4f9474f",
   "metadata": {},
   "source": [
    "### 3.2.4 Fuel Type"
   ]
  },
  {
   "cell_type": "code",
   "execution_count": 27,
   "id": "ba258155-b09d-4d46-87d7-2f510dbecd40",
   "metadata": {},
   "outputs": [
    {
     "data": {
      "text/html": [
       "<div>\n",
       "<style scoped>\n",
       "    .dataframe tbody tr th:only-of-type {\n",
       "        vertical-align: middle;\n",
       "    }\n",
       "\n",
       "    .dataframe tbody tr th {\n",
       "        vertical-align: top;\n",
       "    }\n",
       "\n",
       "    .dataframe thead tr th {\n",
       "        text-align: left;\n",
       "    }\n",
       "\n",
       "    .dataframe thead tr:last-of-type th {\n",
       "        text-align: right;\n",
       "    }\n",
       "</style>\n",
       "<table border=\"1\" class=\"dataframe\">\n",
       "  <thead>\n",
       "    <tr>\n",
       "      <th></th>\n",
       "      <th>fuelType</th>\n",
       "      <th colspan=\"2\" halign=\"left\">price</th>\n",
       "    </tr>\n",
       "    <tr>\n",
       "      <th></th>\n",
       "      <th>count</th>\n",
       "      <th>mean</th>\n",
       "      <th>median</th>\n",
       "    </tr>\n",
       "    <tr>\n",
       "      <th>fuelType</th>\n",
       "      <th></th>\n",
       "      <th></th>\n",
       "      <th></th>\n",
       "    </tr>\n",
       "  </thead>\n",
       "  <tbody>\n",
       "    <tr>\n",
       "      <th>Petrol</th>\n",
       "      <td>4058</td>\n",
       "      <td>9754.594628</td>\n",
       "      <td>8998</td>\n",
       "    </tr>\n",
       "    <tr>\n",
       "      <th>Hybrid</th>\n",
       "      <td>2040</td>\n",
       "      <td>17187.811765</td>\n",
       "      <td>16470</td>\n",
       "    </tr>\n",
       "    <tr>\n",
       "      <th>Diesel</th>\n",
       "      <td>495</td>\n",
       "      <td>15731.577778</td>\n",
       "      <td>12498</td>\n",
       "    </tr>\n",
       "    <tr>\n",
       "      <th>Other</th>\n",
       "      <td>105</td>\n",
       "      <td>14121.161905</td>\n",
       "      <td>10250</td>\n",
       "    </tr>\n",
       "  </tbody>\n",
       "</table>\n",
       "</div>"
      ],
      "text/plain": [
       "         fuelType         price       \n",
       "            count          mean median\n",
       "fuelType                              \n",
       "Petrol       4058   9754.594628   8998\n",
       "Hybrid       2040  17187.811765  16470\n",
       "Diesel        495  15731.577778  12498\n",
       "Other         105  14121.161905  10250"
      ]
     },
     "execution_count": 27,
     "metadata": {},
     "output_type": "execute_result"
    }
   ],
   "source": [
    "fuel_df = df.groupby('fuelType').agg({'fuelType':'count', 'price':['mean','median']}).sort_values(('fuelType','count'), ascending=False)\n",
    "fuel_df"
   ]
  },
  {
   "cell_type": "code",
   "execution_count": 28,
   "id": "5ef65b31-d1ef-48a3-b50d-9f365645379a",
   "metadata": {},
   "outputs": [
    {
     "data": {
      "text/html": [
       "<div>\n",
       "<style scoped>\n",
       "    .dataframe tbody tr th:only-of-type {\n",
       "        vertical-align: middle;\n",
       "    }\n",
       "\n",
       "    .dataframe tbody tr th {\n",
       "        vertical-align: top;\n",
       "    }\n",
       "\n",
       "    .dataframe thead tr th {\n",
       "        text-align: left;\n",
       "    }\n",
       "\n",
       "    .dataframe thead tr:last-of-type th {\n",
       "        text-align: right;\n",
       "    }\n",
       "</style>\n",
       "<table border=\"1\" class=\"dataframe\">\n",
       "  <thead>\n",
       "    <tr>\n",
       "      <th></th>\n",
       "      <th>fuelType</th>\n",
       "      <th colspan=\"2\" halign=\"left\">price</th>\n",
       "    </tr>\n",
       "    <tr>\n",
       "      <th></th>\n",
       "      <th>count</th>\n",
       "      <th>mean</th>\n",
       "      <th>median</th>\n",
       "    </tr>\n",
       "    <tr>\n",
       "      <th>fuelType</th>\n",
       "      <th></th>\n",
       "      <th></th>\n",
       "      <th></th>\n",
       "    </tr>\n",
       "  </thead>\n",
       "  <tbody>\n",
       "    <tr>\n",
       "      <th>Hybrid</th>\n",
       "      <td>2040</td>\n",
       "      <td>17187.811765</td>\n",
       "      <td>16470</td>\n",
       "    </tr>\n",
       "    <tr>\n",
       "      <th>Diesel</th>\n",
       "      <td>495</td>\n",
       "      <td>15731.577778</td>\n",
       "      <td>12498</td>\n",
       "    </tr>\n",
       "    <tr>\n",
       "      <th>Other</th>\n",
       "      <td>105</td>\n",
       "      <td>14121.161905</td>\n",
       "      <td>10250</td>\n",
       "    </tr>\n",
       "    <tr>\n",
       "      <th>Petrol</th>\n",
       "      <td>4058</td>\n",
       "      <td>9754.594628</td>\n",
       "      <td>8998</td>\n",
       "    </tr>\n",
       "  </tbody>\n",
       "</table>\n",
       "</div>"
      ],
      "text/plain": [
       "         fuelType         price       \n",
       "            count          mean median\n",
       "fuelType                              \n",
       "Hybrid       2040  17187.811765  16470\n",
       "Diesel        495  15731.577778  12498\n",
       "Other         105  14121.161905  10250\n",
       "Petrol       4058   9754.594628   8998"
      ]
     },
     "execution_count": 28,
     "metadata": {},
     "output_type": "execute_result"
    }
   ],
   "source": [
    "fuel_df.sort_values(('price','mean'), ascending=False)"
   ]
  },
  {
   "cell_type": "code",
   "execution_count": 285,
   "id": "97d56dec-64eb-4917-b1c3-fd6c57a10e64",
   "metadata": {},
   "outputs": [
    {
     "data": {
      "image/png": "[encoded data removed]",
      "text/plain": [
       "<Figure size 1152x288 with 2 Axes>"
      ]
     },
     "metadata": {},
     "output_type": "display_data"
    }
   ],
   "source": [
    "plt.figure(figsize=(16,4))\n",
    "plt.suptitle('Grouped by Fuel Type', fontsize=20, y=1.05)\n",
    "plt.subplot(1,2,1)\n",
    "sns.countplot(data=df, x='fuelType', order=df['fuelType'].value_counts().index)\n",
    "labels('Count per Fuel Type', 'Fuel Type', 'Count')\n",
    "plt.subplot(1,2,2)\n",
    "sns.barplot(data=df, x='fuelType', y='price', order=df['fuelType'].value_counts().index)\n",
    "labels('Average Price per Fuel Type', 'Fuel Type', 'Price')\n",
    "plt.show()"
   ]
  },
  {
   "cell_type": "code",
   "execution_count": 286,
   "id": "2ff8d3fb-060d-46e5-ac6d-a85b67d9843f",
   "metadata": {},
   "outputs": [
    {
     "data": {
      "image/png": "[encoded data removed]",
      "text/plain": [
       "<Figure size 1152x576 with 1 Axes>"
      ]
     },
     "metadata": {},
     "output_type": "display_data"
    }
   ],
   "source": [
    "plt.figure(figsize=(16,8))\n",
    "plt.suptitle('Price Distribution based on Fuel Type', fontsize=20, y=0.98)\n",
    "sns.histplot(data=df, x='price', hue='fuelType', hue_order=[x for x in fuel_df.index], element='step')\n",
    "labels('', 'Price', 'Count')\n",
    "plt.show()"
   ]
  },
  {
   "cell_type": "markdown",
   "id": "c7408b7f-d966-411c-940e-3c6f9f0fb36c",
   "metadata": {},
   "source": [
    "**Conclusion**\n",
    "- Most of the cars that were sold used Petrol. Hybrid comes next, trailing by quite far, and then Diesel.\n",
    "- Hybrid cars are the most expensive, while Petrol cars are the cheapest.\n",
    "- The prices of the petrol cars form a right-skewed normal distribution, which means that there are more cheaper petrol cars are sold than expensive ones."
   ]
  },
  {
   "cell_type": "markdown",
   "id": "5bfe6184-1e6e-4f01-90ed-6ff490dc1c6d",
   "metadata": {},
   "source": [
    "## 3.3 Numerical Variables"
   ]
  },
  {
   "cell_type": "code",
   "execution_count": 287,
   "id": "e38873f9-edef-4b4c-8f12-73fc3b70eca3",
   "metadata": {},
   "outputs": [
    {
     "data": {
      "text/plain": [
       "<Figure size 1152x576 with 0 Axes>"
      ]
     },
     "metadata": {},
     "output_type": "display_data"
    },
    {
     "data": {
      "image/png": "[encoded data removed]",
      "text/plain": [
       "<Figure size 1242x1080 with 27 Axes>"
      ]
     },
     "metadata": {},
     "output_type": "display_data"
    }
   ],
   "source": [
    "plt.figure(figsize=(16,8))\n",
    "g = sns.pairplot(df, kind='kde', diag_kind='kde', corner=True, aspect=1.15)\n",
    "g.map_lower(sns.regplot, scatter=False)\n",
    "plt.show()"
   ]
  },
  {
   "cell_type": "markdown",
   "id": "e047d9c7-277b-411c-baf4-6060f9ce558f",
   "metadata": {},
   "source": [
    "**Conclusions**\n",
    "\n",
    "Using multiple KDE plots and regression plots, we can make inferences for our numerical variables, as the following:\n",
    "- Out of all the variables, we can see that the best fitting line for price against engine size shows that these two variables are very much positively correlated.\n",
    "- Price is positively correlated with tax, though not as much as engine size. Same with engine size, the higher the tax, the higher the price of the car.\n",
    "- Price and miles per gallon are independent of each other, which indicates that there is a great chance mpg will not help predict the car prices.\n",
    "- Price and mileage are negatively correlated, which means that a high mileage decreases the price of the car."
   ]
  },
  {
   "cell_type": "markdown",
   "id": "109d0449-a3c8-4bdc-98d9-fea2253065be",
   "metadata": {},
   "source": [
    "## 3.4 Multivariate Analysis"
   ]
  },
  {
   "cell_type": "markdown",
   "id": "b6f5505a-4e8e-41d9-972e-e29cd1e0dd13",
   "metadata": {},
   "source": [
    "This section of analysis attempts to combine two separate variables in order to make inferences about the car prices."
   ]
  },
  {
   "cell_type": "markdown",
   "id": "50c5e7a8-88d3-4ea6-a1c0-d16f89680ce0",
   "metadata": {},
   "source": [
    "### 3.4.1 Model and Transmission"
   ]
  },
  {
   "cell_type": "code",
   "execution_count": 32,
   "id": "9f7c2151-fc9e-49c9-b8b6-a7ac3aad020c",
   "metadata": {},
   "outputs": [
    {
     "data": {
      "text/html": [
       "<div>\n",
       "<style scoped>\n",
       "    .dataframe tbody tr th:only-of-type {\n",
       "        vertical-align: middle;\n",
       "    }\n",
       "\n",
       "    .dataframe tbody tr th {\n",
       "        vertical-align: top;\n",
       "    }\n",
       "\n",
       "    .dataframe thead tr th {\n",
       "        text-align: left;\n",
       "    }\n",
       "\n",
       "    .dataframe thead tr:last-of-type th {\n",
       "        text-align: right;\n",
       "    }\n",
       "</style>\n",
       "<table border=\"1\" class=\"dataframe\">\n",
       "  <thead>\n",
       "    <tr>\n",
       "      <th></th>\n",
       "      <th></th>\n",
       "      <th>model</th>\n",
       "      <th colspan=\"2\" halign=\"left\">price</th>\n",
       "    </tr>\n",
       "    <tr>\n",
       "      <th></th>\n",
       "      <th></th>\n",
       "      <th>count</th>\n",
       "      <th>mean</th>\n",
       "      <th>median</th>\n",
       "    </tr>\n",
       "    <tr>\n",
       "      <th>model</th>\n",
       "      <th>transmission</th>\n",
       "      <th></th>\n",
       "      <th></th>\n",
       "      <th></th>\n",
       "    </tr>\n",
       "  </thead>\n",
       "  <tbody>\n",
       "    <tr>\n",
       "      <th>Aygo</th>\n",
       "      <th>Manual</th>\n",
       "      <td>1672</td>\n",
       "      <td>7686.297847</td>\n",
       "      <td>7592.5</td>\n",
       "    </tr>\n",
       "    <tr>\n",
       "      <th rowspan=\"2\" valign=\"top\">Yaris</th>\n",
       "      <th>Manual</th>\n",
       "      <td>1334</td>\n",
       "      <td>9804.554723</td>\n",
       "      <td>9990.0</td>\n",
       "    </tr>\n",
       "    <tr>\n",
       "      <th>Automatic</th>\n",
       "      <td>766</td>\n",
       "      <td>11890.265013</td>\n",
       "      <td>11995.0</td>\n",
       "    </tr>\n",
       "    <tr>\n",
       "      <th>Auris</th>\n",
       "      <th>Automatic</th>\n",
       "      <td>527</td>\n",
       "      <td>13655.314991</td>\n",
       "      <td>13590.0</td>\n",
       "    </tr>\n",
       "    <tr>\n",
       "      <th>C-HR</th>\n",
       "      <th>Automatic</th>\n",
       "      <td>394</td>\n",
       "      <td>21545.878173</td>\n",
       "      <td>21126.0</td>\n",
       "    </tr>\n",
       "    <tr>\n",
       "      <th>RAV4</th>\n",
       "      <th>Automatic</th>\n",
       "      <td>306</td>\n",
       "      <td>21302.176471</td>\n",
       "      <td>20412.0</td>\n",
       "    </tr>\n",
       "    <tr>\n",
       "      <th>Prius</th>\n",
       "      <th>Automatic</th>\n",
       "      <td>231</td>\n",
       "      <td>19049.705628</td>\n",
       "      <td>18999.0</td>\n",
       "    </tr>\n",
       "    <tr>\n",
       "      <th>Corolla</th>\n",
       "      <th>Automatic</th>\n",
       "      <td>185</td>\n",
       "      <td>22924.416216</td>\n",
       "      <td>22790.0</td>\n",
       "    </tr>\n",
       "    <tr>\n",
       "      <th>Auris</th>\n",
       "      <th>Manual</th>\n",
       "      <td>180</td>\n",
       "      <td>9248.327778</td>\n",
       "      <td>9493.0</td>\n",
       "    </tr>\n",
       "    <tr>\n",
       "      <th>RAV4</th>\n",
       "      <th>Manual</th>\n",
       "      <td>157</td>\n",
       "      <td>12267.802548</td>\n",
       "      <td>12998.0</td>\n",
       "    </tr>\n",
       "    <tr>\n",
       "      <th rowspan=\"2\" valign=\"top\">Aygo</th>\n",
       "      <th>Semi-Auto</th>\n",
       "      <td>157</td>\n",
       "      <td>9263.095541</td>\n",
       "      <td>9291.0</td>\n",
       "    </tr>\n",
       "    <tr>\n",
       "      <th>Automatic</th>\n",
       "      <td>111</td>\n",
       "      <td>8968.000000</td>\n",
       "      <td>8973.0</td>\n",
       "    </tr>\n",
       "    <tr>\n",
       "      <th>Avensis</th>\n",
       "      <th>Manual</th>\n",
       "      <td>94</td>\n",
       "      <td>9729.000000</td>\n",
       "      <td>10220.0</td>\n",
       "    </tr>\n",
       "    <tr>\n",
       "      <th>C-HR</th>\n",
       "      <th>Manual</th>\n",
       "      <td>85</td>\n",
       "      <td>16506.023529</td>\n",
       "      <td>15999.0</td>\n",
       "    </tr>\n",
       "    <tr>\n",
       "      <th>Corolla</th>\n",
       "      <th>Manual</th>\n",
       "      <td>80</td>\n",
       "      <td>16459.275000</td>\n",
       "      <td>17827.5</td>\n",
       "    </tr>\n",
       "    <tr>\n",
       "      <th>Verso</th>\n",
       "      <th>Manual</th>\n",
       "      <td>65</td>\n",
       "      <td>10693.538462</td>\n",
       "      <td>11395.0</td>\n",
       "    </tr>\n",
       "    <tr>\n",
       "      <th>GT86</th>\n",
       "      <th>Manual</th>\n",
       "      <td>61</td>\n",
       "      <td>19852.868852</td>\n",
       "      <td>18522.0</td>\n",
       "    </tr>\n",
       "    <tr>\n",
       "      <th rowspan=\"2\" valign=\"top\">Hilux</th>\n",
       "      <th>Manual</th>\n",
       "      <td>44</td>\n",
       "      <td>19794.113636</td>\n",
       "      <td>20189.0</td>\n",
       "    </tr>\n",
       "    <tr>\n",
       "      <th>Automatic</th>\n",
       "      <td>41</td>\n",
       "      <td>23499.000000</td>\n",
       "      <td>22498.0</td>\n",
       "    </tr>\n",
       "    <tr>\n",
       "      <th>Verso</th>\n",
       "      <th>Semi-Auto</th>\n",
       "      <td>32</td>\n",
       "      <td>14306.062500</td>\n",
       "      <td>13998.0</td>\n",
       "    </tr>\n",
       "  </tbody>\n",
       "</table>\n",
       "</div>"
      ],
      "text/plain": [
       "                     model         price         \n",
       "                     count          mean   median\n",
       "model   transmission                             \n",
       "Aygo    Manual        1672   7686.297847   7592.5\n",
       "Yaris   Manual        1334   9804.554723   9990.0\n",
       "        Automatic      766  11890.265013  11995.0\n",
       "Auris   Automatic      527  13655.314991  13590.0\n",
       "C-HR    Automatic      394  21545.878173  21126.0\n",
       "RAV4    Automatic      306  21302.176471  20412.0\n",
       "Prius   Automatic      231  19049.705628  18999.0\n",
       "Corolla Automatic      185  22924.416216  22790.0\n",
       "Auris   Manual         180   9248.327778   9493.0\n",
       "RAV4    Manual         157  12267.802548  12998.0\n",
       "Aygo    Semi-Auto      157   9263.095541   9291.0\n",
       "        Automatic      111   8968.000000   8973.0\n",
       "Avensis Manual          94   9729.000000  10220.0\n",
       "C-HR    Manual          85  16506.023529  15999.0\n",
       "Corolla Manual          80  16459.275000  17827.5\n",
       "Verso   Manual          65  10693.538462  11395.0\n",
       "GT86    Manual          61  19852.868852  18522.0\n",
       "Hilux   Manual          44  19794.113636  20189.0\n",
       "        Automatic       41  23499.000000  22498.0\n",
       "Verso   Semi-Auto       32  14306.062500  13998.0"
      ]
     },
     "execution_count": 32,
     "metadata": {},
     "output_type": "execute_result"
    }
   ],
   "source": [
    "df.groupby(['model', 'transmission']).agg({'model':'count', 'price':['mean','median']}).sort_values(('model','count'), ascending=False).dropna().head(20)"
   ]
  },
  {
   "cell_type": "markdown",
   "id": "18eba9ad-7884-4e48-a91c-118a77b22a3f",
   "metadata": {},
   "source": [
    "### 3.4.2 Model and Fuel Type"
   ]
  },
  {
   "cell_type": "code",
   "execution_count": 33,
   "id": "be497904-5aee-4c62-af30-ac97e25fb83e",
   "metadata": {},
   "outputs": [
    {
     "data": {
      "text/html": [
       "<div>\n",
       "<style scoped>\n",
       "    .dataframe tbody tr th:only-of-type {\n",
       "        vertical-align: middle;\n",
       "    }\n",
       "\n",
       "    .dataframe tbody tr th {\n",
       "        vertical-align: top;\n",
       "    }\n",
       "\n",
       "    .dataframe thead tr th {\n",
       "        text-align: left;\n",
       "    }\n",
       "\n",
       "    .dataframe thead tr:last-of-type th {\n",
       "        text-align: right;\n",
       "    }\n",
       "</style>\n",
       "<table border=\"1\" class=\"dataframe\">\n",
       "  <thead>\n",
       "    <tr>\n",
       "      <th></th>\n",
       "      <th></th>\n",
       "      <th>model</th>\n",
       "      <th colspan=\"2\" halign=\"left\">price</th>\n",
       "    </tr>\n",
       "    <tr>\n",
       "      <th></th>\n",
       "      <th></th>\n",
       "      <th>count</th>\n",
       "      <th>mean</th>\n",
       "      <th>median</th>\n",
       "    </tr>\n",
       "    <tr>\n",
       "      <th>model</th>\n",
       "      <th>fuelType</th>\n",
       "      <th></th>\n",
       "      <th></th>\n",
       "      <th></th>\n",
       "    </tr>\n",
       "  </thead>\n",
       "  <tbody>\n",
       "    <tr>\n",
       "      <th>Aygo</th>\n",
       "      <th>Petrol</th>\n",
       "      <td>1881</td>\n",
       "      <td>7842.215843</td>\n",
       "      <td>7795.0</td>\n",
       "    </tr>\n",
       "    <tr>\n",
       "      <th rowspan=\"2\" valign=\"top\">Yaris</th>\n",
       "      <th>Petrol</th>\n",
       "      <td>1529</td>\n",
       "      <td>10017.156965</td>\n",
       "      <td>9999.0</td>\n",
       "    </tr>\n",
       "    <tr>\n",
       "      <th>Hybrid</th>\n",
       "      <td>556</td>\n",
       "      <td>12151.473022</td>\n",
       "      <td>12079.0</td>\n",
       "    </tr>\n",
       "    <tr>\n",
       "      <th>Auris</th>\n",
       "      <th>Hybrid</th>\n",
       "      <td>498</td>\n",
       "      <td>13821.915663</td>\n",
       "      <td>13825.0</td>\n",
       "    </tr>\n",
       "    <tr>\n",
       "      <th>C-HR</th>\n",
       "      <th>Hybrid</th>\n",
       "      <td>352</td>\n",
       "      <td>21759.215909</td>\n",
       "      <td>21497.0</td>\n",
       "    </tr>\n",
       "    <tr>\n",
       "      <th>RAV4</th>\n",
       "      <th>Hybrid</th>\n",
       "      <td>228</td>\n",
       "      <td>22989.245614</td>\n",
       "      <td>21009.0</td>\n",
       "    </tr>\n",
       "    <tr>\n",
       "      <th>Prius</th>\n",
       "      <th>Hybrid</th>\n",
       "      <td>214</td>\n",
       "      <td>18866.200935</td>\n",
       "      <td>18995.0</td>\n",
       "    </tr>\n",
       "    <tr>\n",
       "      <th>Corolla</th>\n",
       "      <th>Hybrid</th>\n",
       "      <td>181</td>\n",
       "      <td>23146.038674</td>\n",
       "      <td>22790.0</td>\n",
       "    </tr>\n",
       "    <tr>\n",
       "      <th>RAV4</th>\n",
       "      <th>Diesel</th>\n",
       "      <td>176</td>\n",
       "      <td>12467.767045</td>\n",
       "      <td>12998.0</td>\n",
       "    </tr>\n",
       "    <tr>\n",
       "      <th>Auris</th>\n",
       "      <th>Petrol</th>\n",
       "      <td>169</td>\n",
       "      <td>9673.739645</td>\n",
       "      <td>9998.0</td>\n",
       "    </tr>\n",
       "    <tr>\n",
       "      <th>C-HR</th>\n",
       "      <th>Petrol</th>\n",
       "      <td>120</td>\n",
       "      <td>17048.350000</td>\n",
       "      <td>16890.0</td>\n",
       "    </tr>\n",
       "    <tr>\n",
       "      <th>Hilux</th>\n",
       "      <th>Diesel</th>\n",
       "      <td>85</td>\n",
       "      <td>21581.176471</td>\n",
       "      <td>21495.0</td>\n",
       "    </tr>\n",
       "    <tr>\n",
       "      <th>Verso</th>\n",
       "      <th>Petrol</th>\n",
       "      <td>83</td>\n",
       "      <td>12658.084337</td>\n",
       "      <td>12990.0</td>\n",
       "    </tr>\n",
       "    <tr>\n",
       "      <th>Corolla</th>\n",
       "      <th>Petrol</th>\n",
       "      <td>81</td>\n",
       "      <td>16263.469136</td>\n",
       "      <td>17790.0</td>\n",
       "    </tr>\n",
       "    <tr>\n",
       "      <th>Avensis</th>\n",
       "      <th>Diesel</th>\n",
       "      <td>75</td>\n",
       "      <td>9125.893333</td>\n",
       "      <td>9750.0</td>\n",
       "    </tr>\n",
       "    <tr>\n",
       "      <th>GT86</th>\n",
       "      <th>Petrol</th>\n",
       "      <td>73</td>\n",
       "      <td>19908.849315</td>\n",
       "      <td>18621.0</td>\n",
       "    </tr>\n",
       "    <tr>\n",
       "      <th>Aygo</th>\n",
       "      <th>Other</th>\n",
       "      <td>59</td>\n",
       "      <td>9322.644068</td>\n",
       "      <td>9295.0</td>\n",
       "    </tr>\n",
       "    <tr>\n",
       "      <th>RAV4</th>\n",
       "      <th>Petrol</th>\n",
       "      <td>58</td>\n",
       "      <td>16542.724138</td>\n",
       "      <td>18359.5</td>\n",
       "    </tr>\n",
       "    <tr>\n",
       "      <th>Land Cruiser</th>\n",
       "      <th>Diesel</th>\n",
       "      <td>50</td>\n",
       "      <td>36817.100000</td>\n",
       "      <td>39498.0</td>\n",
       "    </tr>\n",
       "    <tr>\n",
       "      <th>Auris</th>\n",
       "      <th>Diesel</th>\n",
       "      <td>41</td>\n",
       "      <td>8447.878049</td>\n",
       "      <td>8395.0</td>\n",
       "    </tr>\n",
       "  </tbody>\n",
       "</table>\n",
       "</div>"
      ],
      "text/plain": [
       "                      model         price         \n",
       "                      count          mean   median\n",
       "model        fuelType                             \n",
       "Aygo         Petrol    1881   7842.215843   7795.0\n",
       "Yaris        Petrol    1529  10017.156965   9999.0\n",
       "             Hybrid     556  12151.473022  12079.0\n",
       "Auris        Hybrid     498  13821.915663  13825.0\n",
       "C-HR         Hybrid     352  21759.215909  21497.0\n",
       "RAV4         Hybrid     228  22989.245614  21009.0\n",
       "Prius        Hybrid     214  18866.200935  18995.0\n",
       "Corolla      Hybrid     181  23146.038674  22790.0\n",
       "RAV4         Diesel     176  12467.767045  12998.0\n",
       "Auris        Petrol     169   9673.739645   9998.0\n",
       "C-HR         Petrol     120  17048.350000  16890.0\n",
       "Hilux        Diesel      85  21581.176471  21495.0\n",
       "Verso        Petrol      83  12658.084337  12990.0\n",
       "Corolla      Petrol      81  16263.469136  17790.0\n",
       "Avensis      Diesel      75   9125.893333   9750.0\n",
       "GT86         Petrol      73  19908.849315  18621.0\n",
       "Aygo         Other       59   9322.644068   9295.0\n",
       "RAV4         Petrol      58  16542.724138  18359.5\n",
       "Land Cruiser Diesel      50  36817.100000  39498.0\n",
       "Auris        Diesel      41   8447.878049   8395.0"
      ]
     },
     "execution_count": 33,
     "metadata": {},
     "output_type": "execute_result"
    }
   ],
   "source": [
    "df.groupby(['model', 'fuelType']).agg({'model':'count', 'price':['mean','median']}).sort_values(('model','count'), ascending=False).dropna().head(20)"
   ]
  },
  {
   "cell_type": "markdown",
   "id": "b2229ca1-0b24-4f2b-8e7f-8fed724b8cdf",
   "metadata": {},
   "source": [
    "### 3.4.3 Transmission and Fuel Type"
   ]
  },
  {
   "cell_type": "code",
   "execution_count": 34,
   "id": "f6a6dc81-24be-4bef-80fc-3c38975bba48",
   "metadata": {},
   "outputs": [
    {
     "data": {
      "text/html": [
       "<div>\n",
       "<style scoped>\n",
       "    .dataframe tbody tr th:only-of-type {\n",
       "        vertical-align: middle;\n",
       "    }\n",
       "\n",
       "    .dataframe tbody tr th {\n",
       "        vertical-align: top;\n",
       "    }\n",
       "\n",
       "    .dataframe thead tr th {\n",
       "        text-align: left;\n",
       "    }\n",
       "\n",
       "    .dataframe thead tr:last-of-type th {\n",
       "        text-align: right;\n",
       "    }\n",
       "</style>\n",
       "<table border=\"1\" class=\"dataframe\">\n",
       "  <thead>\n",
       "    <tr>\n",
       "      <th></th>\n",
       "      <th></th>\n",
       "      <th>transmission</th>\n",
       "      <th colspan=\"2\" halign=\"left\">price</th>\n",
       "    </tr>\n",
       "    <tr>\n",
       "      <th></th>\n",
       "      <th></th>\n",
       "      <th>count</th>\n",
       "      <th>mean</th>\n",
       "      <th>median</th>\n",
       "    </tr>\n",
       "    <tr>\n",
       "      <th>transmission</th>\n",
       "      <th>fuelType</th>\n",
       "      <th></th>\n",
       "      <th></th>\n",
       "      <th></th>\n",
       "    </tr>\n",
       "  </thead>\n",
       "  <tbody>\n",
       "    <tr>\n",
       "      <th>Manual</th>\n",
       "      <th>Petrol</th>\n",
       "      <td>3412</td>\n",
       "      <td>9273.822392</td>\n",
       "      <td>8790.0</td>\n",
       "    </tr>\n",
       "    <tr>\n",
       "      <th rowspan=\"2\" valign=\"top\">Automatic</th>\n",
       "      <th>Hybrid</th>\n",
       "      <td>2035</td>\n",
       "      <td>17197.475184</td>\n",
       "      <td>16495.0</td>\n",
       "    </tr>\n",
       "    <tr>\n",
       "      <th>Petrol</th>\n",
       "      <td>420</td>\n",
       "      <td>12569.145238</td>\n",
       "      <td>11959.0</td>\n",
       "    </tr>\n",
       "    <tr>\n",
       "      <th>Manual</th>\n",
       "      <th>Diesel</th>\n",
       "      <td>371</td>\n",
       "      <td>11956.708895</td>\n",
       "      <td>11290.0</td>\n",
       "    </tr>\n",
       "    <tr>\n",
       "      <th>Semi-Auto</th>\n",
       "      <th>Petrol</th>\n",
       "      <td>226</td>\n",
       "      <td>11782.398230</td>\n",
       "      <td>9742.5</td>\n",
       "    </tr>\n",
       "    <tr>\n",
       "      <th rowspan=\"2\" valign=\"top\">Automatic</th>\n",
       "      <th>Other</th>\n",
       "      <td>100</td>\n",
       "      <td>14453.620000</td>\n",
       "      <td>10595.0</td>\n",
       "    </tr>\n",
       "    <tr>\n",
       "      <th>Diesel</th>\n",
       "      <td>96</td>\n",
       "      <td>23495.218750</td>\n",
       "      <td>22470.0</td>\n",
       "    </tr>\n",
       "    <tr>\n",
       "      <th>Semi-Auto</th>\n",
       "      <th>Diesel</th>\n",
       "      <td>28</td>\n",
       "      <td>39130.392857</td>\n",
       "      <td>39746.5</td>\n",
       "    </tr>\n",
       "    <tr>\n",
       "      <th rowspan=\"2\" valign=\"top\">Manual</th>\n",
       "      <th>Other</th>\n",
       "      <td>5</td>\n",
       "      <td>7472.000000</td>\n",
       "      <td>7250.0</td>\n",
       "    </tr>\n",
       "    <tr>\n",
       "      <th>Hybrid</th>\n",
       "      <td>4</td>\n",
       "      <td>13369.750000</td>\n",
       "      <td>13444.5</td>\n",
       "    </tr>\n",
       "    <tr>\n",
       "      <th>Other</th>\n",
       "      <th>Hybrid</th>\n",
       "      <td>1</td>\n",
       "      <td>12795.000000</td>\n",
       "      <td>12795.0</td>\n",
       "    </tr>\n",
       "  </tbody>\n",
       "</table>\n",
       "</div>"
      ],
      "text/plain": [
       "                      transmission         price         \n",
       "                             count          mean   median\n",
       "transmission fuelType                                    \n",
       "Manual       Petrol           3412   9273.822392   8790.0\n",
       "Automatic    Hybrid           2035  17197.475184  16495.0\n",
       "             Petrol            420  12569.145238  11959.0\n",
       "Manual       Diesel            371  11956.708895  11290.0\n",
       "Semi-Auto    Petrol            226  11782.398230   9742.5\n",
       "Automatic    Other             100  14453.620000  10595.0\n",
       "             Diesel             96  23495.218750  22470.0\n",
       "Semi-Auto    Diesel             28  39130.392857  39746.5\n",
       "Manual       Other               5   7472.000000   7250.0\n",
       "             Hybrid              4  13369.750000  13444.5\n",
       "Other        Hybrid              1  12795.000000  12795.0"
      ]
     },
     "execution_count": 34,
     "metadata": {},
     "output_type": "execute_result"
    }
   ],
   "source": [
    "df.groupby(['transmission', 'fuelType'], dropna=True).agg({'transmission':'count', 'price':['mean','median']}).sort_values(('transmission','count'), ascending=False).dropna()"
   ]
  },
  {
   "cell_type": "markdown",
   "id": "7e29e9c1-f9ec-4aa8-a2b3-490429c0e2c9",
   "metadata": {},
   "source": [
    "### 3.4.4 Year and Model"
   ]
  },
  {
   "cell_type": "code",
   "execution_count": 35,
   "id": "9132dde4-b168-450c-bac1-9656d494c9ec",
   "metadata": {},
   "outputs": [
    {
     "data": {
      "text/html": [
       "<div>\n",
       "<style scoped>\n",
       "    .dataframe tbody tr th:only-of-type {\n",
       "        vertical-align: middle;\n",
       "    }\n",
       "\n",
       "    .dataframe tbody tr th {\n",
       "        vertical-align: top;\n",
       "    }\n",
       "\n",
       "    .dataframe thead tr th {\n",
       "        text-align: left;\n",
       "    }\n",
       "\n",
       "    .dataframe thead tr:last-of-type th {\n",
       "        text-align: right;\n",
       "    }\n",
       "</style>\n",
       "<table border=\"1\" class=\"dataframe\">\n",
       "  <thead>\n",
       "    <tr>\n",
       "      <th></th>\n",
       "      <th></th>\n",
       "      <th>year</th>\n",
       "      <th colspan=\"2\" halign=\"left\">price</th>\n",
       "    </tr>\n",
       "    <tr>\n",
       "      <th></th>\n",
       "      <th></th>\n",
       "      <th>count</th>\n",
       "      <th>mean</th>\n",
       "      <th>median</th>\n",
       "    </tr>\n",
       "    <tr>\n",
       "      <th>year</th>\n",
       "      <th>model</th>\n",
       "      <th></th>\n",
       "      <th></th>\n",
       "      <th></th>\n",
       "    </tr>\n",
       "  </thead>\n",
       "  <tbody>\n",
       "    <tr>\n",
       "      <th rowspan=\"2\" valign=\"top\">2017</th>\n",
       "      <th>Aygo</th>\n",
       "      <td>646</td>\n",
       "      <td>7690.524768</td>\n",
       "      <td>7535.5</td>\n",
       "    </tr>\n",
       "    <tr>\n",
       "      <th>Yaris</th>\n",
       "      <td>593</td>\n",
       "      <td>10638.527825</td>\n",
       "      <td>10250.0</td>\n",
       "    </tr>\n",
       "    <tr>\n",
       "      <th>2019</th>\n",
       "      <th>Yaris</th>\n",
       "      <td>396</td>\n",
       "      <td>12794.196970</td>\n",
       "      <td>12490.0</td>\n",
       "    </tr>\n",
       "    <tr>\n",
       "      <th rowspan=\"2\" valign=\"top\">2018</th>\n",
       "      <th>Aygo</th>\n",
       "      <td>376</td>\n",
       "      <td>8411.664894</td>\n",
       "      <td>8300.0</td>\n",
       "    </tr>\n",
       "    <tr>\n",
       "      <th>Yaris</th>\n",
       "      <td>369</td>\n",
       "      <td>11448.945799</td>\n",
       "      <td>10998.0</td>\n",
       "    </tr>\n",
       "    <tr>\n",
       "      <th>2019</th>\n",
       "      <th>Aygo</th>\n",
       "      <td>362</td>\n",
       "      <td>9805.281768</td>\n",
       "      <td>9792.5</td>\n",
       "    </tr>\n",
       "    <tr>\n",
       "      <th rowspan=\"2\" valign=\"top\">2016</th>\n",
       "      <th>Yaris</th>\n",
       "      <td>315</td>\n",
       "      <td>10046.419048</td>\n",
       "      <td>9790.0</td>\n",
       "    </tr>\n",
       "    <tr>\n",
       "      <th>Aygo</th>\n",
       "      <td>240</td>\n",
       "      <td>7046.600000</td>\n",
       "      <td>6995.0</td>\n",
       "    </tr>\n",
       "    <tr>\n",
       "      <th>2019</th>\n",
       "      <th>Corolla</th>\n",
       "      <td>225</td>\n",
       "      <td>21184.368889</td>\n",
       "      <td>21500.0</td>\n",
       "    </tr>\n",
       "    <tr>\n",
       "      <th rowspan=\"2\" valign=\"top\">2017</th>\n",
       "      <th>Auris</th>\n",
       "      <td>218</td>\n",
       "      <td>14087.770642</td>\n",
       "      <td>14492.5</td>\n",
       "    </tr>\n",
       "    <tr>\n",
       "      <th>C-HR</th>\n",
       "      <td>214</td>\n",
       "      <td>18799.331776</td>\n",
       "      <td>19493.0</td>\n",
       "    </tr>\n",
       "    <tr>\n",
       "      <th>2015</th>\n",
       "      <th>Yaris</th>\n",
       "      <td>171</td>\n",
       "      <td>8956.222222</td>\n",
       "      <td>8772.0</td>\n",
       "    </tr>\n",
       "    <tr>\n",
       "      <th>2016</th>\n",
       "      <th>Auris</th>\n",
       "      <td>154</td>\n",
       "      <td>12705.805195</td>\n",
       "      <td>12998.0</td>\n",
       "    </tr>\n",
       "    <tr>\n",
       "      <th>2017</th>\n",
       "      <th>RAV4</th>\n",
       "      <td>151</td>\n",
       "      <td>19071.039735</td>\n",
       "      <td>19862.0</td>\n",
       "    </tr>\n",
       "    <tr>\n",
       "      <th>2015</th>\n",
       "      <th>Aygo</th>\n",
       "      <td>144</td>\n",
       "      <td>6276.840278</td>\n",
       "      <td>6230.0</td>\n",
       "    </tr>\n",
       "    <tr>\n",
       "      <th>2016</th>\n",
       "      <th>RAV4</th>\n",
       "      <td>142</td>\n",
       "      <td>18446.838028</td>\n",
       "      <td>19143.0</td>\n",
       "    </tr>\n",
       "    <tr>\n",
       "      <th>2018</th>\n",
       "      <th>C-HR</th>\n",
       "      <td>139</td>\n",
       "      <td>20362.920863</td>\n",
       "      <td>20995.0</td>\n",
       "    </tr>\n",
       "    <tr>\n",
       "      <th>2015</th>\n",
       "      <th>Auris</th>\n",
       "      <td>115</td>\n",
       "      <td>11933.121739</td>\n",
       "      <td>12472.0</td>\n",
       "    </tr>\n",
       "    <tr>\n",
       "      <th>2014</th>\n",
       "      <th>Yaris</th>\n",
       "      <td>113</td>\n",
       "      <td>8143.787611</td>\n",
       "      <td>7995.0</td>\n",
       "    </tr>\n",
       "    <tr>\n",
       "      <th>2019</th>\n",
       "      <th>C-HR</th>\n",
       "      <td>108</td>\n",
       "      <td>24183.037037</td>\n",
       "      <td>24470.0</td>\n",
       "    </tr>\n",
       "  </tbody>\n",
       "</table>\n",
       "</div>"
      ],
      "text/plain": [
       "              year         price         \n",
       "             count          mean   median\n",
       "year model                               \n",
       "2017 Aygo      646   7690.524768   7535.5\n",
       "     Yaris     593  10638.527825  10250.0\n",
       "2019 Yaris     396  12794.196970  12490.0\n",
       "2018 Aygo      376   8411.664894   8300.0\n",
       "     Yaris     369  11448.945799  10998.0\n",
       "2019 Aygo      362   9805.281768   9792.5\n",
       "2016 Yaris     315  10046.419048   9790.0\n",
       "     Aygo      240   7046.600000   6995.0\n",
       "2019 Corolla   225  21184.368889  21500.0\n",
       "2017 Auris     218  14087.770642  14492.5\n",
       "     C-HR      214  18799.331776  19493.0\n",
       "2015 Yaris     171   8956.222222   8772.0\n",
       "2016 Auris     154  12705.805195  12998.0\n",
       "2017 RAV4      151  19071.039735  19862.0\n",
       "2015 Aygo      144   6276.840278   6230.0\n",
       "2016 RAV4      142  18446.838028  19143.0\n",
       "2018 C-HR      139  20362.920863  20995.0\n",
       "2015 Auris     115  11933.121739  12472.0\n",
       "2014 Yaris     113   8143.787611   7995.0\n",
       "2019 C-HR      108  24183.037037  24470.0"
      ]
     },
     "execution_count": 35,
     "metadata": {},
     "output_type": "execute_result"
    }
   ],
   "source": [
    "df.groupby(['year', 'model'], dropna=True).agg({'year':'count', 'price':['mean','median']}).sort_values(('year','count'), ascending=False).dropna().head(20)"
   ]
  },
  {
   "cell_type": "markdown",
   "id": "9f9e1d20-b650-43b2-bc85-b126c96b4556",
   "metadata": {},
   "source": [
    "**Conclusions**\n",
    "- Grouping by the model and transmission, we can see that Manual Aygo is the most popular type of car sold, with just costing just around £7686. Manual Yaris comes in second and is selling more than its Automatic counterpart and cost around respectively £9804 and £11890.\n",
    "- Grouping by model and fuel type, the top two most sold are Petrol Aygo and Yaris Petrol\n",
    "- Grouped by the transmission and fuel type, we see that Manual Petrol and Automatic Hybrid make the most sales.\n",
    "- Grouped by year of manufacture and model, Aygo 2017 has the most sales, and then Yaris 2017 and 2019."
   ]
  },
  {
   "cell_type": "markdown",
   "id": "d2cce8a2-9dbb-4ce7-95ce-774dd2dae81d",
   "metadata": {},
   "source": [
    "# 4. Feature Engineering <a name=\"Feature\"></a>"
   ]
  },
  {
   "cell_type": "markdown",
   "id": "49ead66f-c528-403d-8c1d-b4be978743c0",
   "metadata": {},
   "source": [
    "Based on our EDA, there are multiple variables that are of interest to include in our machine learning model. Firstly, in our numerical variables, it was seen that mileage, tax, and especially engine size were positively correlated to the price of the car. By their normally distributed data, we also saw that cars manufactured in certain years, cars with certain model types, using certain types of transmission and fuel had a correlation to the sales count and prices of cars.\n",
    "\n",
    "To further analyze which types of cars will be able to help in our price prediction, the categorical features will be broken further down for the machine learning model to test. As for the numerical features, since they all have different magnitudes, we will have to standardize them in order to eliminate the bias that can derive from the difference in magnitudes. \n",
    "\n",
    "Before we proceed in the model building, we need to make sure that our data is a single scalar number so that the machine learning will be able to read the data and develop its predictive ability."
   ]
  },
  {
   "cell_type": "markdown",
   "id": "186c29aa-424b-451d-b889-38a2eaf7b898",
   "metadata": {},
   "source": [
    "## 4.1 Encoding"
   ]
  },
  {
   "cell_type": "markdown",
   "id": "705fa58d-f5b9-4a66-be46-cba25c90ea44",
   "metadata": {},
   "source": [
    "Categorical features are divided ordinal and nominal data type. This is important because ordinal and nominal data types are treated differently in the encoding process. The ordinal features will use the Label Encoding method to make sure that they are ordered correctly, while the nominal features will go through One Hot Encoding using Pandas get_dummies function to have each category in the column a separate feature on their own. In our dataset, year is considered to be ordinal, while the rest of categorical features are nomimal."
   ]
  },
  {
   "cell_type": "code",
   "execution_count": 204,
   "id": "9b4bfc15-7119-4662-be5f-31bec9fccf70",
   "metadata": {},
   "outputs": [],
   "source": [
    "data = df"
   ]
  },
  {
   "cell_type": "code",
   "execution_count": 205,
   "id": "2ed5bb7b-08af-46a1-8829-633bc049a852",
   "metadata": {},
   "outputs": [],
   "source": [
    "from sklearn.preprocessing import LabelEncoder"
   ]
  },
  {
   "cell_type": "code",
   "execution_count": 206,
   "id": "74ecfc85-8b9c-4704-9085-d13f78a8fec6",
   "metadata": {},
   "outputs": [
    {
     "data": {
      "text/plain": [
       "18    2015\n",
       "20    1265\n",
       "19    1014\n",
       "17     990\n",
       "16     522\n",
       "15     351\n",
       "14     203\n",
       "21     127\n",
       "13      42\n",
       "12      40\n",
       "10      29\n",
       "8       20\n",
       "9       19\n",
       "11      18\n",
       "6       12\n",
       "7       11\n",
       "5        7\n",
       "4        6\n",
       "3        4\n",
       "2        1\n",
       "1        1\n",
       "0        1\n",
       "Name: year, dtype: int64"
      ]
     },
     "execution_count": 206,
     "metadata": {},
     "output_type": "execute_result"
    }
   ],
   "source": [
    "label = LabelEncoder()\n",
    "labeled = label.fit_transform(data['year'])\n",
    "data['year'] = labeled\n",
    "data['year'].value_counts()"
   ]
  },
  {
   "cell_type": "code",
   "execution_count": 207,
   "id": "8f2ef4b5-887f-40f4-b1eb-ed6e24b37f4f",
   "metadata": {},
   "outputs": [
    {
     "data": {
      "text/html": [
       "<div>\n",
       "<style scoped>\n",
       "    .dataframe tbody tr th:only-of-type {\n",
       "        vertical-align: middle;\n",
       "    }\n",
       "\n",
       "    .dataframe tbody tr th {\n",
       "        vertical-align: top;\n",
       "    }\n",
       "\n",
       "    .dataframe thead th {\n",
       "        text-align: right;\n",
       "    }\n",
       "</style>\n",
       "<table border=\"1\" class=\"dataframe\">\n",
       "  <thead>\n",
       "    <tr style=\"text-align: right;\">\n",
       "      <th></th>\n",
       "      <th>model</th>\n",
       "      <th>year</th>\n",
       "      <th>price</th>\n",
       "      <th>transmission</th>\n",
       "      <th>mileage</th>\n",
       "      <th>fuelType</th>\n",
       "      <th>tax</th>\n",
       "      <th>mpg</th>\n",
       "      <th>engineSize</th>\n",
       "      <th>model_Auris</th>\n",
       "      <th>...</th>\n",
       "      <th>model_Verso-S</th>\n",
       "      <th>model_Yaris</th>\n",
       "      <th>transmission_Automatic</th>\n",
       "      <th>transmission_Manual</th>\n",
       "      <th>transmission_Other</th>\n",
       "      <th>transmission_Semi-Auto</th>\n",
       "      <th>fuelType_Diesel</th>\n",
       "      <th>fuelType_Hybrid</th>\n",
       "      <th>fuelType_Other</th>\n",
       "      <th>fuelType_Petrol</th>\n",
       "    </tr>\n",
       "  </thead>\n",
       "  <tbody>\n",
       "    <tr>\n",
       "      <th>0</th>\n",
       "      <td>GT86</td>\n",
       "      <td>17</td>\n",
       "      <td>16000</td>\n",
       "      <td>Manual</td>\n",
       "      <td>24089</td>\n",
       "      <td>Petrol</td>\n",
       "      <td>265</td>\n",
       "      <td>36.2</td>\n",
       "      <td>2.0</td>\n",
       "      <td>0</td>\n",
       "      <td>...</td>\n",
       "      <td>0</td>\n",
       "      <td>0</td>\n",
       "      <td>0</td>\n",
       "      <td>1</td>\n",
       "      <td>0</td>\n",
       "      <td>0</td>\n",
       "      <td>0</td>\n",
       "      <td>0</td>\n",
       "      <td>0</td>\n",
       "      <td>1</td>\n",
       "    </tr>\n",
       "    <tr>\n",
       "      <th>1</th>\n",
       "      <td>GT86</td>\n",
       "      <td>18</td>\n",
       "      <td>15995</td>\n",
       "      <td>Manual</td>\n",
       "      <td>18615</td>\n",
       "      <td>Petrol</td>\n",
       "      <td>145</td>\n",
       "      <td>36.2</td>\n",
       "      <td>2.0</td>\n",
       "      <td>0</td>\n",
       "      <td>...</td>\n",
       "      <td>0</td>\n",
       "      <td>0</td>\n",
       "      <td>0</td>\n",
       "      <td>1</td>\n",
       "      <td>0</td>\n",
       "      <td>0</td>\n",
       "      <td>0</td>\n",
       "      <td>0</td>\n",
       "      <td>0</td>\n",
       "      <td>1</td>\n",
       "    </tr>\n",
       "    <tr>\n",
       "      <th>2</th>\n",
       "      <td>GT86</td>\n",
       "      <td>16</td>\n",
       "      <td>13998</td>\n",
       "      <td>Manual</td>\n",
       "      <td>27469</td>\n",
       "      <td>Petrol</td>\n",
       "      <td>265</td>\n",
       "      <td>36.2</td>\n",
       "      <td>2.0</td>\n",
       "      <td>0</td>\n",
       "      <td>...</td>\n",
       "      <td>0</td>\n",
       "      <td>0</td>\n",
       "      <td>0</td>\n",
       "      <td>1</td>\n",
       "      <td>0</td>\n",
       "      <td>0</td>\n",
       "      <td>0</td>\n",
       "      <td>0</td>\n",
       "      <td>0</td>\n",
       "      <td>1</td>\n",
       "    </tr>\n",
       "    <tr>\n",
       "      <th>3</th>\n",
       "      <td>GT86</td>\n",
       "      <td>18</td>\n",
       "      <td>18998</td>\n",
       "      <td>Manual</td>\n",
       "      <td>14736</td>\n",
       "      <td>Petrol</td>\n",
       "      <td>150</td>\n",
       "      <td>36.2</td>\n",
       "      <td>2.0</td>\n",
       "      <td>0</td>\n",
       "      <td>...</td>\n",
       "      <td>0</td>\n",
       "      <td>0</td>\n",
       "      <td>0</td>\n",
       "      <td>1</td>\n",
       "      <td>0</td>\n",
       "      <td>0</td>\n",
       "      <td>0</td>\n",
       "      <td>0</td>\n",
       "      <td>0</td>\n",
       "      <td>1</td>\n",
       "    </tr>\n",
       "    <tr>\n",
       "      <th>4</th>\n",
       "      <td>GT86</td>\n",
       "      <td>18</td>\n",
       "      <td>17498</td>\n",
       "      <td>Manual</td>\n",
       "      <td>36284</td>\n",
       "      <td>Petrol</td>\n",
       "      <td>145</td>\n",
       "      <td>36.2</td>\n",
       "      <td>2.0</td>\n",
       "      <td>0</td>\n",
       "      <td>...</td>\n",
       "      <td>0</td>\n",
       "      <td>0</td>\n",
       "      <td>0</td>\n",
       "      <td>1</td>\n",
       "      <td>0</td>\n",
       "      <td>0</td>\n",
       "      <td>0</td>\n",
       "      <td>0</td>\n",
       "      <td>0</td>\n",
       "      <td>1</td>\n",
       "    </tr>\n",
       "  </tbody>\n",
       "</table>\n",
       "<p>5 rows × 35 columns</p>\n",
       "</div>"
      ],
      "text/plain": [
       "  model  year  price transmission  mileage fuelType  tax   mpg  engineSize  \\\n",
       "0  GT86    17  16000       Manual    24089   Petrol  265  36.2         2.0   \n",
       "1  GT86    18  15995       Manual    18615   Petrol  145  36.2         2.0   \n",
       "2  GT86    16  13998       Manual    27469   Petrol  265  36.2         2.0   \n",
       "3  GT86    18  18998       Manual    14736   Petrol  150  36.2         2.0   \n",
       "4  GT86    18  17498       Manual    36284   Petrol  145  36.2         2.0   \n",
       "\n",
       "   model_Auris  ...  model_Verso-S  model_Yaris  transmission_Automatic  \\\n",
       "0            0  ...              0            0                       0   \n",
       "1            0  ...              0            0                       0   \n",
       "2            0  ...              0            0                       0   \n",
       "3            0  ...              0            0                       0   \n",
       "4            0  ...              0            0                       0   \n",
       "\n",
       "   transmission_Manual  transmission_Other  transmission_Semi-Auto  \\\n",
       "0                    1                   0                       0   \n",
       "1                    1                   0                       0   \n",
       "2                    1                   0                       0   \n",
       "3                    1                   0                       0   \n",
       "4                    1                   0                       0   \n",
       "\n",
       "   fuelType_Diesel  fuelType_Hybrid  fuelType_Other  fuelType_Petrol  \n",
       "0                0                0               0                1  \n",
       "1                0                0               0                1  \n",
       "2                0                0               0                1  \n",
       "3                0                0               0                1  \n",
       "4                0                0               0                1  \n",
       "\n",
       "[5 rows x 35 columns]"
      ]
     },
     "execution_count": 207,
     "metadata": {},
     "output_type": "execute_result"
    }
   ],
   "source": [
    "cats = ['model','transmission','fuelType']\n",
    "encoded = pd.get_dummies(data[cats], prefix=cats)\n",
    "data = data.join(encoded)\n",
    "data.head()"
   ]
  },
  {
   "cell_type": "code",
   "execution_count": 208,
   "id": "b2e410ff-4d51-4a97-98ab-8d67c67377ac",
   "metadata": {},
   "outputs": [
    {
     "data": {
      "text/plain": [
       "Index(['year', 'price', 'mileage', 'tax', 'mpg', 'engineSize', 'model_Auris',\n",
       "       'model_Avensis', 'model_Aygo', 'model_C-HR', 'model_Camry',\n",
       "       'model_Corolla', 'model_GT86', 'model_Hilux', 'model_IQ',\n",
       "       'model_Land Cruiser', 'model_PROACE VERSO', 'model_Prius', 'model_RAV4',\n",
       "       'model_Supra', 'model_Urban Cruiser', 'model_Verso', 'model_Verso-S',\n",
       "       'model_Yaris', 'transmission_Automatic', 'transmission_Manual',\n",
       "       'transmission_Other', 'transmission_Semi-Auto', 'fuelType_Diesel',\n",
       "       'fuelType_Hybrid', 'fuelType_Other', 'fuelType_Petrol'],\n",
       "      dtype='object')"
      ]
     },
     "execution_count": 208,
     "metadata": {},
     "output_type": "execute_result"
    }
   ],
   "source": [
    "for col in data.columns:\n",
    "    if data[col].dtype.name == 'category':\n",
    "        data = data.drop(col, axis=1)\n",
    "data.columns"
   ]
  },
  {
   "cell_type": "markdown",
   "id": "865d1547-700f-4046-991b-30aa8b18c4e6",
   "metadata": {},
   "source": [
    "The pre-existing categorical columns that are were one-hot-encoded are dropped, since our dataset now has separate columns for each separate categories in those columns."
   ]
  },
  {
   "cell_type": "markdown",
   "id": "6b9132bd-2504-4639-9bad-dca8dc92edd6",
   "metadata": {},
   "source": [
    "## 4.2 Splitting Test and Training Data"
   ]
  },
  {
   "cell_type": "markdown",
   "id": "ae240cd3-7b64-4c23-864b-bf3c267ad100",
   "metadata": {},
   "source": [
    "Before we get to scaling the numerical values, one step we need to do before that is splitting the data into test set and training set. The reason we do not scale before is to prevent bias in the scaling. In the real world, the test set is data that our prediction model has never seen before, and thus we treat it the same way in the model building process."
   ]
  },
  {
   "cell_type": "code",
   "execution_count": 209,
   "id": "f15e4f78-06cd-4af2-a930-df667cc6db27",
   "metadata": {},
   "outputs": [],
   "source": [
    "from sklearn.model_selection import train_test_split"
   ]
  },
  {
   "cell_type": "code",
   "execution_count": 210,
   "id": "0b369309-dbe0-4841-bc51-7945a5384781",
   "metadata": {},
   "outputs": [],
   "source": [
    "train, test = train_test_split(data, train_size = 0.75, test_size = 0.25, random_state = 13)"
   ]
  },
  {
   "cell_type": "markdown",
   "id": "f3d60301-d364-4b62-ac11-5f61521219c9",
   "metadata": {},
   "source": [
    "## 4.3 Scaling"
   ]
  },
  {
   "cell_type": "markdown",
   "id": "157d251d-dfc7-456f-8fa8-5e69adbba1cb",
   "metadata": {},
   "source": [
    "To eliminate bias caused by difference in the numerical magnitudes, the values of each numerical columns are scaled using the Standard Scaler method. The Standard Scaler is a method that by default standardizes numerical features by subtracting the data by the mean and dividing it by the standard deviation. Depending on the variability of each data point, the data point will be either be a negative or positive number around 0. Make sure that this is done for both the training and the testing set, albeit separately."
   ]
  },
  {
   "cell_type": "code",
   "execution_count": 211,
   "id": "a06c33cd-6eae-44f0-b080-1b7bb12c9ef8",
   "metadata": {},
   "outputs": [],
   "source": [
    "from sklearn.preprocessing import StandardScaler"
   ]
  },
  {
   "cell_type": "code",
   "execution_count": 212,
   "id": "c39b7a3a-a29b-4198-b150-ab0d6ef374e1",
   "metadata": {},
   "outputs": [
    {
     "data": {
      "text/plain": [
       "['year', 'price', 'mileage', 'tax', 'mpg', 'engineSize']"
      ]
     },
     "execution_count": 212,
     "metadata": {},
     "output_type": "execute_result"
    }
   ],
   "source": [
    "columns_num = [col for col in df.columns if df[col].dtype.name != 'category']\n",
    "columns_num"
   ]
  },
  {
   "cell_type": "code",
   "execution_count": 213,
   "id": "cb84b1d1-80ed-4c3d-ade4-c9633d161c0e",
   "metadata": {},
   "outputs": [
    {
     "data": {
      "text/html": [
       "<div>\n",
       "<style scoped>\n",
       "    .dataframe tbody tr th:only-of-type {\n",
       "        vertical-align: middle;\n",
       "    }\n",
       "\n",
       "    .dataframe tbody tr th {\n",
       "        vertical-align: top;\n",
       "    }\n",
       "\n",
       "    .dataframe thead th {\n",
       "        text-align: right;\n",
       "    }\n",
       "</style>\n",
       "<table border=\"1\" class=\"dataframe\">\n",
       "  <thead>\n",
       "    <tr style=\"text-align: right;\">\n",
       "      <th></th>\n",
       "      <th>year</th>\n",
       "      <th>price</th>\n",
       "      <th>mileage</th>\n",
       "      <th>tax</th>\n",
       "      <th>mpg</th>\n",
       "      <th>engineSize</th>\n",
       "      <th>model_Auris</th>\n",
       "      <th>model_Avensis</th>\n",
       "      <th>model_Aygo</th>\n",
       "      <th>model_C-HR</th>\n",
       "      <th>...</th>\n",
       "      <th>model_Verso-S</th>\n",
       "      <th>model_Yaris</th>\n",
       "      <th>transmission_Automatic</th>\n",
       "      <th>transmission_Manual</th>\n",
       "      <th>transmission_Other</th>\n",
       "      <th>transmission_Semi-Auto</th>\n",
       "      <th>fuelType_Diesel</th>\n",
       "      <th>fuelType_Hybrid</th>\n",
       "      <th>fuelType_Other</th>\n",
       "      <th>fuelType_Petrol</th>\n",
       "    </tr>\n",
       "  </thead>\n",
       "  <tbody>\n",
       "    <tr>\n",
       "      <th>1083</th>\n",
       "      <td>0.120165</td>\n",
       "      <td>-0.548972</td>\n",
       "      <td>-0.010729</td>\n",
       "      <td>-0.869918</td>\n",
       "      <td>-0.321306</td>\n",
       "      <td>-0.395593</td>\n",
       "      <td>0</td>\n",
       "      <td>0</td>\n",
       "      <td>0</td>\n",
       "      <td>0</td>\n",
       "      <td>...</td>\n",
       "      <td>0</td>\n",
       "      <td>1</td>\n",
       "      <td>0</td>\n",
       "      <td>1</td>\n",
       "      <td>0</td>\n",
       "      <td>0</td>\n",
       "      <td>0</td>\n",
       "      <td>0</td>\n",
       "      <td>0</td>\n",
       "      <td>1</td>\n",
       "    </tr>\n",
       "    <tr>\n",
       "      <th>57</th>\n",
       "      <td>0.120165</td>\n",
       "      <td>0.763955</td>\n",
       "      <td>-0.581286</td>\n",
       "      <td>0.678629</td>\n",
       "      <td>-1.695568</td>\n",
       "      <td>1.192970</td>\n",
       "      <td>0</td>\n",
       "      <td>0</td>\n",
       "      <td>0</td>\n",
       "      <td>0</td>\n",
       "      <td>...</td>\n",
       "      <td>0</td>\n",
       "      <td>0</td>\n",
       "      <td>0</td>\n",
       "      <td>1</td>\n",
       "      <td>0</td>\n",
       "      <td>0</td>\n",
       "      <td>0</td>\n",
       "      <td>0</td>\n",
       "      <td>0</td>\n",
       "      <td>1</td>\n",
       "    </tr>\n",
       "    <tr>\n",
       "      <th>4944</th>\n",
       "      <td>-0.790226</td>\n",
       "      <td>-0.858286</td>\n",
       "      <td>1.015456</td>\n",
       "      <td>-1.273886</td>\n",
       "      <td>0.372129</td>\n",
       "      <td>-1.076406</td>\n",
       "      <td>0</td>\n",
       "      <td>0</td>\n",
       "      <td>1</td>\n",
       "      <td>0</td>\n",
       "      <td>...</td>\n",
       "      <td>0</td>\n",
       "      <td>0</td>\n",
       "      <td>0</td>\n",
       "      <td>1</td>\n",
       "      <td>0</td>\n",
       "      <td>0</td>\n",
       "      <td>0</td>\n",
       "      <td>0</td>\n",
       "      <td>0</td>\n",
       "      <td>1</td>\n",
       "    </tr>\n",
       "    <tr>\n",
       "      <th>665</th>\n",
       "      <td>-0.335030</td>\n",
       "      <td>0.964090</td>\n",
       "      <td>0.924246</td>\n",
       "      <td>-1.004574</td>\n",
       "      <td>-0.346522</td>\n",
       "      <td>2.327658</td>\n",
       "      <td>0</td>\n",
       "      <td>0</td>\n",
       "      <td>0</td>\n",
       "      <td>0</td>\n",
       "      <td>...</td>\n",
       "      <td>0</td>\n",
       "      <td>0</td>\n",
       "      <td>1</td>\n",
       "      <td>0</td>\n",
       "      <td>0</td>\n",
       "      <td>0</td>\n",
       "      <td>0</td>\n",
       "      <td>1</td>\n",
       "      <td>0</td>\n",
       "      <td>0</td>\n",
       "    </tr>\n",
       "    <tr>\n",
       "      <th>5711</th>\n",
       "      <td>0.575360</td>\n",
       "      <td>1.458870</td>\n",
       "      <td>0.075705</td>\n",
       "      <td>0.543973</td>\n",
       "      <td>0.706239</td>\n",
       "      <td>0.739095</td>\n",
       "      <td>0</td>\n",
       "      <td>0</td>\n",
       "      <td>0</td>\n",
       "      <td>1</td>\n",
       "      <td>...</td>\n",
       "      <td>0</td>\n",
       "      <td>0</td>\n",
       "      <td>1</td>\n",
       "      <td>0</td>\n",
       "      <td>0</td>\n",
       "      <td>0</td>\n",
       "      <td>0</td>\n",
       "      <td>1</td>\n",
       "      <td>0</td>\n",
       "      <td>0</td>\n",
       "    </tr>\n",
       "  </tbody>\n",
       "</table>\n",
       "<p>5 rows × 32 columns</p>\n",
       "</div>"
      ],
      "text/plain": [
       "          year     price   mileage       tax       mpg  engineSize  \\\n",
       "1083  0.120165 -0.548972 -0.010729 -0.869918 -0.321306   -0.395593   \n",
       "57    0.120165  0.763955 -0.581286  0.678629 -1.695568    1.192970   \n",
       "4944 -0.790226 -0.858286  1.015456 -1.273886  0.372129   -1.076406   \n",
       "665  -0.335030  0.964090  0.924246 -1.004574 -0.346522    2.327658   \n",
       "5711  0.575360  1.458870  0.075705  0.543973  0.706239    0.739095   \n",
       "\n",
       "      model_Auris  model_Avensis  model_Aygo  model_C-HR  ...  model_Verso-S  \\\n",
       "1083            0              0           0           0  ...              0   \n",
       "57              0              0           0           0  ...              0   \n",
       "4944            0              0           1           0  ...              0   \n",
       "665             0              0           0           0  ...              0   \n",
       "5711            0              0           0           1  ...              0   \n",
       "\n",
       "      model_Yaris  transmission_Automatic  transmission_Manual  \\\n",
       "1083            1                       0                    1   \n",
       "57              0                       0                    1   \n",
       "4944            0                       0                    1   \n",
       "665             0                       1                    0   \n",
       "5711            0                       1                    0   \n",
       "\n",
       "      transmission_Other  transmission_Semi-Auto  fuelType_Diesel  \\\n",
       "1083                   0                       0                0   \n",
       "57                     0                       0                0   \n",
       "4944                   0                       0                0   \n",
       "665                    0                       0                0   \n",
       "5711                   0                       0                0   \n",
       "\n",
       "      fuelType_Hybrid  fuelType_Other  fuelType_Petrol  \n",
       "1083                0               0                1  \n",
       "57                  0               0                1  \n",
       "4944                0               0                1  \n",
       "665                 1               0                0  \n",
       "5711                1               0                0  \n",
       "\n",
       "[5 rows x 32 columns]"
      ]
     },
     "execution_count": 213,
     "metadata": {},
     "output_type": "execute_result"
    }
   ],
   "source": [
    "scaler_test = StandardScaler()\n",
    "scaler_train = StandardScaler()\n",
    "columns_num = [col for col in df.columns if df[col].dtype.name != 'category']\n",
    "\n",
    "scaler_train.fit(train[columns_num])\n",
    "train[columns_num] = scaler_train.transform(train[columns_num])\n",
    "\n",
    "scaler_test.fit(test[columns_num])\n",
    "test[columns_num] = scaler_test.transform(test[columns_num])\n",
    "\n",
    "train.head()"
   ]
  },
  {
   "cell_type": "code",
   "execution_count": 288,
   "id": "6e47c1d9-3a5d-468c-81fc-216663d8c46e",
   "metadata": {},
   "outputs": [
    {
     "data": {
      "text/plain": [
       "<AxesSubplot:>"
      ]
     },
     "execution_count": 288,
     "metadata": {},
     "output_type": "execute_result"
    },
    {
     "data": {
      "image/png": "[encoded data removed]",
      "text/plain": [
       "<Figure size 1152x864 with 2 Axes>"
      ]
     },
     "metadata": {},
     "output_type": "display_data"
    }
   ],
   "source": [
    "plt.figure(figsize=(16,12))\n",
    "sns.set_theme(style='ticks', font_scale=0.9, context='notebook', palette='bright')\n",
    "plt.suptitle('Feature Correlation', fontsize=20, y=0.98)\n",
    "\n",
    "corr = train.corr()\n",
    "mask = np.triu(np.ones_like(corr, dtype=bool))\n",
    "cmap = sns.diverging_palette(220, 20, as_cmap=True)\n",
    "sns.heatmap(corr, annot=False, linewidths=1.5, cmap=cmap, vmin=-1, vmax=1, mask=mask)"
   ]
  },
  {
   "cell_type": "markdown",
   "id": "67e275cd-5665-46bd-a9df-334965e75b64",
   "metadata": {},
   "source": [
    "The above correlation graph shows how each feature interact with another. The color map used in this graph signal red for positive correlation, blue for negative correlation, and pure white for no correlation at all. Mostly, we are interested in seeing how the variables we have just created interacts with our target variable price.\n",
    "- Dependent variables that are clear to have negative correlation to price are `Petrol Fuel type`, `annual transmission`, `Yaris model`, `Aygo model`, and `mileage`.\n",
    "- Dependent variables that are clear to have positive correlation to price are `Hibrid Fuel type`, `Automatic transmission`, `Supra model`, `Land Cruiser model`, `Corolla model`, `C-HR model`, `engine size`, and `tax`. (Note that there are other positive correlations between price and other dependent variables, but closer to 0.)\n"
   ]
  },
  {
   "cell_type": "markdown",
   "id": "206b9fe7-85fc-4d85-9004-f5d532db647a",
   "metadata": {},
   "source": [
    "## 4.4 Splitting Feature and Target Variables"
   ]
  },
  {
   "cell_type": "markdown",
   "id": "028d6bcf-b2d2-4ae3-8c94-baf77d51fb11",
   "metadata": {},
   "source": [
    "Previously, our dataset was already split into training and testing set. They are further divided into feature variables and target variable, where our target variable is the price of the car."
   ]
  },
  {
   "cell_type": "code",
   "execution_count": 215,
   "id": "e07166fd-868a-4495-a91c-bc7d83d22aef",
   "metadata": {},
   "outputs": [
    {
     "data": {
      "text/plain": [
       "((1675, 31), (5023, 31), (1675,), (5023,))"
      ]
     },
     "execution_count": 215,
     "metadata": {},
     "output_type": "execute_result"
    }
   ],
   "source": [
    "y_train = train['price']\n",
    "X_train = train.drop('price', axis=1)\n",
    "y_test = test['price']\n",
    "X_test = test.drop('price', axis=1)\n",
    "X_test.shape, X_train.shape, y_test.shape, y_train.shape"
   ]
  },
  {
   "cell_type": "markdown",
   "id": "44f19f29-3e9c-485e-b363-c9496b96c9c9",
   "metadata": {},
   "source": [
    "# 5. Machine Learning Model <a name=\"Machine\"></a>"
   ]
  },
  {
   "cell_type": "markdown",
   "id": "bab61714-45d5-4706-9a9c-7c6ca90a81ba",
   "metadata": {},
   "source": [
    "The goal of this section is to build a model that is able to predict the price of the cars using the feature variables as input.\n",
    "\n",
    "As previously mentioned in the analysis plan, as our first machine learning model, we will use the simplest model, which is the linear regression model. If the model performs to a decent level based on its evaluation scores, we will proceed to use the model and attempt to improve the predictive ability of the model."
   ]
  },
  {
   "cell_type": "markdown",
   "id": "d5cfbcb4-04de-4542-8b5e-2cd8ce4d3f47",
   "metadata": {},
   "source": [
    "## 5.1 Initial Model Test"
   ]
  },
  {
   "cell_type": "markdown",
   "id": "8fb51b77-86a8-4721-9d69-cb247dd4c8e0",
   "metadata": {},
   "source": [
    "The initial model test uses all the features that exist in our dataset. To evaluate our initial model, we will use the Root Mean Squared Error (RMSE), which is the standard deviation of the residuals (prediction errors) given in absolute terms. The lower the RMSE score, the lower our prediction errors, in other words, the better our prediction results. Based on a rule of thumb, a good RMSE ranges around 0.2 and 0.5, which indicates that the model has a relatively accurate predictive ability. Amazingly, the linear regression model was able to achieve around 0.27 score of RMSE, which is considered to be decent based on the rule of thumb. The evalation is done using cross validation, switching the folds in the training data to ensure that the model is robust when tested with different data."
   ]
  },
  {
   "cell_type": "code",
   "execution_count": 216,
   "id": "e8b4a610-649f-498d-b2a7-ee4e71914a00",
   "metadata": {},
   "outputs": [],
   "source": [
    "from sklearn.linear_model import LinearRegression\n",
    "from sklearn.model_selection import cross_val_score"
   ]
  },
  {
   "cell_type": "code",
   "execution_count": 217,
   "id": "34bcd0df-af36-478a-b30d-ba97448fdc6c",
   "metadata": {},
   "outputs": [
    {
     "name": "stdout",
     "output_type": "stream",
     "text": [
      "[0.24063041 0.29676593 0.30261413 0.25894769 0.25946638]\n",
      "0.2716849082895122\n"
     ]
    }
   ],
   "source": [
    "reg = LinearRegression()\n",
    "reg.fit(X_train,y_train)\n",
    "cv_results = cross_val_score(reg, X_train, y_train, scoring='neg_root_mean_squared_error', cv=5)\n",
    "print(abs(cv_results))\n",
    "print(abs(np.mean(cv_results)))"
   ]
  },
  {
   "cell_type": "markdown",
   "id": "c1ebfc55-fa24-494d-8558-bbf479aeaeb3",
   "metadata": {},
   "source": [
    "## 5.2 Reducing Dimensionality"
   ]
  },
  {
   "cell_type": "markdown",
   "id": "0e79d34a-cdba-4039-85f7-3086f651d83a",
   "metadata": {},
   "source": [
    "While the model has already achieved a good evaluation score, the model is still using practically all the features that exist in the dataset. That means there is more calculation done when predicting the target variable, and the prediction is inefficient. As such, we need to reduce the dimension of the data used in the model by removing columns that only have a small impact on the model's predictive ability. We use the Cross Validated Recursive Feature Elimination to help eliminate the features that do not positively impact the model's prediction based on the scores outputted."
   ]
  },
  {
   "cell_type": "code",
   "execution_count": 218,
   "id": "83135185-651a-4091-aa09-bcc332de5b9e",
   "metadata": {},
   "outputs": [],
   "source": [
    "from sklearn.feature_selection import RFECV\n",
    "from sklearn.model_selection import KFold\n",
    "from sklearn.metrics import mean_squared_error"
   ]
  },
  {
   "cell_type": "code",
   "execution_count": 219,
   "id": "f6ff2ac3-9f5f-4380-81ec-cfcdf9ff323e",
   "metadata": {},
   "outputs": [
    {
     "name": "stdout",
     "output_type": "stream",
     "text": [
      "Optimal number of features : 29\n",
      "0.9278193199140706\n"
     ]
    }
   ],
   "source": [
    "min_features_to_select=1\n",
    "rfecv = RFECV(estimator=reg, step=1, cv=KFold(5), scoring='neg_root_mean_squared_error', min_features_to_select=min_features_to_select)\n",
    "rfecv.fit(X_train,y_train)\n",
    "print(\"Optimal number of features : %d\" % rfecv.n_features_)\n",
    "print(rfecv.score(X_train,y_train))"
   ]
  },
  {
   "cell_type": "code",
   "execution_count": 220,
   "id": "15016ddc-85d8-48a0-93bd-805870d54845",
   "metadata": {},
   "outputs": [
    {
     "name": "stdout",
     "output_type": "stream",
     "text": [
      "[0.96373565 0.8956323  0.88680676 0.8831409  0.88300946 0.88172106\n",
      " 0.83884697 0.76573521 0.719418   0.62608228 0.59017313 0.54376737\n",
      " 0.5215695  0.39947463 0.36264925 0.31792656 0.30744052 0.30065758\n",
      " 0.28815975 0.27693489 0.27466176 0.27440223 0.27428172 0.27396092\n",
      " 0.2732742  0.27336828 0.27231649 0.27208809 0.27129471 0.27168491\n",
      " 0.27168491]\n"
     ]
    }
   ],
   "source": [
    "print(abs(rfecv.grid_scores_))"
   ]
  },
  {
   "cell_type": "code",
   "execution_count": 289,
   "id": "93f8352a-1028-4666-be14-ae60a9f9e177",
   "metadata": {},
   "outputs": [
    {
     "data": {
      "image/png": "[encoded data removed]",
      "text/plain": [
       "<Figure size 432x288 with 1 Axes>"
      ]
     },
     "metadata": {},
     "output_type": "display_data"
    }
   ],
   "source": [
    "sns.set_theme(style='darkgrid', font_scale=1.25, context='notebook', palette='bright')\n",
    "\n",
    "plt.figure(figsize=(6,4))\n",
    "plt.suptitle('RMSE for Features Used', fontsize=20, y=1.05)\n",
    "plt.plot(range(min_features_to_select, len(rfecv.grid_scores_)+min_features_to_select), abs(rfecv.grid_scores_))\n",
    "labels('', 'Number of Features Used', 'RMSE score')\n",
    "plt.ylim([0,1])\n",
    "plt.show()"
   ]
  },
  {
   "cell_type": "code",
   "execution_count": 222,
   "id": "0f04d134-c6f8-4caf-9bce-46a913b0208d",
   "metadata": {},
   "outputs": [
    {
     "data": {
      "text/html": [
       "<div>\n",
       "<style scoped>\n",
       "    .dataframe tbody tr th:only-of-type {\n",
       "        vertical-align: middle;\n",
       "    }\n",
       "\n",
       "    .dataframe tbody tr th {\n",
       "        vertical-align: top;\n",
       "    }\n",
       "\n",
       "    .dataframe thead th {\n",
       "        text-align: right;\n",
       "    }\n",
       "</style>\n",
       "<table border=\"1\" class=\"dataframe\">\n",
       "  <thead>\n",
       "    <tr style=\"text-align: right;\">\n",
       "      <th></th>\n",
       "      <th>0</th>\n",
       "      <th>ranking</th>\n",
       "      <th>support</th>\n",
       "    </tr>\n",
       "  </thead>\n",
       "  <tbody>\n",
       "    <tr>\n",
       "      <th>11</th>\n",
       "      <td>model_GT86</td>\n",
       "      <td>3</td>\n",
       "      <td>False</td>\n",
       "    </tr>\n",
       "    <tr>\n",
       "      <th>23</th>\n",
       "      <td>transmission_Automatic</td>\n",
       "      <td>2</td>\n",
       "      <td>False</td>\n",
       "    </tr>\n",
       "  </tbody>\n",
       "</table>\n",
       "</div>"
      ],
      "text/plain": [
       "                         0  ranking  support\n",
       "11              model_GT86        3    False\n",
       "23  transmission_Automatic        2    False"
      ]
     },
     "execution_count": 222,
     "metadata": {},
     "output_type": "execute_result"
    }
   ],
   "source": [
    "features = pd.DataFrame(X_train.columns)\n",
    "features['ranking'] = rfecv.ranking_\n",
    "features['support'] = rfecv.support_.astype('bool')\n",
    "features[features['support'] == False]"
   ]
  },
  {
   "cell_type": "code",
   "execution_count": 223,
   "id": "e58359d7-58c3-4961-b42f-2baed6d5cbab",
   "metadata": {},
   "outputs": [
    {
     "data": {
      "text/plain": [
       "(5023, 29)"
      ]
     },
     "execution_count": 223,
     "metadata": {},
     "output_type": "execute_result"
    }
   ],
   "source": [
    "X_train_new = X_train[X_train.columns[rfecv.support_]]\n",
    "X_train_new.shape"
   ]
  },
  {
   "cell_type": "code",
   "execution_count": 224,
   "id": "1488bb56-8363-4d37-977e-d8074c1f9dcd",
   "metadata": {},
   "outputs": [
    {
     "data": {
      "text/plain": [
       "(1675, 29)"
      ]
     },
     "execution_count": 224,
     "metadata": {},
     "output_type": "execute_result"
    }
   ],
   "source": [
    "X_test_new = X_test[X_train.columns[rfecv.support_]]\n",
    "X_test_new.shape"
   ]
  },
  {
   "cell_type": "code",
   "execution_count": 225,
   "id": "a36dd261-dfc6-4a16-a714-9f6ab06e7b81",
   "metadata": {},
   "outputs": [
    {
     "name": "stdout",
     "output_type": "stream",
     "text": [
      "[0.24063041 0.29676593 0.30256862 0.25894769 0.25921224]\n",
      "0.2716249762783113\n"
     ]
    }
   ],
   "source": [
    "reg = LinearRegression()\n",
    "reg.fit(X_train_new,y_train)\n",
    "cv_results = cross_val_score(reg, X_train_new, y_train, scoring='neg_root_mean_squared_error', cv=5)\n",
    "print(abs(cv_results))\n",
    "print(abs(np.mean(cv_results)))"
   ]
  },
  {
   "cell_type": "markdown",
   "id": "7c17e772-2bee-4499-bf2b-222ebc7db8fa",
   "metadata": {},
   "source": [
    "Initially, after the feature engineering section, we had used 31 columns in total. With the reduced dimension, we now have 29 columns, with 2 columns reduced which are `model_GT86` and `transmission_Automatic`. Even then, the model is still able to achieve a great RMSE score. In the graph above where we visualized the number of features used and the RMSE scores achieved, we can see that even with just 20 variables, the model should still be able to achieve a RMSE score below 0.3, where a 0.4 RMSE square is already considered acceptable."
   ]
  },
  {
   "cell_type": "markdown",
   "id": "0d2276c2-87a3-47a9-9059-eb955d5d5a9f",
   "metadata": {},
   "source": [
    "## 5.3 Final Evaluation"
   ]
  },
  {
   "cell_type": "markdown",
   "id": "28ba8167-fc10-44d5-aec5-8597d44cd3bd",
   "metadata": {},
   "source": [
    "We have already determined that our model has good predictive ability based on its RMSE score on cross validation. For our final evaluation, we will finally use the model to explain the testing set. The result of the evaluation seen below show that the model also has a low Mean Absolute Error, a low Mean Squared Error, and a R-Squared close to 1, that altogether signal to a good prediction result done by our linear regression model."
   ]
  },
  {
   "cell_type": "code",
   "execution_count": 226,
   "id": "1b0dce87-e295-4794-82a1-80e520287689",
   "metadata": {},
   "outputs": [],
   "source": [
    "from sklearn import metrics\n",
    "def print_evaluate(true, pred):\n",
    "    mae = metrics.mean_absolute_error(true, pred)\n",
    "    mse = metrics.mean_squared_error(true, pred)\n",
    "    rmse = np.sqrt(metrics.mean_squared_error(true, pred))\n",
    "    r2 = metrics.r2_score(true, pred)\n",
    "    print(\"Mean Absolute Error : %f\" % mae)\n",
    "    print(\"Mean Squared Error : %f\" % mse)\n",
    "    print(\"Root Mean Absolute Error : %f\" % rmse)\n",
    "    print(\"R-Squared : %f\" % r2)\n",
    "#     return mae, mse, rmse, r2"
   ]
  },
  {
   "cell_type": "code",
   "execution_count": 227,
   "id": "83af8375-5efc-4fea-bf00-3f800c9e9530",
   "metadata": {},
   "outputs": [
    {
     "name": "stdout",
     "output_type": "stream",
     "text": [
      "Mean Absolute Error : 0.175891\n",
      "Mean Squared Error : 0.076460\n",
      "Root Mean Absolute Error : 0.276514\n",
      "R-Squared : 0.923540\n"
     ]
    }
   ],
   "source": [
    "y_pred = reg.predict(X_test_new)\n",
    "print_evaluate(y_test,y_pred)"
   ]
  },
  {
   "cell_type": "markdown",
   "id": "c6b5fd4a-e7b9-4fa6-8e60-31dd1af2b482",
   "metadata": {},
   "source": [
    "When plotting the predicted value and the actual value of prices, we also see a good line of best fit indicated by a positive correlation."
   ]
  },
  {
   "cell_type": "code",
   "execution_count": 290,
   "id": "dabb54e0-d9d3-41fc-aa7f-087510d169a7",
   "metadata": {},
   "outputs": [
    {
     "data": {
      "image/png": "[encoded data removed]",
      "text/plain": [
       "<Figure size 432x432 with 1 Axes>"
      ]
     },
     "metadata": {},
     "output_type": "display_data"
    }
   ],
   "source": [
    "plt.figure(figsize=(6,6))\n",
    "plt.suptitle('Prediction vs Actual', fontsize=20, y=0.98)\n",
    "sns.regplot(y_test, y_pred, marker='.')\n",
    "labels('', 'Actual', 'Predicted')\n",
    "plt.show()"
   ]
  },
  {
   "cell_type": "code",
   "execution_count": 229,
   "id": "a55e5ea4-02fb-44ad-9c3d-1cfa9632cbd6",
   "metadata": {
    "tags": []
   },
   "outputs": [
    {
     "name": "stdout",
     "output_type": "stream",
     "text": [
      "0.9587296154960188\n",
      "[ 0.26515402 -0.1794052  -0.04653299 -0.0248698   0.21154051 -0.90857169\n",
      " -0.72042164 -1.31726286 -0.05104919  0.16412538 -0.12048411  0.38382818\n",
      " -0.96848582  2.59386031  1.31612938 -0.14066261 -0.19060085  3.8240754\n",
      " -0.95656993 -0.73813586 -0.9888152  -1.1514441  -0.19036505  0.1438742\n",
      "  0.01238209 -0.29152055  0.18874831  0.15500333 -0.05223109]\n"
     ]
    }
   ],
   "source": [
    "print(reg.intercept_)\n",
    "print(reg.coef_)"
   ]
  },
  {
   "cell_type": "markdown",
   "id": "e8bc78be-a634-4711-b76e-2e02fd33c578",
   "metadata": {},
   "source": [
    "The formula of our final linear regression model is written as below."
   ]
  },
  {
   "cell_type": "code",
   "execution_count": 230,
   "id": "8b300af1-9ba6-4f63-8185-10afe4cc73e5",
   "metadata": {},
   "outputs": [
    {
     "name": "stdout",
     "output_type": "stream",
     "text": [
      "y_hat = (0.2651540172815917*year) + (-0.17940520338908858*mileage) + (-0.04653299193680081*tax) + (-0.024869799803269473*mpg) + (0.2115405101638497*engineSize) + (-0.9085716921678193*model_Auris) + (-0.7204216400041149*model_Avensis) + (-1.3172628646219469*model_Aygo) + (-0.05104918980564464*model_C-HR) + (0.16412538087009887*model_Camry) + (-0.12048411457882514*model_Corolla) + (0.3838281796465239*model_Hilux) + (-0.9684858194770936*model_IQ) + (2.5938603052933216*model_Land Cruiser) + (1.3161293791307533*model_PROACE VERSO) + (-0.1406626076736192*model_Prius) + (-0.19060085478617866*model_RAV4) + (3.8240753998909263*model_Supra) + (-0.9565699302781712*model_Urban Cruiser) + (-0.7381358644751473*model_Verso) + (-0.9888152038499867*model_Verso-S) + (-1.151444095729958*model_Yaris) + (-0.19036505346684146*transmission_Manual) + (0.14387419559406533*transmission_Other) + (0.012382091376479845*transmission_Semi-Auto) + (-0.2915205469849883*fuelType_Diesel) + (0.1887483079555975*fuelType_Hybrid) + (0.15500332598138006*fuelType_Other) + (-0.052231086951987735*fuelType_Petrol) + 0.9587296154960188\n"
     ]
    }
   ],
   "source": [
    "print('y_hat = ', end='')\n",
    "for i, x in enumerate(X_train_new.columns):\n",
    "    print('('+str(rfecv.estimator_.coef_[i])+'*'+str(x)+') + ', end='')\n",
    "print(rfecv.estimator_.intercept_)"
   ]
  },
  {
   "cell_type": "markdown",
   "id": "8dce4d5b-b328-4da4-b08b-b762bb04fd16",
   "metadata": {},
   "source": [
    "```\n",
    "y_hat = (0.2651540172815917*year) + (-0.17940520338908858*mileage) + (-0.04653299193680081*tax) + (-0.024869799803269473*mpg) + (0.2115405101638497*engineSize) + (-0.9085716921678193*model_Auris) + (-0.7204216400041149*model_Avensis) + (-1.3172628646219469*model_Aygo) + (-0.05104918980564464*model_C-HR) + (0.16412538087009887*model_Camry) + (-0.12048411457882514*model_Corolla) + (0.3838281796465239*model_Hilux) + (-0.9684858194770936*model_IQ) + (2.5938603052933216*model_Land Cruiser) + (1.3161293791307533*model_PROACE VERSO) + (-0.1406626076736192*model_Prius) + (-0.19060085478617866*model_RAV4) + (3.8240753998909263*model_Supra) + (-0.9565699302781712*model_Urban Cruiser) + (-0.7381358644751473*model_Verso) + (-0.9888152038499867*model_Verso-S) + (-1.151444095729958*model_Yaris) + (-0.19036505346684146*transmission_Manual) + (0.14387419559406533*transmission_Other) + (0.012382091376479845*transmission_Semi-Auto) + (-0.2915205469849883*fuelType_Diesel) + (0.1887483079555975*fuelType_Hybrid) + (0.15500332598138006*fuelType_Other) + (-0.052231086951987735*fuelType_Petrol) + 0.9587296154960188\n",
    "```"
   ]
  },
  {
   "cell_type": "markdown",
   "id": "050a2d06-cbbd-43ce-b020-b3c0e9a8ff80",
   "metadata": {},
   "source": [
    "# 6. Summary"
   ]
  },
  {
   "cell_type": "markdown",
   "id": "7a63b7e4-bc92-423c-9437-34cd4022b41c",
   "metadata": {},
   "source": [
    "As a result of our analysis, we were able to build a linear regression model that can accurately predict car prices, proven by the model evaluation scores. We can also see from the formula above how the variables interact with each other to predict our target variable by their coefficients -- certain model cars were more expensive will clearly have bigger coeffiecents and will then be affected by the transmission type and fuel type and other features involved in the formula. Ultimately, since we have already proven the accuracy and robustness of the prediction of our model, the model is guaranteed to be able to predict real world car prices just as well as it did with our testing set."
   ]
  },
  {
   "cell_type": "markdown",
   "id": "9b5ad667-03ce-48a4-b625-9546901ab017",
   "metadata": {},
   "source": [
    "## 6.1 Future Works"
   ]
  },
  {
   "cell_type": "markdown",
   "id": "f6290df8-559d-402d-b200-271359463e76",
   "metadata": {},
   "source": [
    "- Further deliberate the accuracy-simplicity trade off by removing more features\n",
    "- Test different models other than the Linear Regression to improve overall prediction\n",
    "- Check out other datasets that is not from Toyota (Toyota bias)"
   ]
  }
 ],
 "metadata": {
  "colab": {
   "name": "Welcome to DataCamp Workspaces.ipynb",
   "provenance": []
  },
  "kernelspec": {
   "display_name": "Python 3 (ipykernel)",
   "language": "python",
   "name": "python3"
  },
  "language_info": {
   "codemirror_mode": {
    "name": "ipython",
    "version": 3
   },
   "file_extension": ".py",
   "mimetype": "text/x-python",
   "name": "python",
   "nbconvert_exporter": "python",
   "pygments_lexer": "ipython3",
   "version": "3.8.10"
  }
 },
 "nbformat": 4,
 "nbformat_minor": 5
}
